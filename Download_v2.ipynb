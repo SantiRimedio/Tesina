{
 "cells": [
  {
   "cell_type": "code",
   "id": "7f720e7265fe3ab2",
   "metadata": {
    "ExecuteTime": {
     "end_time": "2024-09-29T18:22:30.277175Z",
     "start_time": "2024-09-29T18:22:25.103460Z"
    }
   },
   "source": [
    "import ee\n",
    "import geopandas as gpd\n",
    "import geemap\n",
    "import xarray as xr\n",
    "import wxee"
   ],
   "outputs": [],
   "execution_count": 1
  },
  {
   "cell_type": "code",
   "id": "initial_id",
   "metadata": {
    "ExecuteTime": {
     "end_time": "2024-09-29T18:22:30.636357Z",
     "start_time": "2024-09-29T18:22:30.279177Z"
    }
   },
   "source": [
    "ee.Authenticate()"
   ],
   "outputs": [
    {
     "data": {
      "text/plain": [
       "<IPython.core.display.HTML object>"
      ],
      "text/html": [
       "\n",
       "            <style>\n",
       "                .geemap-dark {\n",
       "                    --jp-widgets-color: white;\n",
       "                    --jp-widgets-label-color: white;\n",
       "                    --jp-ui-font-color1: white;\n",
       "                    --jp-layout-color2: #454545;\n",
       "                    background-color: #383838;\n",
       "                }\n",
       "\n",
       "                .geemap-dark .jupyter-button {\n",
       "                    --jp-layout-color3: #383838;\n",
       "                }\n",
       "\n",
       "                .geemap-colab {\n",
       "                    background-color: var(--colab-primary-surface-color, white);\n",
       "                }\n",
       "\n",
       "                .geemap-colab .jupyter-button {\n",
       "                    --jp-layout-color3: var(--colab-primary-surface-color, white);\n",
       "                }\n",
       "            </style>\n",
       "            "
      ]
     },
     "metadata": {},
     "output_type": "display_data"
    },
    {
     "data": {
      "text/plain": [
       "True"
      ]
     },
     "execution_count": 2,
     "metadata": {},
     "output_type": "execute_result"
    }
   ],
   "execution_count": 2
  },
  {
   "metadata": {
    "jupyter": {
     "is_executing": true
    },
    "ExecuteTime": {
     "start_time": "2024-09-29T18:22:30.637511Z"
    }
   },
   "cell_type": "code",
   "source": [
    "import ee\n",
    "import geemap\n",
    "import wxee\n",
    "import xarray as xr\n",
    "import time\n",
    "import os\n",
    "from tqdm import tqdm\n",
    "import json\n",
    "from concurrent.futures import ThreadPoolExecutor, TimeoutError\n",
    "\n",
    "ee.Initialize()\n",
    "\n",
    "CLASS_NAMES = ['water', 'trees', 'grass', 'flooded_vegetation', 'crops', 'shrub_and_scrub', 'built', 'bare', 'snow_and_ice']\n",
    "CLASS_NUMBER = ee.List.sequence(0, 8)\n",
    "\n",
    "def get_buenos_aires_feature():\n",
    "    provinces = ee.FeatureCollection(\"FAO/GAUL/2015/level1\")\n",
    "    exclude_provinces = ['Tierra Del Fuego', 'Santa Cruz', 'Neuquen', 'Chubut', 'Rio Negro']\n",
    "    exclude_filter = ee.Filter.Not(ee.Filter.inList('ADM1_NAME', exclude_provinces))\n",
    "    argentina_provinces = provinces.filter(ee.Filter.eq('ADM0_NAME', 'Argentina'))\n",
    "    filtered_provinces = argentina_provinces.filter(exclude_filter)\n",
    "    return filtered_provinces\n",
    "\n",
    "buenos_aires_feature = get_buenos_aires_feature()\n",
    "Argentina_geometry = buenos_aires_feature.geometry()\n",
    "\n",
    "# Create fishnet directly\n",
    "print(\"Creating fishnet...\")\n",
    "fishnet = geemap.fishnet(Argentina_geometry, rows=300, cols=120)\n",
    "print(\"Fishnet created.\")\n",
    "\n",
    "def compute_dominant_class(image):\n",
    "    filtered_image = image.select(CLASS_NAMES)\n",
    "    max_prob = filtered_image.reduce(ee.Reducer.max())\n",
    "    most_prob_class = max_prob.eq(filtered_image)\n",
    "    most_prob_class = most_prob_class.multiply(ee.Image.constant(CLASS_NUMBER))\n",
    "    dominant_class = most_prob_class.reduce(ee.Reducer.sum()).rename('dominant_class')\n",
    "    return dominant_class.uint8().copyProperties(image, ['system:time_start'])\n",
    "\n",
    "def ensure_time_property(image):\n",
    "    time_start = image.get('system:time_start')\n",
    "    if time_start is None:\n",
    "        year = image.get('year')\n",
    "        if year is not None:\n",
    "            time_start = ee.Date.fromYMD(year, 1, 1).millis()\n",
    "            return image.set('system:time_start', time_start)\n",
    "    if time_start is None:\n",
    "        default_time = ee.Date('2000-01-01').millis()\n",
    "        return image.set('system:time_start', default_time)\n",
    "    return image\n",
    "\n",
    "def process_grid_cell(i, aoi):\n",
    "    print(f\"Processing grid cell {i}\")\n",
    "    try:\n",
    "        dw_filtered = wxee.TimeSeries(\"GOOGLE/DYNAMICWORLD/V1\").filterDate(\"2014\", \"2026\").filterBounds(aoi)\n",
    "        def clip_image(image):\n",
    "            return image.clip(aoi).copyProperties(image, ['system:time_start'])\n",
    "        dw_filtered = dw_filtered.map(clip_image)\n",
    "        yearly_ts = dw_filtered.aggregate_time(\n",
    "            frequency=\"year\",\n",
    "            reducer=ee.Reducer.mean()\n",
    "        )\n",
    "        yearly_ts = yearly_ts.map(ensure_time_property)\n",
    "        yearly_dominant_class = yearly_ts.map(compute_dominant_class)\n",
    "\n",
    "        ds = yearly_dominant_class.wx.to_xarray(region=aoi, scale=10)\n",
    "\n",
    "        ds = ds.fillna(-1)\n",
    "        ds = ds.clip(min=0, max=8)\n",
    "        ds[\"dominant_class\"] = ds[\"dominant_class\"].astype(\"uint8\")\n",
    "        ds[\"x\"] = ds[\"x\"].astype(\"float32\")\n",
    "        ds[\"y\"] = ds[\"y\"].astype(\"float32\")\n",
    "        ds[\"time\"] = ds[\"time\"].dt.strftime(\"%Y\")\n",
    "\n",
    "        output_dir = \"D:\\\\Factor-Data\\\\Tesina\\\\Tesina\\\\Definitivo\"\n",
    "        os.makedirs(output_dir, exist_ok=True)\n",
    "\n",
    "        # Add compression settings\n",
    "        encoding = {\"dominant_class\": {\"zlib\": True, \"complevel\": 5}}\n",
    "\n",
    "        ds.to_netcdf(os.path.join(output_dir, f\"dominant_class_array_{i}.nc\"), encoding=encoding)\n",
    "\n",
    "        print(f\"Completed processing grid cell {i}\")\n",
    "        return True\n",
    "    except Exception as e:\n",
    "        print(f\"Error processing grid cell {i}: {str(e)}\")\n",
    "        return False\n",
    "\n",
    "def process_with_timeout(i, aoi, timeout=1200):  # 20 minutes timeout\n",
    "    with ThreadPoolExecutor(max_workers=1) as executor:\n",
    "        future = executor.submit(process_grid_cell, i, aoi)\n",
    "        try:\n",
    "            return future.result(timeout=timeout)\n",
    "        except TimeoutError:\n",
    "            print(f\"Timeout occurred for grid cell {i}\")\n",
    "            return False\n",
    "        except Exception as e:\n",
    "            print(f\"Error processing grid cell {i}: {str(e)}\")\n",
    "            return False\n",
    "\n",
    "def load_progress(filename):\n",
    "    if os.path.exists(filename):\n",
    "        with open(filename, 'r') as f:\n",
    "            return json.load(f)\n",
    "    return {'last_processed': -1, 'failed_cells': []}\n",
    "\n",
    "def save_progress(filename, progress):\n",
    "    with open(filename, 'w') as f:\n",
    "        json.dump(progress, f)\n",
    "\n",
    "def main():\n",
    "    batch_size = 5\n",
    "    total_cells = fishnet.size().getInfo()\n",
    "    progress_file = 'processing_progress.json'\n",
    "    progress = load_progress(progress_file)\n",
    "\n",
    "    pbar = tqdm(total=total_cells, initial=progress['last_processed'] + 1, desc=\"Processing grid cells\")\n",
    "\n",
    "    try:\n",
    "        for batch_start in range(progress['last_processed'] + 1, total_cells, batch_size):\n",
    "            batch_end = min(batch_start + batch_size, total_cells)\n",
    "            batch_success_count = 0\n",
    "\n",
    "            for i in range(batch_start, batch_end):\n",
    "                if i in progress['failed_cells']:\n",
    "                    continue\n",
    "                aoi = ee.Feature(fishnet.toList(fishnet.size()).get(i).getInfo()).geometry()\n",
    "                success = process_with_timeout(i, aoi)\n",
    "                if success:\n",
    "                    batch_success_count += 1\n",
    "                    progress['last_processed'] = i\n",
    "                else:\n",
    "                    progress['failed_cells'].append(i)\n",
    "                save_progress(progress_file, progress)\n",
    "\n",
    "            pbar.update(batch_success_count)\n",
    "            tqdm.write(f\"Completed batch {batch_start}-{batch_end-1}\")\n",
    "            time.sleep(60)  # Wait for 60 seconds between batches\n",
    "\n",
    "    except Exception as e:\n",
    "        tqdm.write(f\"An error occurred in the main loop: {str(e)}\")\n",
    "    finally:\n",
    "        pbar.close()\n",
    "\n",
    "    tqdm.write(\"Processing complete!\")\n",
    "    if progress['failed_cells']:\n",
    "        tqdm.write(f\"Failed cells: {progress['failed_cells']}\")\n",
    "\n",
    "if __name__ == \"__main__\":\n",
    "    main()"
   ],
   "id": "7ed5bc6505a71edd",
   "outputs": [
    {
     "data": {
      "text/plain": [
       "<IPython.core.display.HTML object>"
      ],
      "text/html": [
       "\n",
       "            <style>\n",
       "                .geemap-dark {\n",
       "                    --jp-widgets-color: white;\n",
       "                    --jp-widgets-label-color: white;\n",
       "                    --jp-ui-font-color1: white;\n",
       "                    --jp-layout-color2: #454545;\n",
       "                    background-color: #383838;\n",
       "                }\n",
       "\n",
       "                .geemap-dark .jupyter-button {\n",
       "                    --jp-layout-color3: #383838;\n",
       "                }\n",
       "\n",
       "                .geemap-colab {\n",
       "                    background-color: var(--colab-primary-surface-color, white);\n",
       "                }\n",
       "\n",
       "                .geemap-colab .jupyter-button {\n",
       "                    --jp-layout-color3: var(--colab-primary-surface-color, white);\n",
       "                }\n",
       "            </style>\n",
       "            "
      ]
     },
     "metadata": {},
     "output_type": "display_data"
    },
    {
     "name": "stdout",
     "output_type": "stream",
     "text": [
      "Creating fishnet...\n",
      "Fishnet created.\n"
     ]
    },
    {
     "name": "stderr",
     "output_type": "stream",
     "text": [
      "Processing grid cells:   1%|          | 180/21410 [00:00<?, ?it/s]"
     ]
    },
    {
     "name": "stdout",
     "output_type": "stream",
     "text": [
      "Processing grid cell 182\n"
     ]
    },
    {
     "data": {
      "text/plain": [
       "Requesting data:   0%|          | 0/10 [00:00<?, ?it/s]"
      ],
      "application/vnd.jupyter.widget-view+json": {
       "version_major": 2,
       "version_minor": 0,
       "model_id": "a8d419cfc4b4408695631dc9b07f3b97"
      }
     },
     "metadata": {},
     "output_type": "display_data"
    },
    {
     "data": {
      "text/plain": [
       "Downloading data:   0%|          | 0/10 [00:00<?, ?it/s]"
      ],
      "application/vnd.jupyter.widget-view+json": {
       "version_major": 2,
       "version_minor": 0,
       "model_id": "9f411a6a1d5f43ca9343fe33fa653aeb"
      }
     },
     "metadata": {},
     "output_type": "display_data"
    },
    {
     "name": "stdout",
     "output_type": "stream",
     "text": [
      "Error processing grid cell 182: 400 Client Error: Bad Request for url: https://earthengine.googleapis.com/v1/projects/earthengine-legacy/thumbnails/6c21760c8467d6267a999fc8f0be3626-54b835d052453e3457851ba44d1e87c0:getPixels\n",
      "Processing grid cell 183\n"
     ]
    },
    {
     "data": {
      "text/plain": [
       "Requesting data:   0%|          | 0/10 [00:00<?, ?it/s]"
      ],
      "application/vnd.jupyter.widget-view+json": {
       "version_major": 2,
       "version_minor": 0,
       "model_id": "1aa91f8f7ad34923991accb1bb9c9f87"
      }
     },
     "metadata": {},
     "output_type": "display_data"
    },
    {
     "data": {
      "text/plain": [
       "Downloading data:   0%|          | 0/10 [00:00<?, ?it/s]"
      ],
      "application/vnd.jupyter.widget-view+json": {
       "version_major": 2,
       "version_minor": 0,
       "model_id": "73f1b0825a2f42d6a58963793c15c435"
      }
     },
     "metadata": {},
     "output_type": "display_data"
    },
    {
     "name": "stdout",
     "output_type": "stream",
     "text": [
      "Completed processing grid cell 183\n",
      "Processing grid cell 184\n"
     ]
    },
    {
     "data": {
      "text/plain": [
       "Requesting data:   0%|          | 0/10 [00:00<?, ?it/s]"
      ],
      "application/vnd.jupyter.widget-view+json": {
       "version_major": 2,
       "version_minor": 0,
       "model_id": "6191791d8b59416f9debd82ec35e414f"
      }
     },
     "metadata": {},
     "output_type": "display_data"
    },
    {
     "data": {
      "text/plain": [
       "Downloading data:   0%|          | 0/10 [00:00<?, ?it/s]"
      ],
      "application/vnd.jupyter.widget-view+json": {
       "version_major": 2,
       "version_minor": 0,
       "model_id": "fdc1c612268448e2b5dfb0f93c53a9d6"
      }
     },
     "metadata": {},
     "output_type": "display_data"
    },
    {
     "name": "stderr",
     "output_type": "stream",
     "text": [
      "Processing grid cells:   1%|          | 182/21410 [09:56<1757:56:40, 298.13s/it]"
     ]
    },
    {
     "name": "stdout",
     "output_type": "stream",
     "text": [
      "Completed processing grid cell 184\n",
      "Completed batch 180-184\n",
      "Processing grid cell 185\n"
     ]
    },
    {
     "data": {
      "text/plain": [
       "Requesting data:   0%|          | 0/10 [00:00<?, ?it/s]"
      ],
      "application/vnd.jupyter.widget-view+json": {
       "version_major": 2,
       "version_minor": 0,
       "model_id": "2976074b5580433886fbdf88238043d0"
      }
     },
     "metadata": {},
     "output_type": "display_data"
    },
    {
     "data": {
      "text/plain": [
       "Downloading data:   0%|          | 0/10 [00:00<?, ?it/s]"
      ],
      "application/vnd.jupyter.widget-view+json": {
       "version_major": 2,
       "version_minor": 0,
       "model_id": "2abf0c8a071a487ba8a4475a34bd0c7c"
      }
     },
     "metadata": {},
     "output_type": "display_data"
    },
    {
     "name": "stdout",
     "output_type": "stream",
     "text": [
      "Completed processing grid cell 185\n",
      "Processing grid cell 186\n"
     ]
    },
    {
     "data": {
      "text/plain": [
       "Requesting data:   0%|          | 0/10 [00:00<?, ?it/s]"
      ],
      "application/vnd.jupyter.widget-view+json": {
       "version_major": 2,
       "version_minor": 0,
       "model_id": "8c0575192aa5428a97cfde1f26567eb6"
      }
     },
     "metadata": {},
     "output_type": "display_data"
    },
    {
     "data": {
      "text/plain": [
       "Downloading data:   0%|          | 0/10 [00:00<?, ?it/s]"
      ],
      "application/vnd.jupyter.widget-view+json": {
       "version_major": 2,
       "version_minor": 0,
       "model_id": "c89c2afec90e45a193eed77e93bca025"
      }
     },
     "metadata": {},
     "output_type": "display_data"
    },
    {
     "name": "stdout",
     "output_type": "stream",
     "text": [
      "Completed processing grid cell 186\n",
      "Processing grid cell 187\n"
     ]
    },
    {
     "data": {
      "text/plain": [
       "Requesting data:   0%|          | 0/10 [00:00<?, ?it/s]"
      ],
      "application/vnd.jupyter.widget-view+json": {
       "version_major": 2,
       "version_minor": 0,
       "model_id": "fb786251717a4faf9958fd30bda40351"
      }
     },
     "metadata": {},
     "output_type": "display_data"
    },
    {
     "data": {
      "text/plain": [
       "Downloading data:   0%|          | 0/10 [00:00<?, ?it/s]"
      ],
      "application/vnd.jupyter.widget-view+json": {
       "version_major": 2,
       "version_minor": 0,
       "model_id": "99c101597a45408db4c8c2e52e1412e0"
      }
     },
     "metadata": {},
     "output_type": "display_data"
    },
    {
     "name": "stdout",
     "output_type": "stream",
     "text": [
      "Completed processing grid cell 187\n",
      "Processing grid cell 188\n"
     ]
    },
    {
     "data": {
      "text/plain": [
       "Requesting data:   0%|          | 0/10 [00:00<?, ?it/s]"
      ],
      "application/vnd.jupyter.widget-view+json": {
       "version_major": 2,
       "version_minor": 0,
       "model_id": "f39ab0beb12e45e28b9f1a409f19d27f"
      }
     },
     "metadata": {},
     "output_type": "display_data"
    },
    {
     "data": {
      "text/plain": [
       "Downloading data:   0%|          | 0/10 [00:00<?, ?it/s]"
      ],
      "application/vnd.jupyter.widget-view+json": {
       "version_major": 2,
       "version_minor": 0,
       "model_id": "11671b3e68604bd9bce1b3a591796340"
      }
     },
     "metadata": {},
     "output_type": "display_data"
    },
    {
     "name": "stdout",
     "output_type": "stream",
     "text": [
      "Completed processing grid cell 188\n",
      "Processing grid cell 189\n"
     ]
    },
    {
     "data": {
      "text/plain": [
       "Requesting data:   0%|          | 0/10 [00:00<?, ?it/s]"
      ],
      "application/vnd.jupyter.widget-view+json": {
       "version_major": 2,
       "version_minor": 0,
       "model_id": "3746109e73f44999a57205bc0520b5ee"
      }
     },
     "metadata": {},
     "output_type": "display_data"
    },
    {
     "data": {
      "text/plain": [
       "Downloading data:   0%|          | 0/10 [00:00<?, ?it/s]"
      ],
      "application/vnd.jupyter.widget-view+json": {
       "version_major": 2,
       "version_minor": 0,
       "model_id": "ca4469efb38442888af368edfcec8f77"
      }
     },
     "metadata": {},
     "output_type": "display_data"
    },
    {
     "name": "stderr",
     "output_type": "stream",
     "text": [
      "Processing grid cells:   1%|          | 187/21410 [29:39<1473:57:53, 250.02s/it]"
     ]
    },
    {
     "name": "stdout",
     "output_type": "stream",
     "text": [
      "Completed processing grid cell 189\n",
      "Completed batch 185-189\n",
      "Processing grid cell 190\n"
     ]
    },
    {
     "data": {
      "text/plain": [
       "Requesting data:   0%|          | 0/10 [00:00<?, ?it/s]"
      ],
      "application/vnd.jupyter.widget-view+json": {
       "version_major": 2,
       "version_minor": 0,
       "model_id": "745dce825718495b8bcab6730f9e8aa2"
      }
     },
     "metadata": {},
     "output_type": "display_data"
    },
    {
     "data": {
      "text/plain": [
       "Downloading data:   0%|          | 0/10 [00:00<?, ?it/s]"
      ],
      "application/vnd.jupyter.widget-view+json": {
       "version_major": 2,
       "version_minor": 0,
       "model_id": "434749df9bf041588111a016d4c693c1"
      }
     },
     "metadata": {},
     "output_type": "display_data"
    },
    {
     "name": "stdout",
     "output_type": "stream",
     "text": [
      "Completed processing grid cell 190\n",
      "Processing grid cell 191\n"
     ]
    },
    {
     "data": {
      "text/plain": [
       "Requesting data:   0%|          | 0/10 [00:00<?, ?it/s]"
      ],
      "application/vnd.jupyter.widget-view+json": {
       "version_major": 2,
       "version_minor": 0,
       "model_id": "9d325b5eb157470ab9f0253ae04e5e1b"
      }
     },
     "metadata": {},
     "output_type": "display_data"
    },
    {
     "data": {
      "text/plain": [
       "Downloading data:   0%|          | 0/10 [00:00<?, ?it/s]"
      ],
      "application/vnd.jupyter.widget-view+json": {
       "version_major": 2,
       "version_minor": 0,
       "model_id": "c63506f0d51c4dc29ae7fdf0457da77e"
      }
     },
     "metadata": {},
     "output_type": "display_data"
    },
    {
     "name": "stdout",
     "output_type": "stream",
     "text": [
      "Completed processing grid cell 191\n",
      "Processing grid cell 192\n"
     ]
    },
    {
     "data": {
      "text/plain": [
       "Requesting data:   0%|          | 0/10 [00:00<?, ?it/s]"
      ],
      "application/vnd.jupyter.widget-view+json": {
       "version_major": 2,
       "version_minor": 0,
       "model_id": "1573112c13f54a8391bbe3f810e5e579"
      }
     },
     "metadata": {},
     "output_type": "display_data"
    },
    {
     "data": {
      "text/plain": [
       "Downloading data:   0%|          | 0/10 [00:00<?, ?it/s]"
      ],
      "application/vnd.jupyter.widget-view+json": {
       "version_major": 2,
       "version_minor": 0,
       "model_id": "b9fe7b95f5ab455687e11dede686a6ba"
      }
     },
     "metadata": {},
     "output_type": "display_data"
    },
    {
     "name": "stdout",
     "output_type": "stream",
     "text": [
      "Completed processing grid cell 192\n",
      "Processing grid cell 193\n"
     ]
    },
    {
     "data": {
      "text/plain": [
       "Requesting data:   0%|          | 0/10 [00:00<?, ?it/s]"
      ],
      "application/vnd.jupyter.widget-view+json": {
       "version_major": 2,
       "version_minor": 0,
       "model_id": "7b87eeeee6904c44867b7aef460d2558"
      }
     },
     "metadata": {},
     "output_type": "display_data"
    },
    {
     "data": {
      "text/plain": [
       "Downloading data:   0%|          | 0/10 [00:00<?, ?it/s]"
      ],
      "application/vnd.jupyter.widget-view+json": {
       "version_major": 2,
       "version_minor": 0,
       "model_id": "f1c8bc44477141f3bdb2ddd84c6a08aa"
      }
     },
     "metadata": {},
     "output_type": "display_data"
    },
    {
     "name": "stdout",
     "output_type": "stream",
     "text": [
      "Completed processing grid cell 193\n",
      "Processing grid cell 194\n"
     ]
    },
    {
     "data": {
      "text/plain": [
       "Requesting data:   0%|          | 0/10 [00:00<?, ?it/s]"
      ],
      "application/vnd.jupyter.widget-view+json": {
       "version_major": 2,
       "version_minor": 0,
       "model_id": "a37ef2c7db83455a8a14f2e997de6cd7"
      }
     },
     "metadata": {},
     "output_type": "display_data"
    },
    {
     "data": {
      "text/plain": [
       "Downloading data:   0%|          | 0/10 [00:00<?, ?it/s]"
      ],
      "application/vnd.jupyter.widget-view+json": {
       "version_major": 2,
       "version_minor": 0,
       "model_id": "24ddb965c77849978aa9a46ea9575901"
      }
     },
     "metadata": {},
     "output_type": "display_data"
    },
    {
     "name": "stderr",
     "output_type": "stream",
     "text": [
      "Processing grid cells:   1%|          | 192/21410 [49:43<1445:21:16, 245.23s/it]"
     ]
    },
    {
     "name": "stdout",
     "output_type": "stream",
     "text": [
      "Completed processing grid cell 194\n",
      "Completed batch 190-194\n",
      "Processing grid cell 195\n"
     ]
    },
    {
     "data": {
      "text/plain": [
       "Requesting data:   0%|          | 0/10 [00:00<?, ?it/s]"
      ],
      "application/vnd.jupyter.widget-view+json": {
       "version_major": 2,
       "version_minor": 0,
       "model_id": "e130605cf4e64ba5b4f586b732e74e7c"
      }
     },
     "metadata": {},
     "output_type": "display_data"
    },
    {
     "data": {
      "text/plain": [
       "Downloading data:   0%|          | 0/10 [00:00<?, ?it/s]"
      ],
      "application/vnd.jupyter.widget-view+json": {
       "version_major": 2,
       "version_minor": 0,
       "model_id": "1692f68b4c774e68970503e5ba36cf45"
      }
     },
     "metadata": {},
     "output_type": "display_data"
    },
    {
     "name": "stdout",
     "output_type": "stream",
     "text": [
      "Completed processing grid cell 195\n",
      "Processing grid cell 196\n"
     ]
    },
    {
     "data": {
      "text/plain": [
       "Requesting data:   0%|          | 0/10 [00:00<?, ?it/s]"
      ],
      "application/vnd.jupyter.widget-view+json": {
       "version_major": 2,
       "version_minor": 0,
       "model_id": "6d94ae3e7c85417983928fd149b1df47"
      }
     },
     "metadata": {},
     "output_type": "display_data"
    },
    {
     "data": {
      "text/plain": [
       "Downloading data:   0%|          | 0/10 [00:00<?, ?it/s]"
      ],
      "application/vnd.jupyter.widget-view+json": {
       "version_major": 2,
       "version_minor": 0,
       "model_id": "68863c3e25444b62920b396ff5d91a57"
      }
     },
     "metadata": {},
     "output_type": "display_data"
    },
    {
     "name": "stdout",
     "output_type": "stream",
     "text": [
      "Completed processing grid cell 196\n",
      "Processing grid cell 197\n"
     ]
    },
    {
     "data": {
      "text/plain": [
       "Requesting data:   0%|          | 0/10 [00:00<?, ?it/s]"
      ],
      "application/vnd.jupyter.widget-view+json": {
       "version_major": 2,
       "version_minor": 0,
       "model_id": "7f5f5074f5374d718fba0135815ab00e"
      }
     },
     "metadata": {},
     "output_type": "display_data"
    },
    {
     "data": {
      "text/plain": [
       "Downloading data:   0%|          | 0/10 [00:00<?, ?it/s]"
      ],
      "application/vnd.jupyter.widget-view+json": {
       "version_major": 2,
       "version_minor": 0,
       "model_id": "3cd70166cc0440c2bea98cf275c2d13a"
      }
     },
     "metadata": {},
     "output_type": "display_data"
    },
    {
     "name": "stdout",
     "output_type": "stream",
     "text": [
      "Completed processing grid cell 197\n",
      "Processing grid cell 198\n"
     ]
    },
    {
     "data": {
      "text/plain": [
       "Requesting data:   0%|          | 0/10 [00:00<?, ?it/s]"
      ],
      "application/vnd.jupyter.widget-view+json": {
       "version_major": 2,
       "version_minor": 0,
       "model_id": "a6b8d0ffbc9743abb66557298b51e320"
      }
     },
     "metadata": {},
     "output_type": "display_data"
    },
    {
     "data": {
      "text/plain": [
       "Downloading data:   0%|          | 0/10 [00:00<?, ?it/s]"
      ],
      "application/vnd.jupyter.widget-view+json": {
       "version_major": 2,
       "version_minor": 0,
       "model_id": "04fd2f1be22e44b0a382ac2f6c96a61d"
      }
     },
     "metadata": {},
     "output_type": "display_data"
    },
    {
     "name": "stdout",
     "output_type": "stream",
     "text": [
      "Completed processing grid cell 198\n",
      "Processing grid cell 199\n"
     ]
    },
    {
     "data": {
      "text/plain": [
       "Requesting data:   0%|          | 0/10 [00:00<?, ?it/s]"
      ],
      "application/vnd.jupyter.widget-view+json": {
       "version_major": 2,
       "version_minor": 0,
       "model_id": "0cfbabf2fc214216b1913fd8cd8af6ea"
      }
     },
     "metadata": {},
     "output_type": "display_data"
    },
    {
     "data": {
      "text/plain": [
       "Downloading data:   0%|          | 0/10 [00:00<?, ?it/s]"
      ],
      "application/vnd.jupyter.widget-view+json": {
       "version_major": 2,
       "version_minor": 0,
       "model_id": "7f777cfd21054bd892198a21e180c27a"
      }
     },
     "metadata": {},
     "output_type": "display_data"
    },
    {
     "name": "stderr",
     "output_type": "stream",
     "text": [
      "Processing grid cells:   1%|          | 197/21410 [1:08:54<1407:02:56, 238.79s/it]"
     ]
    },
    {
     "name": "stdout",
     "output_type": "stream",
     "text": [
      "Completed processing grid cell 199\n",
      "Completed batch 195-199\n",
      "Processing grid cell 200\n"
     ]
    },
    {
     "data": {
      "text/plain": [
       "Requesting data:   0%|          | 0/10 [00:00<?, ?it/s]"
      ],
      "application/vnd.jupyter.widget-view+json": {
       "version_major": 2,
       "version_minor": 0,
       "model_id": "2aabf596ee814b9c965d3f7c940b0485"
      }
     },
     "metadata": {},
     "output_type": "display_data"
    },
    {
     "data": {
      "text/plain": [
       "Downloading data:   0%|          | 0/10 [00:00<?, ?it/s]"
      ],
      "application/vnd.jupyter.widget-view+json": {
       "version_major": 2,
       "version_minor": 0,
       "model_id": "e09175bd82d54eec979e683ea312aedd"
      }
     },
     "metadata": {},
     "output_type": "display_data"
    },
    {
     "name": "stdout",
     "output_type": "stream",
     "text": [
      "Completed processing grid cell 200\n",
      "Processing grid cell 201\n"
     ]
    },
    {
     "data": {
      "text/plain": [
       "Requesting data:   0%|          | 0/10 [00:00<?, ?it/s]"
      ],
      "application/vnd.jupyter.widget-view+json": {
       "version_major": 2,
       "version_minor": 0,
       "model_id": "193a17643be34a6c91493535cde92ea0"
      }
     },
     "metadata": {},
     "output_type": "display_data"
    },
    {
     "data": {
      "text/plain": [
       "Downloading data:   0%|          | 0/10 [00:00<?, ?it/s]"
      ],
      "application/vnd.jupyter.widget-view+json": {
       "version_major": 2,
       "version_minor": 0,
       "model_id": "d98bfe44646e42dc86697a6c668a774e"
      }
     },
     "metadata": {},
     "output_type": "display_data"
    },
    {
     "name": "stdout",
     "output_type": "stream",
     "text": [
      "Completed processing grid cell 201\n",
      "Processing grid cell 202\n"
     ]
    },
    {
     "data": {
      "text/plain": [
       "Requesting data:   0%|          | 0/10 [00:00<?, ?it/s]"
      ],
      "application/vnd.jupyter.widget-view+json": {
       "version_major": 2,
       "version_minor": 0,
       "model_id": "fb244e53abde4807b12e279c945db399"
      }
     },
     "metadata": {},
     "output_type": "display_data"
    },
    {
     "data": {
      "text/plain": [
       "Downloading data:   0%|          | 0/10 [00:00<?, ?it/s]"
      ],
      "application/vnd.jupyter.widget-view+json": {
       "version_major": 2,
       "version_minor": 0,
       "model_id": "961e7e7c33c643ba9ab2001d1d6fd5fd"
      }
     },
     "metadata": {},
     "output_type": "display_data"
    },
    {
     "name": "stdout",
     "output_type": "stream",
     "text": [
      "Completed processing grid cell 202\n",
      "Processing grid cell 203\n"
     ]
    },
    {
     "data": {
      "text/plain": [
       "Requesting data:   0%|          | 0/10 [00:00<?, ?it/s]"
      ],
      "application/vnd.jupyter.widget-view+json": {
       "version_major": 2,
       "version_minor": 0,
       "model_id": "276f41b7b40e4139bafb1b0b560a1c66"
      }
     },
     "metadata": {},
     "output_type": "display_data"
    },
    {
     "data": {
      "text/plain": [
       "Downloading data:   0%|          | 0/10 [00:00<?, ?it/s]"
      ],
      "application/vnd.jupyter.widget-view+json": {
       "version_major": 2,
       "version_minor": 0,
       "model_id": "2cd4511d8d3148ff910ed8ddf996ebe8"
      }
     },
     "metadata": {},
     "output_type": "display_data"
    },
    {
     "name": "stdout",
     "output_type": "stream",
     "text": [
      "Completed processing grid cell 203\n",
      "Processing grid cell 204\n"
     ]
    },
    {
     "data": {
      "text/plain": [
       "Requesting data:   0%|          | 0/10 [00:00<?, ?it/s]"
      ],
      "application/vnd.jupyter.widget-view+json": {
       "version_major": 2,
       "version_minor": 0,
       "model_id": "45c3d9b5a9544b3da9cda1994acee069"
      }
     },
     "metadata": {},
     "output_type": "display_data"
    },
    {
     "data": {
      "text/plain": [
       "Downloading data:   0%|          | 0/10 [00:00<?, ?it/s]"
      ],
      "application/vnd.jupyter.widget-view+json": {
       "version_major": 2,
       "version_minor": 0,
       "model_id": "4dc06593710b459186d41a7eebc6c8ed"
      }
     },
     "metadata": {},
     "output_type": "display_data"
    },
    {
     "name": "stderr",
     "output_type": "stream",
     "text": [
      "Processing grid cells:   1%|          | 202/21410 [1:27:46<1378:53:55, 234.06s/it]"
     ]
    },
    {
     "name": "stdout",
     "output_type": "stream",
     "text": [
      "Completed processing grid cell 204\n",
      "Completed batch 200-204\n",
      "Processing grid cell 205\n"
     ]
    },
    {
     "data": {
      "text/plain": [
       "Requesting data:   0%|          | 0/10 [00:00<?, ?it/s]"
      ],
      "application/vnd.jupyter.widget-view+json": {
       "version_major": 2,
       "version_minor": 0,
       "model_id": "5e497c89a0e34871843a07d4989c29bc"
      }
     },
     "metadata": {},
     "output_type": "display_data"
    },
    {
     "data": {
      "text/plain": [
       "Downloading data:   0%|          | 0/10 [00:00<?, ?it/s]"
      ],
      "application/vnd.jupyter.widget-view+json": {
       "version_major": 2,
       "version_minor": 0,
       "model_id": "b3c2c7a674de41bb8c2c27128c6e7338"
      }
     },
     "metadata": {},
     "output_type": "display_data"
    },
    {
     "name": "stdout",
     "output_type": "stream",
     "text": [
      "Completed processing grid cell 205\n",
      "Processing grid cell 206\n"
     ]
    },
    {
     "data": {
      "text/plain": [
       "Requesting data:   0%|          | 0/10 [00:00<?, ?it/s]"
      ],
      "application/vnd.jupyter.widget-view+json": {
       "version_major": 2,
       "version_minor": 0,
       "model_id": "ca2edf58a3664b7095acb186d24576dc"
      }
     },
     "metadata": {},
     "output_type": "display_data"
    },
    {
     "data": {
      "text/plain": [
       "Downloading data:   0%|          | 0/10 [00:00<?, ?it/s]"
      ],
      "application/vnd.jupyter.widget-view+json": {
       "version_major": 2,
       "version_minor": 0,
       "model_id": "4e935fdcb5144284a1143ab1ac717b09"
      }
     },
     "metadata": {},
     "output_type": "display_data"
    },
    {
     "name": "stdout",
     "output_type": "stream",
     "text": [
      "Completed processing grid cell 206\n",
      "Processing grid cell 207\n"
     ]
    },
    {
     "data": {
      "text/plain": [
       "Requesting data:   0%|          | 0/10 [00:00<?, ?it/s]"
      ],
      "application/vnd.jupyter.widget-view+json": {
       "version_major": 2,
       "version_minor": 0,
       "model_id": "e244dd5d14c243539edf474d151eb4be"
      }
     },
     "metadata": {},
     "output_type": "display_data"
    },
    {
     "data": {
      "text/plain": [
       "Downloading data:   0%|          | 0/10 [00:00<?, ?it/s]"
      ],
      "application/vnd.jupyter.widget-view+json": {
       "version_major": 2,
       "version_minor": 0,
       "model_id": "c864ebc1314344cfb9fa7c3f61f42e6b"
      }
     },
     "metadata": {},
     "output_type": "display_data"
    },
    {
     "name": "stdout",
     "output_type": "stream",
     "text": [
      "Completed processing grid cell 207\n",
      "Processing grid cell 208\n"
     ]
    },
    {
     "data": {
      "text/plain": [
       "Requesting data:   0%|          | 0/10 [00:00<?, ?it/s]"
      ],
      "application/vnd.jupyter.widget-view+json": {
       "version_major": 2,
       "version_minor": 0,
       "model_id": "30b98b0d60404e56ba20d7fb2d16ccad"
      }
     },
     "metadata": {},
     "output_type": "display_data"
    },
    {
     "data": {
      "text/plain": [
       "Downloading data:   0%|          | 0/10 [00:00<?, ?it/s]"
      ],
      "application/vnd.jupyter.widget-view+json": {
       "version_major": 2,
       "version_minor": 0,
       "model_id": "3d21f8053ac949ecb92a3fb3ba7870ff"
      }
     },
     "metadata": {},
     "output_type": "display_data"
    },
    {
     "name": "stdout",
     "output_type": "stream",
     "text": [
      "Completed processing grid cell 208\n",
      "Processing grid cell 209\n"
     ]
    },
    {
     "data": {
      "text/plain": [
       "Requesting data:   0%|          | 0/10 [00:00<?, ?it/s]"
      ],
      "application/vnd.jupyter.widget-view+json": {
       "version_major": 2,
       "version_minor": 0,
       "model_id": "1f9f18034e604ca5b8d41d18a56d9d90"
      }
     },
     "metadata": {},
     "output_type": "display_data"
    },
    {
     "data": {
      "text/plain": [
       "Downloading data:   0%|          | 0/10 [00:00<?, ?it/s]"
      ],
      "application/vnd.jupyter.widget-view+json": {
       "version_major": 2,
       "version_minor": 0,
       "model_id": "cf4a01cf3a5443cba9a279b6d10b55fa"
      }
     },
     "metadata": {},
     "output_type": "display_data"
    },
    {
     "name": "stderr",
     "output_type": "stream",
     "text": [
      "Processing grid cells:   1%|          | 207/21410 [1:45:27<1332:59:10, 226.32s/it]"
     ]
    },
    {
     "name": "stdout",
     "output_type": "stream",
     "text": [
      "Completed processing grid cell 209\n",
      "Completed batch 205-209\n",
      "Processing grid cell 210\n"
     ]
    },
    {
     "data": {
      "text/plain": [
       "Requesting data:   0%|          | 0/10 [00:00<?, ?it/s]"
      ],
      "application/vnd.jupyter.widget-view+json": {
       "version_major": 2,
       "version_minor": 0,
       "model_id": "f862d3505cf44dea85852240cdd985ce"
      }
     },
     "metadata": {},
     "output_type": "display_data"
    },
    {
     "data": {
      "text/plain": [
       "Downloading data:   0%|          | 0/10 [00:00<?, ?it/s]"
      ],
      "application/vnd.jupyter.widget-view+json": {
       "version_major": 2,
       "version_minor": 0,
       "model_id": "7c04d19cf41d4ad69e4751a2c096ea9d"
      }
     },
     "metadata": {},
     "output_type": "display_data"
    },
    {
     "name": "stdout",
     "output_type": "stream",
     "text": [
      "Completed processing grid cell 210\n",
      "Processing grid cell 211\n"
     ]
    },
    {
     "data": {
      "text/plain": [
       "Requesting data:   0%|          | 0/10 [00:00<?, ?it/s]"
      ],
      "application/vnd.jupyter.widget-view+json": {
       "version_major": 2,
       "version_minor": 0,
       "model_id": "12bbf1efb33345fb99a88a081722b69b"
      }
     },
     "metadata": {},
     "output_type": "display_data"
    },
    {
     "data": {
      "text/plain": [
       "Downloading data:   0%|          | 0/10 [00:00<?, ?it/s]"
      ],
      "application/vnd.jupyter.widget-view+json": {
       "version_major": 2,
       "version_minor": 0,
       "model_id": "7ca4f65888444907a35583272ddd74e4"
      }
     },
     "metadata": {},
     "output_type": "display_data"
    },
    {
     "name": "stdout",
     "output_type": "stream",
     "text": [
      "Completed processing grid cell 211\n",
      "Processing grid cell 212\n"
     ]
    },
    {
     "data": {
      "text/plain": [
       "Requesting data:   0%|          | 0/10 [00:00<?, ?it/s]"
      ],
      "application/vnd.jupyter.widget-view+json": {
       "version_major": 2,
       "version_minor": 0,
       "model_id": "4681d722e462493888773b37904ef310"
      }
     },
     "metadata": {},
     "output_type": "display_data"
    },
    {
     "data": {
      "text/plain": [
       "Downloading data:   0%|          | 0/10 [00:00<?, ?it/s]"
      ],
      "application/vnd.jupyter.widget-view+json": {
       "version_major": 2,
       "version_minor": 0,
       "model_id": "cd158a2ad67a4c179555317039e7bf85"
      }
     },
     "metadata": {},
     "output_type": "display_data"
    },
    {
     "name": "stdout",
     "output_type": "stream",
     "text": [
      "Completed processing grid cell 212\n",
      "Processing grid cell 213\n"
     ]
    },
    {
     "data": {
      "text/plain": [
       "Requesting data:   0%|          | 0/10 [00:00<?, ?it/s]"
      ],
      "application/vnd.jupyter.widget-view+json": {
       "version_major": 2,
       "version_minor": 0,
       "model_id": "bf4930e6a458430cadd20725a9bc24f1"
      }
     },
     "metadata": {},
     "output_type": "display_data"
    },
    {
     "data": {
      "text/plain": [
       "Downloading data:   0%|          | 0/10 [00:00<?, ?it/s]"
      ],
      "application/vnd.jupyter.widget-view+json": {
       "version_major": 2,
       "version_minor": 0,
       "model_id": "e507517d9b9d49e8a6805df81c1269ea"
      }
     },
     "metadata": {},
     "output_type": "display_data"
    },
    {
     "name": "stdout",
     "output_type": "stream",
     "text": [
      "Completed processing grid cell 213\n",
      "Processing grid cell 214\n"
     ]
    },
    {
     "data": {
      "text/plain": [
       "Requesting data:   0%|          | 0/10 [00:00<?, ?it/s]"
      ],
      "application/vnd.jupyter.widget-view+json": {
       "version_major": 2,
       "version_minor": 0,
       "model_id": "9ecc736f792b468fb0da63c770459bdb"
      }
     },
     "metadata": {},
     "output_type": "display_data"
    },
    {
     "data": {
      "text/plain": [
       "Downloading data:   0%|          | 0/10 [00:00<?, ?it/s]"
      ],
      "application/vnd.jupyter.widget-view+json": {
       "version_major": 2,
       "version_minor": 0,
       "model_id": "c846f2f5b8ce4377be1b21fc837982ad"
      }
     },
     "metadata": {},
     "output_type": "display_data"
    },
    {
     "name": "stderr",
     "output_type": "stream",
     "text": [
      "Processing grid cells:   1%|          | 212/21410 [2:03:04<1303:24:09, 221.35s/it]"
     ]
    },
    {
     "name": "stdout",
     "output_type": "stream",
     "text": [
      "Completed processing grid cell 214\n",
      "Completed batch 210-214\n",
      "Processing grid cell 215\n"
     ]
    },
    {
     "data": {
      "text/plain": [
       "Requesting data:   0%|          | 0/10 [00:00<?, ?it/s]"
      ],
      "application/vnd.jupyter.widget-view+json": {
       "version_major": 2,
       "version_minor": 0,
       "model_id": "6e792d20c2974dfa9a1548b98b5987a6"
      }
     },
     "metadata": {},
     "output_type": "display_data"
    },
    {
     "data": {
      "text/plain": [
       "Downloading data:   0%|          | 0/10 [00:00<?, ?it/s]"
      ],
      "application/vnd.jupyter.widget-view+json": {
       "version_major": 2,
       "version_minor": 0,
       "model_id": "0584e19e91fc450fb933dfdbad32d16f"
      }
     },
     "metadata": {},
     "output_type": "display_data"
    },
    {
     "name": "stdout",
     "output_type": "stream",
     "text": [
      "Completed processing grid cell 215\n",
      "Processing grid cell 216\n"
     ]
    },
    {
     "data": {
      "text/plain": [
       "Requesting data:   0%|          | 0/10 [00:00<?, ?it/s]"
      ],
      "application/vnd.jupyter.widget-view+json": {
       "version_major": 2,
       "version_minor": 0,
       "model_id": "4a6dcfc8da8f4c679bd9e2587e3255b5"
      }
     },
     "metadata": {},
     "output_type": "display_data"
    },
    {
     "data": {
      "text/plain": [
       "Downloading data:   0%|          | 0/10 [00:00<?, ?it/s]"
      ],
      "application/vnd.jupyter.widget-view+json": {
       "version_major": 2,
       "version_minor": 0,
       "model_id": "bc8d5f54c1044ceda222e64b94dc2125"
      }
     },
     "metadata": {},
     "output_type": "display_data"
    },
    {
     "name": "stdout",
     "output_type": "stream",
     "text": [
      "Completed processing grid cell 216\n",
      "Processing grid cell 217\n"
     ]
    },
    {
     "data": {
      "text/plain": [
       "Requesting data:   0%|          | 0/10 [00:00<?, ?it/s]"
      ],
      "application/vnd.jupyter.widget-view+json": {
       "version_major": 2,
       "version_minor": 0,
       "model_id": "47203b0b35094f339bb538951ee8b9ac"
      }
     },
     "metadata": {},
     "output_type": "display_data"
    },
    {
     "data": {
      "text/plain": [
       "Downloading data:   0%|          | 0/10 [00:00<?, ?it/s]"
      ],
      "application/vnd.jupyter.widget-view+json": {
       "version_major": 2,
       "version_minor": 0,
       "model_id": "7291f7c64b2d445bae6a3510340856af"
      }
     },
     "metadata": {},
     "output_type": "display_data"
    },
    {
     "name": "stdout",
     "output_type": "stream",
     "text": [
      "Completed processing grid cell 217\n",
      "Processing grid cell 218\n"
     ]
    },
    {
     "data": {
      "text/plain": [
       "Requesting data:   0%|          | 0/10 [00:00<?, ?it/s]"
      ],
      "application/vnd.jupyter.widget-view+json": {
       "version_major": 2,
       "version_minor": 0,
       "model_id": "9d64b0d7f256428385e62e9ba5eefb5b"
      }
     },
     "metadata": {},
     "output_type": "display_data"
    },
    {
     "data": {
      "text/plain": [
       "Downloading data:   0%|          | 0/10 [00:00<?, ?it/s]"
      ],
      "application/vnd.jupyter.widget-view+json": {
       "version_major": 2,
       "version_minor": 0,
       "model_id": "23722596ee37403fba4d27ea73d7f686"
      }
     },
     "metadata": {},
     "output_type": "display_data"
    },
    {
     "name": "stdout",
     "output_type": "stream",
     "text": [
      "Completed processing grid cell 218\n",
      "Processing grid cell 219\n"
     ]
    },
    {
     "data": {
      "text/plain": [
       "Requesting data:   0%|          | 0/10 [00:00<?, ?it/s]"
      ],
      "application/vnd.jupyter.widget-view+json": {
       "version_major": 2,
       "version_minor": 0,
       "model_id": "19f44619fb1a44bd8a8e8e80bba9fe29"
      }
     },
     "metadata": {},
     "output_type": "display_data"
    },
    {
     "data": {
      "text/plain": [
       "Downloading data:   0%|          | 0/10 [00:00<?, ?it/s]"
      ],
      "application/vnd.jupyter.widget-view+json": {
       "version_major": 2,
       "version_minor": 0,
       "model_id": "5a16a2dae6484f87acd6a977b4cfeda6"
      }
     },
     "metadata": {},
     "output_type": "display_data"
    },
    {
     "name": "stderr",
     "output_type": "stream",
     "text": [
      "Processing grid cells:   1%|          | 217/21410 [2:21:40<1306:43:04, 221.97s/it]"
     ]
    },
    {
     "name": "stdout",
     "output_type": "stream",
     "text": [
      "Completed processing grid cell 219\n",
      "Completed batch 215-219\n",
      "Processing grid cell 220\n"
     ]
    },
    {
     "data": {
      "text/plain": [
       "Requesting data:   0%|          | 0/10 [00:00<?, ?it/s]"
      ],
      "application/vnd.jupyter.widget-view+json": {
       "version_major": 2,
       "version_minor": 0,
       "model_id": "196c9ac676c84d0d934a5f6b5cf1614c"
      }
     },
     "metadata": {},
     "output_type": "display_data"
    },
    {
     "data": {
      "text/plain": [
       "Downloading data:   0%|          | 0/10 [00:00<?, ?it/s]"
      ],
      "application/vnd.jupyter.widget-view+json": {
       "version_major": 2,
       "version_minor": 0,
       "model_id": "1682d037a24f4e1a803ef6826a87d381"
      }
     },
     "metadata": {},
     "output_type": "display_data"
    },
    {
     "name": "stdout",
     "output_type": "stream",
     "text": [
      "Completed processing grid cell 220\n",
      "Processing grid cell 221\n"
     ]
    },
    {
     "data": {
      "text/plain": [
       "Requesting data:   0%|          | 0/10 [00:00<?, ?it/s]"
      ],
      "application/vnd.jupyter.widget-view+json": {
       "version_major": 2,
       "version_minor": 0,
       "model_id": "2109ce59369d415497aeb7489e16f1db"
      }
     },
     "metadata": {},
     "output_type": "display_data"
    },
    {
     "data": {
      "text/plain": [
       "Downloading data:   0%|          | 0/10 [00:00<?, ?it/s]"
      ],
      "application/vnd.jupyter.widget-view+json": {
       "version_major": 2,
       "version_minor": 0,
       "model_id": "730e30a6356541feb8b59d377416bd6b"
      }
     },
     "metadata": {},
     "output_type": "display_data"
    },
    {
     "name": "stdout",
     "output_type": "stream",
     "text": [
      "Completed processing grid cell 221\n",
      "Processing grid cell 222\n"
     ]
    },
    {
     "data": {
      "text/plain": [
       "Requesting data:   0%|          | 0/10 [00:00<?, ?it/s]"
      ],
      "application/vnd.jupyter.widget-view+json": {
       "version_major": 2,
       "version_minor": 0,
       "model_id": "adfe2615a8b342ac94d79e225b2fdb39"
      }
     },
     "metadata": {},
     "output_type": "display_data"
    },
    {
     "data": {
      "text/plain": [
       "Downloading data:   0%|          | 0/10 [00:00<?, ?it/s]"
      ],
      "application/vnd.jupyter.widget-view+json": {
       "version_major": 2,
       "version_minor": 0,
       "model_id": "51ab879f3d7348d8afcb3aee6dbc0a23"
      }
     },
     "metadata": {},
     "output_type": "display_data"
    },
    {
     "name": "stdout",
     "output_type": "stream",
     "text": [
      "Completed processing grid cell 222\n",
      "Processing grid cell 223\n"
     ]
    },
    {
     "data": {
      "text/plain": [
       "Requesting data:   0%|          | 0/10 [00:00<?, ?it/s]"
      ],
      "application/vnd.jupyter.widget-view+json": {
       "version_major": 2,
       "version_minor": 0,
       "model_id": "687003ab1d1646f098ec01e5fdc3bc7e"
      }
     },
     "metadata": {},
     "output_type": "display_data"
    },
    {
     "data": {
      "text/plain": [
       "Downloading data:   0%|          | 0/10 [00:00<?, ?it/s]"
      ],
      "application/vnd.jupyter.widget-view+json": {
       "version_major": 2,
       "version_minor": 0,
       "model_id": "a724c175e2d24af7be9950331c67fdaf"
      }
     },
     "metadata": {},
     "output_type": "display_data"
    },
    {
     "name": "stdout",
     "output_type": "stream",
     "text": [
      "Completed processing grid cell 223\n",
      "Processing grid cell 224\n"
     ]
    },
    {
     "data": {
      "text/plain": [
       "Requesting data:   0%|          | 0/10 [00:00<?, ?it/s]"
      ],
      "application/vnd.jupyter.widget-view+json": {
       "version_major": 2,
       "version_minor": 0,
       "model_id": "9f561f6aa0274c64a879b45319dac30d"
      }
     },
     "metadata": {},
     "output_type": "display_data"
    },
    {
     "data": {
      "text/plain": [
       "Downloading data:   0%|          | 0/10 [00:00<?, ?it/s]"
      ],
      "application/vnd.jupyter.widget-view+json": {
       "version_major": 2,
       "version_minor": 0,
       "model_id": "a392fbb27cb54e8ba327b6ee619bc113"
      }
     },
     "metadata": {},
     "output_type": "display_data"
    },
    {
     "name": "stderr",
     "output_type": "stream",
     "text": [
      "Processing grid cells:   1%|          | 222/21410 [2:39:19<1287:20:16, 218.73s/it]"
     ]
    },
    {
     "name": "stdout",
     "output_type": "stream",
     "text": [
      "Completed processing grid cell 224\n",
      "Completed batch 220-224\n",
      "Processing grid cell 225\n"
     ]
    },
    {
     "data": {
      "text/plain": [
       "Requesting data:   0%|          | 0/10 [00:00<?, ?it/s]"
      ],
      "application/vnd.jupyter.widget-view+json": {
       "version_major": 2,
       "version_minor": 0,
       "model_id": "a4a1c0a71ac447698657ec248efe886b"
      }
     },
     "metadata": {},
     "output_type": "display_data"
    },
    {
     "data": {
      "text/plain": [
       "Downloading data:   0%|          | 0/10 [00:00<?, ?it/s]"
      ],
      "application/vnd.jupyter.widget-view+json": {
       "version_major": 2,
       "version_minor": 0,
       "model_id": "a3c358b95f8a4cec89b33891fad0c670"
      }
     },
     "metadata": {},
     "output_type": "display_data"
    },
    {
     "name": "stdout",
     "output_type": "stream",
     "text": [
      "Completed processing grid cell 225\n",
      "Processing grid cell 226\n"
     ]
    },
    {
     "data": {
      "text/plain": [
       "Requesting data:   0%|          | 0/10 [00:00<?, ?it/s]"
      ],
      "application/vnd.jupyter.widget-view+json": {
       "version_major": 2,
       "version_minor": 0,
       "model_id": "450d54874a494c70b1cd5d52cbc18116"
      }
     },
     "metadata": {},
     "output_type": "display_data"
    },
    {
     "data": {
      "text/plain": [
       "Downloading data:   0%|          | 0/10 [00:00<?, ?it/s]"
      ],
      "application/vnd.jupyter.widget-view+json": {
       "version_major": 2,
       "version_minor": 0,
       "model_id": "1620d5d75ece4724874315e3d0986b02"
      }
     },
     "metadata": {},
     "output_type": "display_data"
    },
    {
     "name": "stdout",
     "output_type": "stream",
     "text": [
      "Completed processing grid cell 226\n",
      "Processing grid cell 227\n"
     ]
    },
    {
     "data": {
      "text/plain": [
       "Requesting data:   0%|          | 0/10 [00:00<?, ?it/s]"
      ],
      "application/vnd.jupyter.widget-view+json": {
       "version_major": 2,
       "version_minor": 0,
       "model_id": "f11312866ec54a529e01e4bcd360b526"
      }
     },
     "metadata": {},
     "output_type": "display_data"
    },
    {
     "data": {
      "text/plain": [
       "Downloading data:   0%|          | 0/10 [00:00<?, ?it/s]"
      ],
      "application/vnd.jupyter.widget-view+json": {
       "version_major": 2,
       "version_minor": 0,
       "model_id": "d0ecb6c2e7e146b9b60555a8587702a0"
      }
     },
     "metadata": {},
     "output_type": "display_data"
    },
    {
     "name": "stdout",
     "output_type": "stream",
     "text": [
      "Completed processing grid cell 227\n",
      "Processing grid cell 228\n"
     ]
    },
    {
     "data": {
      "text/plain": [
       "Requesting data:   0%|          | 0/10 [00:00<?, ?it/s]"
      ],
      "application/vnd.jupyter.widget-view+json": {
       "version_major": 2,
       "version_minor": 0,
       "model_id": "e6bfca64824840b59109480797e72f40"
      }
     },
     "metadata": {},
     "output_type": "display_data"
    },
    {
     "data": {
      "text/plain": [
       "Downloading data:   0%|          | 0/10 [00:00<?, ?it/s]"
      ],
      "application/vnd.jupyter.widget-view+json": {
       "version_major": 2,
       "version_minor": 0,
       "model_id": "cf5ecafa7ad9425fa7b303cf00cf6b1c"
      }
     },
     "metadata": {},
     "output_type": "display_data"
    },
    {
     "name": "stdout",
     "output_type": "stream",
     "text": [
      "Completed processing grid cell 228\n",
      "Processing grid cell 229\n"
     ]
    },
    {
     "data": {
      "text/plain": [
       "Requesting data:   0%|          | 0/10 [00:00<?, ?it/s]"
      ],
      "application/vnd.jupyter.widget-view+json": {
       "version_major": 2,
       "version_minor": 0,
       "model_id": "acfcc7bdbbcc40a18c248e6a21be8009"
      }
     },
     "metadata": {},
     "output_type": "display_data"
    },
    {
     "data": {
      "text/plain": [
       "Downloading data:   0%|          | 0/10 [00:00<?, ?it/s]"
      ],
      "application/vnd.jupyter.widget-view+json": {
       "version_major": 2,
       "version_minor": 0,
       "model_id": "042838c6c88041c586a8635a961ab7eb"
      }
     },
     "metadata": {},
     "output_type": "display_data"
    },
    {
     "name": "stderr",
     "output_type": "stream",
     "text": [
      "Processing grid cells:   1%|          | 227/21410 [2:57:47<1292:20:39, 219.63s/it]"
     ]
    },
    {
     "name": "stdout",
     "output_type": "stream",
     "text": [
      "Completed processing grid cell 229\n",
      "Completed batch 225-229\n",
      "Processing grid cell 230\n"
     ]
    },
    {
     "data": {
      "text/plain": [
       "Requesting data:   0%|          | 0/10 [00:00<?, ?it/s]"
      ],
      "application/vnd.jupyter.widget-view+json": {
       "version_major": 2,
       "version_minor": 0,
       "model_id": "f9c61bad727c44aca5ce7e2ffc578578"
      }
     },
     "metadata": {},
     "output_type": "display_data"
    },
    {
     "data": {
      "text/plain": [
       "Downloading data:   0%|          | 0/10 [00:00<?, ?it/s]"
      ],
      "application/vnd.jupyter.widget-view+json": {
       "version_major": 2,
       "version_minor": 0,
       "model_id": "87df86f88aee4a47a31def202399d0b0"
      }
     },
     "metadata": {},
     "output_type": "display_data"
    },
    {
     "name": "stdout",
     "output_type": "stream",
     "text": [
      "Completed processing grid cell 230\n",
      "Processing grid cell 231\n"
     ]
    },
    {
     "data": {
      "text/plain": [
       "Requesting data:   0%|          | 0/10 [00:00<?, ?it/s]"
      ],
      "application/vnd.jupyter.widget-view+json": {
       "version_major": 2,
       "version_minor": 0,
       "model_id": "f0aa1ae8b9114040ba4f816a6f590861"
      }
     },
     "metadata": {},
     "output_type": "display_data"
    },
    {
     "data": {
      "text/plain": [
       "Downloading data:   0%|          | 0/10 [00:00<?, ?it/s]"
      ],
      "application/vnd.jupyter.widget-view+json": {
       "version_major": 2,
       "version_minor": 0,
       "model_id": "cbd115bee08e4a9c9b3682bce9fe0d15"
      }
     },
     "metadata": {},
     "output_type": "display_data"
    },
    {
     "name": "stdout",
     "output_type": "stream",
     "text": [
      "Completed processing grid cell 231\n",
      "Processing grid cell 232\n"
     ]
    },
    {
     "data": {
      "text/plain": [
       "Requesting data:   0%|          | 0/10 [00:00<?, ?it/s]"
      ],
      "application/vnd.jupyter.widget-view+json": {
       "version_major": 2,
       "version_minor": 0,
       "model_id": "ed460b582bc44b3ca1921b5c5435168d"
      }
     },
     "metadata": {},
     "output_type": "display_data"
    },
    {
     "data": {
      "text/plain": [
       "Downloading data:   0%|          | 0/10 [00:00<?, ?it/s]"
      ],
      "application/vnd.jupyter.widget-view+json": {
       "version_major": 2,
       "version_minor": 0,
       "model_id": "cde7ef976f7f43438db7f6d1f04fe204"
      }
     },
     "metadata": {},
     "output_type": "display_data"
    },
    {
     "name": "stdout",
     "output_type": "stream",
     "text": [
      "Completed processing grid cell 232\n",
      "Processing grid cell 233\n"
     ]
    },
    {
     "data": {
      "text/plain": [
       "Requesting data:   0%|          | 0/10 [00:00<?, ?it/s]"
      ],
      "application/vnd.jupyter.widget-view+json": {
       "version_major": 2,
       "version_minor": 0,
       "model_id": "d8da4397dddb4a7380c820cbd00dfbd4"
      }
     },
     "metadata": {},
     "output_type": "display_data"
    },
    {
     "data": {
      "text/plain": [
       "Downloading data:   0%|          | 0/10 [00:00<?, ?it/s]"
      ],
      "application/vnd.jupyter.widget-view+json": {
       "version_major": 2,
       "version_minor": 0,
       "model_id": "bbdd04c8db8f4630be51c8cc44bd6298"
      }
     },
     "metadata": {},
     "output_type": "display_data"
    },
    {
     "name": "stdout",
     "output_type": "stream",
     "text": [
      "Completed processing grid cell 233\n",
      "Processing grid cell 234\n"
     ]
    },
    {
     "data": {
      "text/plain": [
       "Requesting data:   0%|          | 0/10 [00:00<?, ?it/s]"
      ],
      "application/vnd.jupyter.widget-view+json": {
       "version_major": 2,
       "version_minor": 0,
       "model_id": "bb92fe28494b4d2baa8326c7ca81a96c"
      }
     },
     "metadata": {},
     "output_type": "display_data"
    },
    {
     "data": {
      "text/plain": [
       "Downloading data:   0%|          | 0/10 [00:00<?, ?it/s]"
      ],
      "application/vnd.jupyter.widget-view+json": {
       "version_major": 2,
       "version_minor": 0,
       "model_id": "a9955449ef524be695c9baadc5bdd442"
      }
     },
     "metadata": {},
     "output_type": "display_data"
    },
    {
     "name": "stderr",
     "output_type": "stream",
     "text": [
      "Processing grid cells:   1%|          | 232/21410 [3:16:01<1290:42:29, 219.40s/it]"
     ]
    },
    {
     "name": "stdout",
     "output_type": "stream",
     "text": [
      "Completed processing grid cell 234\n",
      "Completed batch 230-234\n",
      "Processing grid cell 235\n"
     ]
    },
    {
     "data": {
      "text/plain": [
       "Requesting data:   0%|          | 0/10 [00:00<?, ?it/s]"
      ],
      "application/vnd.jupyter.widget-view+json": {
       "version_major": 2,
       "version_minor": 0,
       "model_id": "53ab80bd22264f048a9fc994a08cbdfc"
      }
     },
     "metadata": {},
     "output_type": "display_data"
    },
    {
     "data": {
      "text/plain": [
       "Downloading data:   0%|          | 0/10 [00:00<?, ?it/s]"
      ],
      "application/vnd.jupyter.widget-view+json": {
       "version_major": 2,
       "version_minor": 0,
       "model_id": "4f70f3f074a741b78c09bb2d9d231f9c"
      }
     },
     "metadata": {},
     "output_type": "display_data"
    },
    {
     "name": "stdout",
     "output_type": "stream",
     "text": [
      "Completed processing grid cell 235\n",
      "Processing grid cell 236\n"
     ]
    },
    {
     "data": {
      "text/plain": [
       "Requesting data:   0%|          | 0/10 [00:00<?, ?it/s]"
      ],
      "application/vnd.jupyter.widget-view+json": {
       "version_major": 2,
       "version_minor": 0,
       "model_id": "aa8b549cbc40453c91173a1b267015ee"
      }
     },
     "metadata": {},
     "output_type": "display_data"
    },
    {
     "data": {
      "text/plain": [
       "Downloading data:   0%|          | 0/10 [00:00<?, ?it/s]"
      ],
      "application/vnd.jupyter.widget-view+json": {
       "version_major": 2,
       "version_minor": 0,
       "model_id": "d7675e3b005a42a790e4bbefe752f91a"
      }
     },
     "metadata": {},
     "output_type": "display_data"
    },
    {
     "name": "stdout",
     "output_type": "stream",
     "text": [
      "Completed processing grid cell 236\n",
      "Processing grid cell 237\n"
     ]
    },
    {
     "data": {
      "text/plain": [
       "Requesting data:   0%|          | 0/10 [00:00<?, ?it/s]"
      ],
      "application/vnd.jupyter.widget-view+json": {
       "version_major": 2,
       "version_minor": 0,
       "model_id": "d8dec1fed9014e4a82630066a7d400e1"
      }
     },
     "metadata": {},
     "output_type": "display_data"
    },
    {
     "data": {
      "text/plain": [
       "Downloading data:   0%|          | 0/10 [00:00<?, ?it/s]"
      ],
      "application/vnd.jupyter.widget-view+json": {
       "version_major": 2,
       "version_minor": 0,
       "model_id": "b1bd5641763844aa844be45834efe7c5"
      }
     },
     "metadata": {},
     "output_type": "display_data"
    },
    {
     "name": "stdout",
     "output_type": "stream",
     "text": [
      "Completed processing grid cell 237\n",
      "Processing grid cell 238\n"
     ]
    },
    {
     "data": {
      "text/plain": [
       "Requesting data:   0%|          | 0/10 [00:00<?, ?it/s]"
      ],
      "application/vnd.jupyter.widget-view+json": {
       "version_major": 2,
       "version_minor": 0,
       "model_id": "e553b7b95cad4fb58d3676d0fc9fb6f1"
      }
     },
     "metadata": {},
     "output_type": "display_data"
    },
    {
     "data": {
      "text/plain": [
       "Downloading data:   0%|          | 0/10 [00:00<?, ?it/s]"
      ],
      "application/vnd.jupyter.widget-view+json": {
       "version_major": 2,
       "version_minor": 0,
       "model_id": "44b441352b1b47e78465703b36e74ee2"
      }
     },
     "metadata": {},
     "output_type": "display_data"
    },
    {
     "name": "stdout",
     "output_type": "stream",
     "text": [
      "Completed processing grid cell 238\n",
      "Processing grid cell 239\n"
     ]
    },
    {
     "data": {
      "text/plain": [
       "Requesting data:   0%|          | 0/10 [00:00<?, ?it/s]"
      ],
      "application/vnd.jupyter.widget-view+json": {
       "version_major": 2,
       "version_minor": 0,
       "model_id": "b4cb40e639ab4a98ae76f7a6490528dd"
      }
     },
     "metadata": {},
     "output_type": "display_data"
    },
    {
     "data": {
      "text/plain": [
       "Downloading data:   0%|          | 0/10 [00:00<?, ?it/s]"
      ],
      "application/vnd.jupyter.widget-view+json": {
       "version_major": 2,
       "version_minor": 0,
       "model_id": "47f61c7a62bc48dab5e1758e205518c3"
      }
     },
     "metadata": {},
     "output_type": "display_data"
    },
    {
     "name": "stderr",
     "output_type": "stream",
     "text": [
      "Processing grid cells:   1%|          | 237/21410 [3:34:55<1303:31:35, 221.64s/it]"
     ]
    },
    {
     "name": "stdout",
     "output_type": "stream",
     "text": [
      "Completed processing grid cell 239\n",
      "Completed batch 235-239\n",
      "Processing grid cell 240\n"
     ]
    },
    {
     "data": {
      "text/plain": [
       "Requesting data:   0%|          | 0/10 [00:00<?, ?it/s]"
      ],
      "application/vnd.jupyter.widget-view+json": {
       "version_major": 2,
       "version_minor": 0,
       "model_id": "48f03d4346b547b2a048222b2515969c"
      }
     },
     "metadata": {},
     "output_type": "display_data"
    },
    {
     "data": {
      "text/plain": [
       "Downloading data:   0%|          | 0/10 [00:00<?, ?it/s]"
      ],
      "application/vnd.jupyter.widget-view+json": {
       "version_major": 2,
       "version_minor": 0,
       "model_id": "c173fa6ccf8b40a194f22599433bd903"
      }
     },
     "metadata": {},
     "output_type": "display_data"
    },
    {
     "name": "stdout",
     "output_type": "stream",
     "text": [
      "Completed processing grid cell 240\n",
      "Processing grid cell 241\n"
     ]
    },
    {
     "data": {
      "text/plain": [
       "Requesting data:   0%|          | 0/10 [00:00<?, ?it/s]"
      ],
      "application/vnd.jupyter.widget-view+json": {
       "version_major": 2,
       "version_minor": 0,
       "model_id": "48061f11539342ada08316f012a21c59"
      }
     },
     "metadata": {},
     "output_type": "display_data"
    },
    {
     "data": {
      "text/plain": [
       "Downloading data:   0%|          | 0/10 [00:00<?, ?it/s]"
      ],
      "application/vnd.jupyter.widget-view+json": {
       "version_major": 2,
       "version_minor": 0,
       "model_id": "378e26566d694092b0d5b867bd8c841c"
      }
     },
     "metadata": {},
     "output_type": "display_data"
    },
    {
     "name": "stdout",
     "output_type": "stream",
     "text": [
      "Completed processing grid cell 241\n",
      "Processing grid cell 242\n"
     ]
    },
    {
     "data": {
      "text/plain": [
       "Requesting data:   0%|          | 0/10 [00:00<?, ?it/s]"
      ],
      "application/vnd.jupyter.widget-view+json": {
       "version_major": 2,
       "version_minor": 0,
       "model_id": "9b40df0b302e4953bb415003f624222d"
      }
     },
     "metadata": {},
     "output_type": "display_data"
    },
    {
     "data": {
      "text/plain": [
       "Downloading data:   0%|          | 0/10 [00:00<?, ?it/s]"
      ],
      "application/vnd.jupyter.widget-view+json": {
       "version_major": 2,
       "version_minor": 0,
       "model_id": "52ae164d76f84b8cbb37488ae2ad97a0"
      }
     },
     "metadata": {},
     "output_type": "display_data"
    },
    {
     "name": "stdout",
     "output_type": "stream",
     "text": [
      "Completed processing grid cell 242\n",
      "Processing grid cell 243\n"
     ]
    },
    {
     "data": {
      "text/plain": [
       "Requesting data:   0%|          | 0/10 [00:00<?, ?it/s]"
      ],
      "application/vnd.jupyter.widget-view+json": {
       "version_major": 2,
       "version_minor": 0,
       "model_id": "e3f665f8c5e54c06adefff0582d2aac9"
      }
     },
     "metadata": {},
     "output_type": "display_data"
    },
    {
     "data": {
      "text/plain": [
       "Downloading data:   0%|          | 0/10 [00:00<?, ?it/s]"
      ],
      "application/vnd.jupyter.widget-view+json": {
       "version_major": 2,
       "version_minor": 0,
       "model_id": "477664afbeea4f1284b0ce5720b0b66c"
      }
     },
     "metadata": {},
     "output_type": "display_data"
    },
    {
     "name": "stdout",
     "output_type": "stream",
     "text": [
      "Completed processing grid cell 243\n",
      "Processing grid cell 244\n"
     ]
    },
    {
     "data": {
      "text/plain": [
       "Requesting data:   0%|          | 0/10 [00:00<?, ?it/s]"
      ],
      "application/vnd.jupyter.widget-view+json": {
       "version_major": 2,
       "version_minor": 0,
       "model_id": "623a592f0f76438da8e10c252bb43de4"
      }
     },
     "metadata": {},
     "output_type": "display_data"
    },
    {
     "data": {
      "text/plain": [
       "Downloading data:   0%|          | 0/10 [00:00<?, ?it/s]"
      ],
      "application/vnd.jupyter.widget-view+json": {
       "version_major": 2,
       "version_minor": 0,
       "model_id": "b883c638e17d4dd4954eca84e7b4039b"
      }
     },
     "metadata": {},
     "output_type": "display_data"
    },
    {
     "name": "stderr",
     "output_type": "stream",
     "text": [
      "Processing grid cells:   1%|          | 242/21410 [3:50:44<1246:11:04, 211.94s/it]"
     ]
    },
    {
     "name": "stdout",
     "output_type": "stream",
     "text": [
      "Completed processing grid cell 244\n",
      "Completed batch 240-244\n",
      "Processing grid cell 245\n"
     ]
    },
    {
     "data": {
      "text/plain": [
       "Requesting data:   0%|          | 0/10 [00:00<?, ?it/s]"
      ],
      "application/vnd.jupyter.widget-view+json": {
       "version_major": 2,
       "version_minor": 0,
       "model_id": "e7fb2ad60c10427d80beac4ce9c26028"
      }
     },
     "metadata": {},
     "output_type": "display_data"
    },
    {
     "data": {
      "text/plain": [
       "Downloading data:   0%|          | 0/10 [00:00<?, ?it/s]"
      ],
      "application/vnd.jupyter.widget-view+json": {
       "version_major": 2,
       "version_minor": 0,
       "model_id": "cba707e64ae241e8b3628e0644b7a31e"
      }
     },
     "metadata": {},
     "output_type": "display_data"
    },
    {
     "name": "stdout",
     "output_type": "stream",
     "text": [
      "Completed processing grid cell 245\n",
      "Processing grid cell 246\n"
     ]
    },
    {
     "data": {
      "text/plain": [
       "Requesting data:   0%|          | 0/10 [00:00<?, ?it/s]"
      ],
      "application/vnd.jupyter.widget-view+json": {
       "version_major": 2,
       "version_minor": 0,
       "model_id": "5241a2bb87604ba8bde6f211975b4ba7"
      }
     },
     "metadata": {},
     "output_type": "display_data"
    },
    {
     "data": {
      "text/plain": [
       "Downloading data:   0%|          | 0/10 [00:00<?, ?it/s]"
      ],
      "application/vnd.jupyter.widget-view+json": {
       "version_major": 2,
       "version_minor": 0,
       "model_id": "089b109053f24e75a11ece7a97629e0b"
      }
     },
     "metadata": {},
     "output_type": "display_data"
    },
    {
     "name": "stdout",
     "output_type": "stream",
     "text": [
      "Error processing grid cell 246: 503 Server Error: Service Unavailable for url: https://earthengine.googleapis.com/v1/projects/earthengine-legacy/thumbnails/376bd497bca0d65dd61465ee03bffa9e-31e76f8bb4cfac5764d05b1d307d4c99:getPixels\n",
      "Processing grid cell 247\n"
     ]
    },
    {
     "data": {
      "text/plain": [
       "Requesting data:   0%|          | 0/10 [00:00<?, ?it/s]"
      ],
      "application/vnd.jupyter.widget-view+json": {
       "version_major": 2,
       "version_minor": 0,
       "model_id": "8aaab4c2fe73424d8fc3197db06658db"
      }
     },
     "metadata": {},
     "output_type": "display_data"
    },
    {
     "data": {
      "text/plain": [
       "Downloading data:   0%|          | 0/10 [00:00<?, ?it/s]"
      ],
      "application/vnd.jupyter.widget-view+json": {
       "version_major": 2,
       "version_minor": 0,
       "model_id": "263a882efc0242e98eb268bf4c9de9e8"
      }
     },
     "metadata": {},
     "output_type": "display_data"
    },
    {
     "name": "stdout",
     "output_type": "stream",
     "text": [
      "Completed processing grid cell 247\n",
      "Processing grid cell 248\n"
     ]
    },
    {
     "data": {
      "text/plain": [
       "Requesting data:   0%|          | 0/10 [00:00<?, ?it/s]"
      ],
      "application/vnd.jupyter.widget-view+json": {
       "version_major": 2,
       "version_minor": 0,
       "model_id": "97934031919b4d848f5d6120e01e5f79"
      }
     },
     "metadata": {},
     "output_type": "display_data"
    },
    {
     "data": {
      "text/plain": [
       "Downloading data:   0%|          | 0/10 [00:00<?, ?it/s]"
      ],
      "application/vnd.jupyter.widget-view+json": {
       "version_major": 2,
       "version_minor": 0,
       "model_id": "584e741bb15e431ea8ca842e82918825"
      }
     },
     "metadata": {},
     "output_type": "display_data"
    },
    {
     "name": "stdout",
     "output_type": "stream",
     "text": [
      "Completed processing grid cell 248\n",
      "Processing grid cell 249\n"
     ]
    },
    {
     "data": {
      "text/plain": [
       "Requesting data:   0%|          | 0/10 [00:00<?, ?it/s]"
      ],
      "application/vnd.jupyter.widget-view+json": {
       "version_major": 2,
       "version_minor": 0,
       "model_id": "6a7f14c365874caa88195fd5641d074b"
      }
     },
     "metadata": {},
     "output_type": "display_data"
    },
    {
     "data": {
      "text/plain": [
       "Downloading data:   0%|          | 0/10 [00:00<?, ?it/s]"
      ],
      "application/vnd.jupyter.widget-view+json": {
       "version_major": 2,
       "version_minor": 0,
       "model_id": "3b344add2c4d44bab6b5c247d7c407e9"
      }
     },
     "metadata": {},
     "output_type": "display_data"
    },
    {
     "name": "stderr",
     "output_type": "stream",
     "text": [
      "Processing grid cells:   1%|          | 246/21410 [4:08:11<1321:31:24, 224.79s/it]"
     ]
    },
    {
     "name": "stdout",
     "output_type": "stream",
     "text": [
      "Completed processing grid cell 249\n",
      "Completed batch 245-249\n",
      "Processing grid cell 250\n"
     ]
    },
    {
     "data": {
      "text/plain": [
       "Requesting data:   0%|          | 0/10 [00:00<?, ?it/s]"
      ],
      "application/vnd.jupyter.widget-view+json": {
       "version_major": 2,
       "version_minor": 0,
       "model_id": "64b3962c2765458dad3bf4d15173d819"
      }
     },
     "metadata": {},
     "output_type": "display_data"
    },
    {
     "data": {
      "text/plain": [
       "Downloading data:   0%|          | 0/10 [00:00<?, ?it/s]"
      ],
      "application/vnd.jupyter.widget-view+json": {
       "version_major": 2,
       "version_minor": 0,
       "model_id": "dea0c682e685437fb2efce05ffe04049"
      }
     },
     "metadata": {},
     "output_type": "display_data"
    },
    {
     "name": "stdout",
     "output_type": "stream",
     "text": [
      "Completed processing grid cell 250\n",
      "Processing grid cell 251\n"
     ]
    },
    {
     "data": {
      "text/plain": [
       "Requesting data:   0%|          | 0/10 [00:00<?, ?it/s]"
      ],
      "application/vnd.jupyter.widget-view+json": {
       "version_major": 2,
       "version_minor": 0,
       "model_id": "073f2d97fb08457f9754cfff3bba4514"
      }
     },
     "metadata": {},
     "output_type": "display_data"
    },
    {
     "data": {
      "text/plain": [
       "Downloading data:   0%|          | 0/10 [00:00<?, ?it/s]"
      ],
      "application/vnd.jupyter.widget-view+json": {
       "version_major": 2,
       "version_minor": 0,
       "model_id": "785560f3e47749af9d6b9c0a4c32098f"
      }
     },
     "metadata": {},
     "output_type": "display_data"
    },
    {
     "name": "stdout",
     "output_type": "stream",
     "text": [
      "Completed processing grid cell 251\n",
      "Processing grid cell 252\n"
     ]
    },
    {
     "data": {
      "text/plain": [
       "Requesting data:   0%|          | 0/10 [00:00<?, ?it/s]"
      ],
      "application/vnd.jupyter.widget-view+json": {
       "version_major": 2,
       "version_minor": 0,
       "model_id": "2de9c35ba8bc4f72bb1b6f536aa20085"
      }
     },
     "metadata": {},
     "output_type": "display_data"
    },
    {
     "data": {
      "text/plain": [
       "Downloading data:   0%|          | 0/10 [00:00<?, ?it/s]"
      ],
      "application/vnd.jupyter.widget-view+json": {
       "version_major": 2,
       "version_minor": 0,
       "model_id": "5864b331def54c82b597697b1b6734f8"
      }
     },
     "metadata": {},
     "output_type": "display_data"
    },
    {
     "name": "stdout",
     "output_type": "stream",
     "text": [
      "Completed processing grid cell 252\n",
      "Processing grid cell 253\n"
     ]
    },
    {
     "data": {
      "text/plain": [
       "Requesting data:   0%|          | 0/10 [00:00<?, ?it/s]"
      ],
      "application/vnd.jupyter.widget-view+json": {
       "version_major": 2,
       "version_minor": 0,
       "model_id": "06723ec2c6714dffb4653b9be3a3ee92"
      }
     },
     "metadata": {},
     "output_type": "display_data"
    },
    {
     "data": {
      "text/plain": [
       "Downloading data:   0%|          | 0/10 [00:00<?, ?it/s]"
      ],
      "application/vnd.jupyter.widget-view+json": {
       "version_major": 2,
       "version_minor": 0,
       "model_id": "c1f504baf378459d99b70139aa558414"
      }
     },
     "metadata": {},
     "output_type": "display_data"
    },
    {
     "name": "stdout",
     "output_type": "stream",
     "text": [
      "Completed processing grid cell 253\n",
      "Processing grid cell 254\n"
     ]
    },
    {
     "data": {
      "text/plain": [
       "Requesting data:   0%|          | 0/10 [00:00<?, ?it/s]"
      ],
      "application/vnd.jupyter.widget-view+json": {
       "version_major": 2,
       "version_minor": 0,
       "model_id": "46c9a656065c450ab4471310dba01696"
      }
     },
     "metadata": {},
     "output_type": "display_data"
    },
    {
     "data": {
      "text/plain": [
       "Downloading data:   0%|          | 0/10 [00:00<?, ?it/s]"
      ],
      "application/vnd.jupyter.widget-view+json": {
       "version_major": 2,
       "version_minor": 0,
       "model_id": "64d2c42f03074e9b8f7baa5b130c7a6e"
      }
     },
     "metadata": {},
     "output_type": "display_data"
    },
    {
     "name": "stderr",
     "output_type": "stream",
     "text": [
      "Processing grid cells:   1%|          | 251/21410 [4:27:13<1327:52:04, 225.92s/it]"
     ]
    },
    {
     "name": "stdout",
     "output_type": "stream",
     "text": [
      "Completed processing grid cell 254\n",
      "Completed batch 250-254\n",
      "Processing grid cell 255\n"
     ]
    },
    {
     "data": {
      "text/plain": [
       "Requesting data:   0%|          | 0/10 [00:00<?, ?it/s]"
      ],
      "application/vnd.jupyter.widget-view+json": {
       "version_major": 2,
       "version_minor": 0,
       "model_id": "37d9748579be482b9681bcea18a78506"
      }
     },
     "metadata": {},
     "output_type": "display_data"
    },
    {
     "data": {
      "text/plain": [
       "Downloading data:   0%|          | 0/10 [00:00<?, ?it/s]"
      ],
      "application/vnd.jupyter.widget-view+json": {
       "version_major": 2,
       "version_minor": 0,
       "model_id": "ef8653cf4bde4b00b1d07e5666498d11"
      }
     },
     "metadata": {},
     "output_type": "display_data"
    },
    {
     "name": "stdout",
     "output_type": "stream",
     "text": [
      "Completed processing grid cell 255\n",
      "Processing grid cell 256\n"
     ]
    },
    {
     "data": {
      "text/plain": [
       "Requesting data:   0%|          | 0/10 [00:00<?, ?it/s]"
      ],
      "application/vnd.jupyter.widget-view+json": {
       "version_major": 2,
       "version_minor": 0,
       "model_id": "78bb113de8cb414d8e75244f80ce35b7"
      }
     },
     "metadata": {},
     "output_type": "display_data"
    },
    {
     "data": {
      "text/plain": [
       "Downloading data:   0%|          | 0/10 [00:00<?, ?it/s]"
      ],
      "application/vnd.jupyter.widget-view+json": {
       "version_major": 2,
       "version_minor": 0,
       "model_id": "781c593ea59c4fcda9d9da83310cb07b"
      }
     },
     "metadata": {},
     "output_type": "display_data"
    },
    {
     "name": "stdout",
     "output_type": "stream",
     "text": [
      "Completed processing grid cell 256\n",
      "Processing grid cell 257\n"
     ]
    },
    {
     "data": {
      "text/plain": [
       "Requesting data:   0%|          | 0/10 [00:00<?, ?it/s]"
      ],
      "application/vnd.jupyter.widget-view+json": {
       "version_major": 2,
       "version_minor": 0,
       "model_id": "ce8493a9abfb4318ae9c346934a637af"
      }
     },
     "metadata": {},
     "output_type": "display_data"
    },
    {
     "data": {
      "text/plain": [
       "Downloading data:   0%|          | 0/10 [00:00<?, ?it/s]"
      ],
      "application/vnd.jupyter.widget-view+json": {
       "version_major": 2,
       "version_minor": 0,
       "model_id": "7934a0704fe549f98ed812e5824ca4b1"
      }
     },
     "metadata": {},
     "output_type": "display_data"
    },
    {
     "name": "stdout",
     "output_type": "stream",
     "text": [
      "Completed processing grid cell 257\n",
      "Processing grid cell 258\n"
     ]
    },
    {
     "data": {
      "text/plain": [
       "Requesting data:   0%|          | 0/10 [00:00<?, ?it/s]"
      ],
      "application/vnd.jupyter.widget-view+json": {
       "version_major": 2,
       "version_minor": 0,
       "model_id": "4099cdac58444c089d9f78f18e19deeb"
      }
     },
     "metadata": {},
     "output_type": "display_data"
    },
    {
     "data": {
      "text/plain": [
       "Downloading data:   0%|          | 0/10 [00:00<?, ?it/s]"
      ],
      "application/vnd.jupyter.widget-view+json": {
       "version_major": 2,
       "version_minor": 0,
       "model_id": "70436bf7dd6741b291096e18c19d6038"
      }
     },
     "metadata": {},
     "output_type": "display_data"
    },
    {
     "name": "stdout",
     "output_type": "stream",
     "text": [
      "Completed processing grid cell 258\n",
      "Processing grid cell 259\n"
     ]
    },
    {
     "data": {
      "text/plain": [
       "Requesting data:   0%|          | 0/10 [00:00<?, ?it/s]"
      ],
      "application/vnd.jupyter.widget-view+json": {
       "version_major": 2,
       "version_minor": 0,
       "model_id": "e4a7102ab70f46b5b5dcbf11febc4e3f"
      }
     },
     "metadata": {},
     "output_type": "display_data"
    },
    {
     "data": {
      "text/plain": [
       "Downloading data:   0%|          | 0/10 [00:00<?, ?it/s]"
      ],
      "application/vnd.jupyter.widget-view+json": {
       "version_major": 2,
       "version_minor": 0,
       "model_id": "ab8c3f411938414d84eabc1a7b5b5b16"
      }
     },
     "metadata": {},
     "output_type": "display_data"
    },
    {
     "name": "stderr",
     "output_type": "stream",
     "text": [
      "Processing grid cells:   1%|          | 256/21410 [4:44:35<1295:37:52, 220.49s/it]"
     ]
    },
    {
     "name": "stdout",
     "output_type": "stream",
     "text": [
      "Completed processing grid cell 259\n",
      "Completed batch 255-259\n",
      "Processing grid cell 260\n"
     ]
    },
    {
     "data": {
      "text/plain": [
       "Requesting data:   0%|          | 0/10 [00:00<?, ?it/s]"
      ],
      "application/vnd.jupyter.widget-view+json": {
       "version_major": 2,
       "version_minor": 0,
       "model_id": "17488ace2619495ea2412f4f2d193b0b"
      }
     },
     "metadata": {},
     "output_type": "display_data"
    },
    {
     "data": {
      "text/plain": [
       "Downloading data:   0%|          | 0/10 [00:00<?, ?it/s]"
      ],
      "application/vnd.jupyter.widget-view+json": {
       "version_major": 2,
       "version_minor": 0,
       "model_id": "4863339700e8470382212b217e07e2ba"
      }
     },
     "metadata": {},
     "output_type": "display_data"
    },
    {
     "name": "stdout",
     "output_type": "stream",
     "text": [
      "Completed processing grid cell 260\n",
      "Processing grid cell 261\n"
     ]
    },
    {
     "data": {
      "text/plain": [
       "Requesting data:   0%|          | 0/10 [00:00<?, ?it/s]"
      ],
      "application/vnd.jupyter.widget-view+json": {
       "version_major": 2,
       "version_minor": 0,
       "model_id": "45a443f038b540e79ee712dbc8372037"
      }
     },
     "metadata": {},
     "output_type": "display_data"
    },
    {
     "data": {
      "text/plain": [
       "Downloading data:   0%|          | 0/10 [00:00<?, ?it/s]"
      ],
      "application/vnd.jupyter.widget-view+json": {
       "version_major": 2,
       "version_minor": 0,
       "model_id": "00ab75dd09b64300bf6a290ce8ec1c12"
      }
     },
     "metadata": {},
     "output_type": "display_data"
    },
    {
     "name": "stdout",
     "output_type": "stream",
     "text": [
      "Completed processing grid cell 261\n"
     ]
    }
   ],
   "execution_count": null
  }
 ],
 "metadata": {
  "kernelspec": {
   "display_name": "Python 3 (ipykernel)",
   "language": "python",
   "name": "python3"
  },
  "language_info": {
   "codemirror_mode": {
    "name": "ipython",
    "version": 3
   },
   "file_extension": ".py",
   "mimetype": "text/x-python",
   "name": "python",
   "nbconvert_exporter": "python",
   "pygments_lexer": "ipython3",
   "version": "3.8.19"
  }
 },
 "nbformat": 4,
 "nbformat_minor": 5
}
