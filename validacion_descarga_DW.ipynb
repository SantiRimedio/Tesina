{
 "cells": [
  {
   "cell_type": "code",
   "id": "initial_id",
   "metadata": {
    "ExecuteTime": {
     "end_time": "2024-11-11T17:08:16.670374Z",
     "start_time": "2024-11-11T17:08:15.534620Z"
    }
   },
   "source": [
    "import ee\n",
    "import geopandas as gpd\n",
    "import geemap\n",
    "import xarray as xr\n",
    "import wxee"
   ],
   "outputs": [],
   "execution_count": 1
  },
  {
   "cell_type": "code",
   "id": "64a2499595df878d",
   "metadata": {
    "ExecuteTime": {
     "end_time": "2024-11-11T17:08:19.599894Z",
     "start_time": "2024-11-11T17:08:16.674595Z"
    }
   },
   "source": [
    "ee.Authenticate()\n",
    "ee.Initialize(project='ee-nunezrimedio-tesina',opt_url='https://earthengine-highvolume.googleapis.com')"
   ],
   "outputs": [
    {
     "data": {
      "text/plain": [
       "<IPython.core.display.HTML object>"
      ],
      "text/html": [
       "\n",
       "            <style>\n",
       "                .geemap-dark {\n",
       "                    --jp-widgets-color: white;\n",
       "                    --jp-widgets-label-color: white;\n",
       "                    --jp-ui-font-color1: white;\n",
       "                    --jp-layout-color2: #454545;\n",
       "                    background-color: #383838;\n",
       "                }\n",
       "\n",
       "                .geemap-dark .jupyter-button {\n",
       "                    --jp-layout-color3: #383838;\n",
       "                }\n",
       "\n",
       "                .geemap-colab {\n",
       "                    background-color: var(--colab-primary-surface-color, white);\n",
       "                }\n",
       "\n",
       "                .geemap-colab .jupyter-button {\n",
       "                    --jp-layout-color3: var(--colab-primary-surface-color, white);\n",
       "                }\n",
       "            </style>\n",
       "            "
      ]
     },
     "metadata": {},
     "output_type": "display_data"
    }
   ],
   "execution_count": 2
  },
  {
   "cell_type": "code",
   "id": "462734f9cd2f1676",
   "metadata": {
    "ExecuteTime": {
     "end_time": "2024-11-11T17:08:24.720500Z",
     "start_time": "2024-11-11T17:08:19.645682Z"
    }
   },
   "source": [
    "import ee\n",
    "import geemap\n",
    "\n",
    "# Initialize Earth Engine\n",
    "ee.Initialize()\n",
    "\n",
    "def get_province_geometry(province_name):\n",
    "    provinces = ee.FeatureCollection(\"FAO/GAUL/2015/level1\")\n",
    "    return provinces.filter(ee.Filter.And(\n",
    "        ee.Filter.eq('ADM0_NAME', 'Argentina'),\n",
    "        ee.Filter.eq('ADM1_NAME', province_name)\n",
    "    )).first().geometry()\n",
    "\n",
    "# Get geometries for Santiago del Estero and Chaco\n",
    "santiago_geometry = get_province_geometry('Santiago Del Estero')\n",
    "chaco_geometry = get_province_geometry('Chaco')\n",
    "\n",
    "# Find an area on the border\n",
    "#border_area = santiago_geometry.intersection(chaco_geometry).centroid().buffer(3000).bounds()\n",
    "\n",
    "border_area = ee.Geometry.Polygon([\n",
    "    [\n",
    "        [-61.831221, -25.658720],    # Northwest corner\n",
    "        [-61.831221, -25.778083],    # Southwest corner\n",
    "        [-61.711858, -25.778083],    # Southeast corner\n",
    "        [-61.711858, -25.658720]     # Northeast corner\n",
    "    ]\n",
    "])\n",
    "\n",
    "\n",
    "parana_delta = ee.Geometry.Polygon(\n",
    "    [[[-59.5, -33.5],\n",
    "      [-59.5, -34.0],\n",
    "      [-58.8, -34.0],\n",
    "      [-58.8, -33.5]]])\n",
    "\n",
    "# Create a map centered on Argentina\n",
    "Map = geemap.Map(center=[-27, -62], zoom=6)\n",
    "\n",
    "# Add layers to the map\n",
    "Map.addLayer(border_area, {'color': 'FF0000', 'fillColor': 'FF000088'}, 'Border Area')\n",
    "Map.addLayer(parana_delta, {'color': '0000FF', 'fillColor': '0000FF88'}, 'Paraná Delta')\n",
    "\n",
    "# Display the map\n",
    "Map"
   ],
   "outputs": [
    {
     "data": {
      "text/plain": [
       "<IPython.core.display.HTML object>"
      ],
      "text/html": [
       "\n",
       "            <style>\n",
       "                .geemap-dark {\n",
       "                    --jp-widgets-color: white;\n",
       "                    --jp-widgets-label-color: white;\n",
       "                    --jp-ui-font-color1: white;\n",
       "                    --jp-layout-color2: #454545;\n",
       "                    background-color: #383838;\n",
       "                }\n",
       "\n",
       "                .geemap-dark .jupyter-button {\n",
       "                    --jp-layout-color3: #383838;\n",
       "                }\n",
       "\n",
       "                .geemap-colab {\n",
       "                    background-color: var(--colab-primary-surface-color, white);\n",
       "                }\n",
       "\n",
       "                .geemap-colab .jupyter-button {\n",
       "                    --jp-layout-color3: var(--colab-primary-surface-color, white);\n",
       "                }\n",
       "            </style>\n",
       "            "
      ]
     },
     "metadata": {},
     "output_type": "display_data"
    },
    {
     "data": {
      "text/plain": [
       "Map(center=[-27, -62], controls=(WidgetControl(options=['position', 'transparent_bg'], widget=SearchDataGUI(ch…"
      ],
      "application/vnd.jupyter.widget-view+json": {
       "version_major": 2,
       "version_minor": 0,
       "model_id": "581c43f114164e7aa280b9d2e1a9679a"
      }
     },
     "execution_count": 3,
     "metadata": {},
     "output_type": "execute_result"
    }
   ],
   "execution_count": 3
  },
  {
   "metadata": {
    "ExecuteTime": {
     "end_time": "2024-11-10T23:17:18.505528Z",
     "start_time": "2024-11-10T23:17:16.341978Z"
    }
   },
   "cell_type": "code",
   "source": [
    "dw_filtered_chaco = wxee.TimeSeries(\"GOOGLE/DYNAMICWORLD/V1\").filterDate(\"2020-01-01\", \"2021-01-01\").filterBounds(border_area).select(\"label\")\n",
    "dw_filtered_parana = wxee.TimeSeries(\"GOOGLE/DYNAMICWORLD/V1\").filterDate(\"2020-01-01\", \"2021-01-01\").filterBounds(parana_delta).select(\"label\")\n",
    "\n",
    "# Count available images in each region\n",
    "chaco_count = dw_filtered_chaco.filterBounds(border_area).size().getInfo()\n",
    "parana_count = dw_filtered_parana.filterBounds(parana_delta).size().getInfo()\n",
    "\n",
    "print(f\"Chaco images: {chaco_count}\")\n",
    "print(f\"Paraná images: {parana_count}\")"
   ],
   "id": "350963a607772c36",
   "outputs": [
    {
     "data": {
      "text/plain": [
       "<IPython.core.display.HTML object>"
      ],
      "text/html": [
       "\n",
       "            <style>\n",
       "                .geemap-dark {\n",
       "                    --jp-widgets-color: white;\n",
       "                    --jp-widgets-label-color: white;\n",
       "                    --jp-ui-font-color1: white;\n",
       "                    --jp-layout-color2: #454545;\n",
       "                    background-color: #383838;\n",
       "                }\n",
       "\n",
       "                .geemap-dark .jupyter-button {\n",
       "                    --jp-layout-color3: #383838;\n",
       "                }\n",
       "\n",
       "                .geemap-colab {\n",
       "                    background-color: var(--colab-primary-surface-color, white);\n",
       "                }\n",
       "\n",
       "                .geemap-colab .jupyter-button {\n",
       "                    --jp-layout-color3: var(--colab-primary-surface-color, white);\n",
       "                }\n",
       "            </style>\n",
       "            "
      ]
     },
     "metadata": {},
     "output_type": "display_data"
    },
    {
     "name": "stdout",
     "output_type": "stream",
     "text": [
      "Chaco images: 50\n",
      "Paraná images: 250\n"
     ]
    }
   ],
   "execution_count": 6
  },
  {
   "cell_type": "markdown",
   "id": "47c14cd2-afb1-4204-badd-8400aecbf86e",
   "metadata": {},
   "source": "## Descarga Basica: Moda temporal de la banda label"
  },
  {
   "cell_type": "code",
   "id": "ad409aeef10c58b0",
   "metadata": {
    "ExecuteTime": {
     "end_time": "2024-11-07T15:13:31.197729Z",
     "start_time": "2024-11-07T15:10:27.498674Z"
    }
   },
   "source": [
    "# Descarga Paraná\n",
    "aoi = parana_delta\n",
    "dw_filtered = wxee.TimeSeries(\"GOOGLE/DYNAMICWORLD/V1\").filterDate(\"2020-01-01\", \"2021-01-01\").filterBounds(aoi).select(\"label\")\n",
    "\n",
    "def clip_image(image):\n",
    "    return image.clip(aoi)\n",
    "\n",
    "dw_filtered = dw_filtered.map(clip_image)\n",
    "\n",
    "monthly_ts = dw_filtered.aggregate_time(\"year\", ee.Reducer.mode())\n",
    "\n",
    "ds = monthly_ts.wx.to_xarray(region=ee.Feature(aoi).geometry(), scale=30)\n",
    "ds = ds.fillna(-1)\n",
    "ds = ds.clip(min=-128,max=127)\n",
    "ds[\"label\"] = ds[\"label\"].astype(\"int8\")\n",
    "ds[\"x\"] = ds[\"x\"].astype(\"float32\")\n",
    "ds[\"y\"] = ds[\"y\"].astype(\"float32\")\n",
    "ds[\"time\"] = ds[\"time\"].dt.strftime(\"%Y-%m\")\n",
    "ds.to_netcdf(rf\"Data/DW/2020_parana_delta_mode.nc\")"
   ],
   "outputs": [
    {
     "data": {
      "text/plain": [
       "<IPython.core.display.HTML object>"
      ],
      "text/html": [
       "\n",
       "            <style>\n",
       "                .geemap-dark {\n",
       "                    --jp-widgets-color: white;\n",
       "                    --jp-widgets-label-color: white;\n",
       "                    --jp-ui-font-color1: white;\n",
       "                    --jp-layout-color2: #454545;\n",
       "                    background-color: #383838;\n",
       "                }\n",
       "\n",
       "                .geemap-dark .jupyter-button {\n",
       "                    --jp-layout-color3: #383838;\n",
       "                }\n",
       "\n",
       "                .geemap-colab {\n",
       "                    background-color: var(--colab-primary-surface-color, white);\n",
       "                }\n",
       "\n",
       "                .geemap-colab .jupyter-button {\n",
       "                    --jp-layout-color3: var(--colab-primary-surface-color, white);\n",
       "                }\n",
       "            </style>\n",
       "            "
      ]
     },
     "metadata": {},
     "output_type": "display_data"
    },
    {
     "data": {
      "text/plain": [
       "Requesting data:   0%|          | 0/1 [00:00<?, ?it/s]"
      ],
      "application/vnd.jupyter.widget-view+json": {
       "version_major": 2,
       "version_minor": 0,
       "model_id": "ea2a2708d1734f1aaab25eb0c0fd9bc9"
      }
     },
     "metadata": {},
     "output_type": "display_data"
    },
    {
     "data": {
      "text/plain": [
       "Downloading data:   0%|          | 0/1 [00:00<?, ?it/s]"
      ],
      "application/vnd.jupyter.widget-view+json": {
       "version_major": 2,
       "version_minor": 0,
       "model_id": "cffc0003ae0b452cb63e81143f2cdb2a"
      }
     },
     "metadata": {},
     "output_type": "display_data"
    }
   ],
   "execution_count": 20
  },
  {
   "cell_type": "code",
   "id": "e53ec270a7e30b19",
   "metadata": {
    "ExecuteTime": {
     "end_time": "2024-11-10T23:17:37.797118Z",
     "start_time": "2024-11-10T23:17:29.193328Z"
    }
   },
   "source": [
    "# Descarga Chaco-Santiago\n",
    "aoi = border_area\n",
    "dw_filtered = wxee.TimeSeries(\"GOOGLE/DYNAMICWORLD/V1\").filterDate(\"2020-01-01\", \"2021-01-01\").filterBounds(aoi).select(\"label\")\n",
    "\n",
    "def clip_image(image):\n",
    "    return image.clip(aoi)\n",
    "\n",
    "dw_filtered = dw_filtered.map(clip_image)\n",
    "\n",
    "monthly_ts = dw_filtered.aggregate_time(\"year\", ee.Reducer.mode())\n",
    "\n",
    "ds = monthly_ts.wx.to_xarray(region=ee.Feature(aoi).geometry(), scale=30)\n",
    "ds = ds.fillna(-1)\n",
    "ds = ds.clip(min=-128,max=127)\n",
    "ds[\"label\"] = ds[\"label\"].astype(\"int8\")\n",
    "ds[\"x\"] = ds[\"x\"].astype(\"float32\")\n",
    "ds[\"y\"] = ds[\"y\"].astype(\"float32\")\n",
    "ds[\"time\"] = ds[\"time\"].dt.strftime(\"%Y-%m\")\n",
    "ds.to_netcdf(rf\"Data/DW/2020_border_area_mode.nc\")"
   ],
   "outputs": [
    {
     "data": {
      "text/plain": [
       "<IPython.core.display.HTML object>"
      ],
      "text/html": [
       "\n",
       "            <style>\n",
       "                .geemap-dark {\n",
       "                    --jp-widgets-color: white;\n",
       "                    --jp-widgets-label-color: white;\n",
       "                    --jp-ui-font-color1: white;\n",
       "                    --jp-layout-color2: #454545;\n",
       "                    background-color: #383838;\n",
       "                }\n",
       "\n",
       "                .geemap-dark .jupyter-button {\n",
       "                    --jp-layout-color3: #383838;\n",
       "                }\n",
       "\n",
       "                .geemap-colab {\n",
       "                    background-color: var(--colab-primary-surface-color, white);\n",
       "                }\n",
       "\n",
       "                .geemap-colab .jupyter-button {\n",
       "                    --jp-layout-color3: var(--colab-primary-surface-color, white);\n",
       "                }\n",
       "            </style>\n",
       "            "
      ]
     },
     "metadata": {},
     "output_type": "display_data"
    },
    {
     "data": {
      "text/plain": [
       "Requesting data:   0%|          | 0/1 [00:00<?, ?it/s]"
      ],
      "application/vnd.jupyter.widget-view+json": {
       "version_major": 2,
       "version_minor": 0,
       "model_id": "6925eb900c914319a64ca5388cff0139"
      }
     },
     "metadata": {},
     "output_type": "display_data"
    },
    {
     "data": {
      "text/plain": [
       "Downloading data:   0%|          | 0/1 [00:00<?, ?it/s]"
      ],
      "application/vnd.jupyter.widget-view+json": {
       "version_major": 2,
       "version_minor": 0,
       "model_id": "308e84ab38d1402ca722e620c38a3b98"
      }
     },
     "metadata": {},
     "output_type": "display_data"
    }
   ],
   "execution_count": 7
  },
  {
   "cell_type": "markdown",
   "id": "370b0691-d0cc-4838-9a49-6f905dc0dae4",
   "metadata": {},
   "source": "## Pooling Espacial de la banda label y agregación temporal con moda"
  },
  {
   "cell_type": "code",
   "id": "8d16ff67-6f42-4f56-abdf-e3ef10eda2c8",
   "metadata": {
    "ExecuteTime": {
     "end_time": "2024-11-07T15:19:45.269899Z",
     "start_time": "2024-11-07T15:17:07.759996Z"
    }
   },
   "source": [
    "## Paraná\n",
    "aoi = parana_delta\n",
    "\n",
    "# Load the Dynamic World dataset and filter by AOI and date range\n",
    "dw_filtered = wxee.TimeSeries(\"GOOGLE/DYNAMICWORLD/V1\") \\\n",
    "                .filterDate(\"2020-01-01\", \"2021-01-01\") \\\n",
    "                .filterBounds(aoi) \\\n",
    "                .select(\"label\")\n",
    "\n",
    "# Clip images to the area of interest\n",
    "def clip_image(image):\n",
    "    return image.clip(aoi)\n",
    "\n",
    "# Apply the clipping function to each image in the collection\n",
    "dw_filtered = dw_filtered.map(clip_image)\n",
    "\n",
    "# Aggregate temporally to get the mode for each year\n",
    "yearly_ts = dw_filtered.aggregate_time(\"year\", ee.Reducer.mode())\n",
    "\n",
    "# Function to spatially pool the data using a 30m resolution\n",
    "def spatial_pool(image):\n",
    "    # Set the default projection for the image\n",
    "    image = image.setDefaultProjection('EPSG:4326', None, 30)  # Set the projection with a scale of 30m\n",
    "\n",
    "    return image.reduceResolution(\n",
    "        reducer=ee.Reducer.mode(),\n",
    "        maxPixels=65535,  # Ensure this is less than 65536\n",
    "        bestEffort=True\n",
    "    ).reproject(crs='EPSG:4326', scale=30)\n",
    "\n",
    "# Apply spatial pooling to each image in the yearly collection\n",
    "pooled_collection = yearly_ts.map(spatial_pool)\n",
    "\n",
    "# Download the pooled image collection directly as xarray using wxee\n",
    "# Convert the pooled collection to xarray\n",
    "# Ensure to specify the region and scale\n",
    "ds = pooled_collection.wx.to_xarray(region=aoi, scale=30)\n",
    "\n",
    "# Fill NaN values and clip to appropriate ranges\n",
    "ds = ds.fillna(-1)\n",
    "ds = ds.clip(min=-128, max=127)\n",
    "ds[\"label\"] = ds[\"label\"].astype(\"int8\")\n",
    "ds[\"x\"] = ds[\"x\"].astype(\"float32\")\n",
    "ds[\"y\"] = ds[\"y\"].astype(\"float32\")\n",
    "ds[\"time\"] = ds[\"time\"].dt.strftime(\"%Y-%m\")\n",
    "\n",
    "# Save the pooled dataset back to NetCDF\n",
    "ds.to_netcdf(r\"Data/DW/2020_parana_delta_mode_pooled_30m.nc\")\n"
   ],
   "outputs": [
    {
     "data": {
      "text/plain": [
       "<IPython.core.display.HTML object>"
      ],
      "text/html": [
       "\n",
       "            <style>\n",
       "                .geemap-dark {\n",
       "                    --jp-widgets-color: white;\n",
       "                    --jp-widgets-label-color: white;\n",
       "                    --jp-ui-font-color1: white;\n",
       "                    --jp-layout-color2: #454545;\n",
       "                    background-color: #383838;\n",
       "                }\n",
       "\n",
       "                .geemap-dark .jupyter-button {\n",
       "                    --jp-layout-color3: #383838;\n",
       "                }\n",
       "\n",
       "                .geemap-colab {\n",
       "                    background-color: var(--colab-primary-surface-color, white);\n",
       "                }\n",
       "\n",
       "                .geemap-colab .jupyter-button {\n",
       "                    --jp-layout-color3: var(--colab-primary-surface-color, white);\n",
       "                }\n",
       "            </style>\n",
       "            "
      ]
     },
     "metadata": {},
     "output_type": "display_data"
    },
    {
     "data": {
      "text/plain": [
       "Requesting data:   0%|          | 0/1 [00:00<?, ?it/s]"
      ],
      "application/vnd.jupyter.widget-view+json": {
       "version_major": 2,
       "version_minor": 0,
       "model_id": "96c8985fb9cc42168bfcbb53d1b9c5ef"
      }
     },
     "metadata": {},
     "output_type": "display_data"
    },
    {
     "data": {
      "text/plain": [
       "Downloading data:   0%|          | 0/1 [00:00<?, ?it/s]"
      ],
      "application/vnd.jupyter.widget-view+json": {
       "version_major": 2,
       "version_minor": 0,
       "model_id": "7f221d328f0b45cfa9c8908769be71c1"
      }
     },
     "metadata": {},
     "output_type": "display_data"
    }
   ],
   "execution_count": 22
  },
  {
   "cell_type": "code",
   "id": "3bd597db-d8f7-48e2-a2c3-f2b28d7dbdef",
   "metadata": {
    "ExecuteTime": {
     "end_time": "2024-11-10T23:18:03.092697Z",
     "start_time": "2024-11-10T23:17:54.834173Z"
    }
   },
   "source": [
    "# Chaco-Santiago\n",
    "aoi = border_area\n",
    "\n",
    "# Load the Dynamic World dataset and filter by AOI and date range\n",
    "dw_filtered = wxee.TimeSeries(\"GOOGLE/DYNAMICWORLD/V1\") \\\n",
    "                .filterDate(\"2020-01-01\", \"2021-01-01\") \\\n",
    "                .filterBounds(aoi) \\\n",
    "                .select(\"label\")\n",
    "\n",
    "# Clip images to the area of interest\n",
    "def clip_image(image):\n",
    "    return image.clip(aoi)\n",
    "\n",
    "# Apply the clipping function to each image in the collection\n",
    "dw_filtered = dw_filtered.map(clip_image)\n",
    "\n",
    "# Aggregate temporally to get the mode for each year\n",
    "yearly_ts = dw_filtered.aggregate_time(\"year\", ee.Reducer.mode())\n",
    "\n",
    "# Function to spatially pool the data using a 30m resolution\n",
    "def spatial_pool(image):\n",
    "    # Set the default projection for the image\n",
    "    image = image.setDefaultProjection('EPSG:4326', None, 30)  # Set the projection with a scale of 30m\n",
    "\n",
    "    return image.reduceResolution(\n",
    "        reducer=ee.Reducer.mode(),\n",
    "        maxPixels=65535,  # Ensure this is less than 65536\n",
    "        bestEffort=True\n",
    "    ).reproject(crs='EPSG:4326', scale=30)\n",
    "\n",
    "# Apply spatial pooling to each image in the yearly collection\n",
    "pooled_collection = yearly_ts.map(spatial_pool)\n",
    "\n",
    "# Download the pooled image collection directly as xarray using wxee\n",
    "# Convert the pooled collection to xarray\n",
    "# Ensure to specify the region and scale\n",
    "ds = pooled_collection.wx.to_xarray(region=aoi, scale=30)\n",
    "\n",
    "# Fill NaN values and clip to appropriate ranges\n",
    "ds = ds.fillna(-1)\n",
    "ds = ds.clip(min=-128, max=127)\n",
    "ds[\"label\"] = ds[\"label\"].astype(\"int8\")\n",
    "ds[\"x\"] = ds[\"x\"].astype(\"float32\")\n",
    "ds[\"y\"] = ds[\"y\"].astype(\"float32\")\n",
    "ds[\"time\"] = ds[\"time\"].dt.strftime(\"%Y-%m\")\n",
    "\n",
    "# Save the pooled dataset back to NetCDF\n",
    "ds.to_netcdf(r\"Data/DW/2020_border_area_mode_pooled_30m.nc\")"
   ],
   "outputs": [
    {
     "data": {
      "text/plain": [
       "<IPython.core.display.HTML object>"
      ],
      "text/html": [
       "\n",
       "            <style>\n",
       "                .geemap-dark {\n",
       "                    --jp-widgets-color: white;\n",
       "                    --jp-widgets-label-color: white;\n",
       "                    --jp-ui-font-color1: white;\n",
       "                    --jp-layout-color2: #454545;\n",
       "                    background-color: #383838;\n",
       "                }\n",
       "\n",
       "                .geemap-dark .jupyter-button {\n",
       "                    --jp-layout-color3: #383838;\n",
       "                }\n",
       "\n",
       "                .geemap-colab {\n",
       "                    background-color: var(--colab-primary-surface-color, white);\n",
       "                }\n",
       "\n",
       "                .geemap-colab .jupyter-button {\n",
       "                    --jp-layout-color3: var(--colab-primary-surface-color, white);\n",
       "                }\n",
       "            </style>\n",
       "            "
      ]
     },
     "metadata": {},
     "output_type": "display_data"
    },
    {
     "data": {
      "text/plain": [
       "Requesting data:   0%|          | 0/1 [00:00<?, ?it/s]"
      ],
      "application/vnd.jupyter.widget-view+json": {
       "version_major": 2,
       "version_minor": 0,
       "model_id": "f1b036a0fe9247b2b7d069f1d7e870f4"
      }
     },
     "metadata": {},
     "output_type": "display_data"
    },
    {
     "data": {
      "text/plain": [
       "Downloading data:   0%|          | 0/1 [00:00<?, ?it/s]"
      ],
      "application/vnd.jupyter.widget-view+json": {
       "version_major": 2,
       "version_minor": 0,
       "model_id": "3b4db4e4dc3f459f9242e4c97c7a8329"
      }
     },
     "metadata": {},
     "output_type": "display_data"
    }
   ],
   "execution_count": 10
  },
  {
   "cell_type": "markdown",
   "id": "52dca03b30428da0",
   "metadata": {},
   "source": "## Agregación espacial y temporal de todas las bandas con media aritmética y se vuelve a calcular la clase predominante\n"
  },
  {
   "cell_type": "code",
   "id": "f4ba32254461d491",
   "metadata": {
    "ExecuteTime": {
     "end_time": "2024-11-07T17:01:07.319789Z",
     "start_time": "2024-11-07T16:57:46.472837Z"
    }
   },
   "source": [
    "# Paraná\n",
    "aoi = parana_delta\n",
    "\n",
    "CLASS_NAMES = ['water', 'trees', 'grass', 'flooded_vegetation', 'crops', 'shrub_and_scrub', 'built', 'bare', 'snow_and_ice']\n",
    "CLASS_NUMBER = ee.List.sequence(0, 8)\n",
    "\n",
    "# Load the Dynamic World dataset and filter by AOI and date range\n",
    "dw_filtered = wxee.TimeSeries(\"GOOGLE/DYNAMICWORLD/V1\") \\\n",
    "    .filterDate(\"2020-01-01\", \"2021-01-01\") \\\n",
    "    .filterBounds(aoi)\n",
    "\n",
    "# Clip images to the area of interest\n",
    "def clip_image(image):\n",
    "    return image.clip(aoi)\n",
    "\n",
    "# Apply the clipping function to each image in the collection\n",
    "dw_filtered = dw_filtered.map(clip_image)\n",
    "\n",
    "# Aggregate temporally to get the mode for each year\n",
    "yearly_ts = dw_filtered.aggregate_time(\"year\", ee.Reducer.mean())\n",
    "\n",
    "# Function to spatially pool the data using a 30m resolution\n",
    "def spatial_pool(image):\n",
    "    # Set the default projection for the image\n",
    "    image = image.setDefaultProjection('EPSG:4326', None, 30)  # Set the projection with a scale of 30m\n",
    "\n",
    "    return image.reduceResolution(\n",
    "        reducer=ee.Reducer.mean(),\n",
    "        maxPixels=65535,  # Ensure this is less than 65536\n",
    "        bestEffort=True\n",
    "    ).reproject(crs='EPSG:4326', scale=30)\n",
    "\n",
    "# Apply spatial pooling to each image in the yearly collection\n",
    "pooled_collection = yearly_ts.map(spatial_pool)\n",
    "\n",
    "\n",
    "yearly_dominant_class = pooled_collection.map(\n",
    "    lambda image:\n",
    "    image.select(CLASS_NAMES)\n",
    "    .reduce(ee.Reducer.max())\n",
    "    .eq(image.select(CLASS_NAMES))\n",
    "    .multiply(ee.Image.constant(CLASS_NUMBER))\n",
    "    .reduce(ee.Reducer.sum())\n",
    "    .rename('label')\n",
    "    .uint8()\n",
    "    .copyProperties(image, ['system:time_start'])\n",
    ")\n",
    "\n",
    "\n",
    "# Download the pooled image collection directly as xarray using wxee\n",
    "# Convert the pooled collection to xarray\n",
    "# Ensure to specify the region and scale\n",
    "ds = yearly_dominant_class.wx.to_xarray(region=aoi, scale=30)\n",
    "\n",
    "# Fill NaN values and clip to appropriate ranges\n",
    "ds = ds.fillna(-1)\n",
    "ds = ds.clip(min=-128, max=127)\n",
    "ds[\"label\"] = ds[\"label\"].astype(\"int8\")\n",
    "ds[\"x\"] = ds[\"x\"].astype(\"float32\")\n",
    "ds[\"y\"] = ds[\"y\"].astype(\"float32\")\n",
    "ds[\"time\"] = ds[\"time\"].dt.strftime(\"%Y-%m\")\n",
    "\n",
    "# Save the pooled dataset back to NetCDF\n",
    "ds.to_netcdf(r\"Data/DW/2020_parana_delta_mean_pooled_30m.nc\")"
   ],
   "outputs": [
    {
     "data": {
      "text/plain": [
       "<IPython.core.display.HTML object>"
      ],
      "text/html": [
       "\n",
       "            <style>\n",
       "                .geemap-dark {\n",
       "                    --jp-widgets-color: white;\n",
       "                    --jp-widgets-label-color: white;\n",
       "                    --jp-ui-font-color1: white;\n",
       "                    --jp-layout-color2: #454545;\n",
       "                    background-color: #383838;\n",
       "                }\n",
       "\n",
       "                .geemap-dark .jupyter-button {\n",
       "                    --jp-layout-color3: #383838;\n",
       "                }\n",
       "\n",
       "                .geemap-colab {\n",
       "                    background-color: var(--colab-primary-surface-color, white);\n",
       "                }\n",
       "\n",
       "                .geemap-colab .jupyter-button {\n",
       "                    --jp-layout-color3: var(--colab-primary-surface-color, white);\n",
       "                }\n",
       "            </style>\n",
       "            "
      ]
     },
     "metadata": {},
     "output_type": "display_data"
    },
    {
     "data": {
      "text/plain": [
       "Requesting data:   0%|          | 0/1 [00:00<?, ?it/s]"
      ],
      "application/vnd.jupyter.widget-view+json": {
       "version_major": 2,
       "version_minor": 0,
       "model_id": "3aeac73b1d1d4424a852733d18f99d20"
      }
     },
     "metadata": {},
     "output_type": "display_data"
    },
    {
     "data": {
      "text/plain": [
       "Downloading data:   0%|          | 0/1 [00:00<?, ?it/s]"
      ],
      "application/vnd.jupyter.widget-view+json": {
       "version_major": 2,
       "version_minor": 0,
       "model_id": "1265ed0095d94984866373c711a6289c"
      }
     },
     "metadata": {},
     "output_type": "display_data"
    }
   ],
   "execution_count": 5
  },
  {
   "cell_type": "code",
   "id": "0ec26e9d-94b9-44f7-bf89-f08a395fc0b2",
   "metadata": {
    "ExecuteTime": {
     "end_time": "2024-11-10T23:18:15.071616Z",
     "start_time": "2024-11-10T23:18:03.155298Z"
    }
   },
   "source": [
    "# Descarga Chaco-Santiago\n",
    "\n",
    "aoi = border_area\n",
    "\n",
    "CLASS_NAMES = ['water', 'trees', 'grass', 'flooded_vegetation', 'crops', 'shrub_and_scrub', 'built', 'bare', 'snow_and_ice']\n",
    "CLASS_NUMBER = ee.List.sequence(0, 8)\n",
    "\n",
    "# Load the Dynamic World dataset and filter by AOI and date range\n",
    "dw_filtered = wxee.TimeSeries(\"GOOGLE/DYNAMICWORLD/V1\") \\\n",
    "    .filterDate(\"2020-01-01\", \"2021-01-01\") \\\n",
    "    .filterBounds(aoi) \\\n",
    "\n",
    "# Clip images to the area of interest\n",
    "def clip_image(image):\n",
    "    return image.clip(aoi)\n",
    "\n",
    "# Apply the clipping function to each image in the collection\n",
    "dw_filtered = dw_filtered.map(clip_image)\n",
    "\n",
    "# Aggregate temporally to get the mode for each year\n",
    "yearly_ts = dw_filtered.aggregate_time(\"year\", ee.Reducer.mean())\n",
    "\n",
    "# Function to spatially pool the data using a 30m resolution\n",
    "def spatial_pool(image):\n",
    "    # Set the default projection for the image\n",
    "    image = image.setDefaultProjection('EPSG:4326', None, 30)  # Set the projection with a scale of 30m\n",
    "\n",
    "    return image.reduceResolution(\n",
    "        reducer=ee.Reducer.mean(),\n",
    "        maxPixels=65535,  # Ensure this is less than 65536\n",
    "        bestEffort=True\n",
    "    ).reproject(crs='EPSG:4326', scale=30)\n",
    "\n",
    "# Apply spatial pooling to each image in the yearly collection\n",
    "pooled_collection = yearly_ts.map(spatial_pool)\n",
    "\n",
    "\n",
    "yearly_dominant_class = pooled_collection.map(\n",
    "    lambda image:\n",
    "    image.select(CLASS_NAMES)\n",
    "    .reduce(ee.Reducer.max())\n",
    "    .eq(image.select(CLASS_NAMES))\n",
    "    .multiply(ee.Image.constant(CLASS_NUMBER))\n",
    "    .reduce(ee.Reducer.sum())\n",
    "    .rename('label')\n",
    "    .uint8()\n",
    "    .copyProperties(image, ['system:time_start'])\n",
    ")\n",
    "\n",
    "\n",
    "# Download the pooled image collection directly as xarray using wxee\n",
    "# Convert the pooled collection to xarray\n",
    "# Ensure to specify the region and scale\n",
    "ds = yearly_dominant_class.wx.to_xarray(region=aoi, scale=30)\n",
    "\n",
    "# Fill NaN values and clip to appropriate ranges\n",
    "ds = ds.fillna(-1)\n",
    "ds = ds.clip(min=-128, max=127)\n",
    "ds[\"label\"] = ds[\"label\"].astype(\"int8\")\n",
    "ds[\"x\"] = ds[\"x\"].astype(\"float32\")\n",
    "ds[\"y\"] = ds[\"y\"].astype(\"float32\")\n",
    "ds[\"time\"] = ds[\"time\"].dt.strftime(\"%Y-%m\")\n",
    "\n",
    "# Save the pooled dataset back to NetCDF\n",
    "ds.to_netcdf(r\"Data/DW/2020_border_area_mean_pooled_30m.nc\")"
   ],
   "outputs": [
    {
     "data": {
      "text/plain": [
       "<IPython.core.display.HTML object>"
      ],
      "text/html": [
       "\n",
       "            <style>\n",
       "                .geemap-dark {\n",
       "                    --jp-widgets-color: white;\n",
       "                    --jp-widgets-label-color: white;\n",
       "                    --jp-ui-font-color1: white;\n",
       "                    --jp-layout-color2: #454545;\n",
       "                    background-color: #383838;\n",
       "                }\n",
       "\n",
       "                .geemap-dark .jupyter-button {\n",
       "                    --jp-layout-color3: #383838;\n",
       "                }\n",
       "\n",
       "                .geemap-colab {\n",
       "                    background-color: var(--colab-primary-surface-color, white);\n",
       "                }\n",
       "\n",
       "                .geemap-colab .jupyter-button {\n",
       "                    --jp-layout-color3: var(--colab-primary-surface-color, white);\n",
       "                }\n",
       "            </style>\n",
       "            "
      ]
     },
     "metadata": {},
     "output_type": "display_data"
    },
    {
     "data": {
      "text/plain": [
       "Requesting data:   0%|          | 0/1 [00:00<?, ?it/s]"
      ],
      "application/vnd.jupyter.widget-view+json": {
       "version_major": 2,
       "version_minor": 0,
       "model_id": "e8ea8eb17d3b43509aa19e6fa493e981"
      }
     },
     "metadata": {},
     "output_type": "display_data"
    },
    {
     "data": {
      "text/plain": [
       "Downloading data:   0%|          | 0/1 [00:00<?, ?it/s]"
      ],
      "application/vnd.jupyter.widget-view+json": {
       "version_major": 2,
       "version_minor": 0,
       "model_id": "ba333270c59e4612a08ac1bcae11980d"
      }
     },
     "metadata": {},
     "output_type": "display_data"
    }
   ],
   "execution_count": 11
  },
  {
   "metadata": {},
   "cell_type": "markdown",
   "source": "## Agregación temporal de todas las bandas con media aritmética y se vuelve a calcular la clase predominante. Espacialmente no se hace pooling\n",
   "id": "7ec18d6ac1cb2550"
  },
  {
   "metadata": {
    "ExecuteTime": {
     "end_time": "2024-11-10T23:25:15.685861Z",
     "start_time": "2024-11-10T23:19:56.434237Z"
    }
   },
   "cell_type": "code",
   "source": [
    "# Paraná\n",
    "aoi = parana_delta\n",
    "\n",
    "CLASS_NAMES = ['water', 'trees', 'grass', 'flooded_vegetation', 'crops', 'shrub_and_scrub', 'built', 'bare', 'snow_and_ice']\n",
    "CLASS_NUMBER = ee.List.sequence(0, 8)\n",
    "\n",
    "# Load the Dynamic World dataset and filter by AOI and date range\n",
    "dw_filtered = wxee.TimeSeries(\"GOOGLE/DYNAMICWORLD/V1\") \\\n",
    "    .filterDate(\"2020-01-01\", \"2021-01-01\") \\\n",
    "    .filterBounds(aoi)\n",
    "\n",
    "# Clip images to the area of interest\n",
    "def clip_image(image):\n",
    "    return image.clip(aoi)\n",
    "\n",
    "# Apply the clipping function to each image in the collection\n",
    "dw_filtered = dw_filtered.map(clip_image)\n",
    "\n",
    "# Aggregate temporally to get the mode for each year\n",
    "yearly_ts = dw_filtered.aggregate_time(\"year\", ee.Reducer.mean())\n",
    "\n",
    "yearly_dominant_class = yearly_ts.map(\n",
    "    lambda image:\n",
    "    image.select(CLASS_NAMES)\n",
    "    .reduce(ee.Reducer.max())\n",
    "    .eq(image.select(CLASS_NAMES))\n",
    "    .multiply(ee.Image.constant(CLASS_NUMBER))\n",
    "    .reduce(ee.Reducer.sum())\n",
    "    .rename('label')\n",
    "    .uint8()\n",
    "    .copyProperties(image, ['system:time_start'])\n",
    ")\n",
    "\n",
    "\n",
    "# Download the pooled image collection directly as xarray using wxee\n",
    "# Convert the pooled collection to xarray\n",
    "# Ensure to specify the region and scale\n",
    "ds = yearly_dominant_class.wx.to_xarray(region=aoi, scale=30)\n",
    "\n",
    "# Fill NaN values and clip to appropriate ranges\n",
    "ds = ds.fillna(-1)\n",
    "ds = ds.clip(min=-128, max=127)\n",
    "ds[\"label\"] = ds[\"label\"].astype(\"int8\")\n",
    "ds[\"x\"] = ds[\"x\"].astype(\"float32\")\n",
    "ds[\"y\"] = ds[\"y\"].astype(\"float32\")\n",
    "ds[\"time\"] = ds[\"time\"].dt.strftime(\"%Y-%m\")\n",
    "\n",
    "# Save the pooled dataset back to NetCDF\n",
    "ds.to_netcdf(r\"Data/DW/2020_parana_delta_mean_unpooled_30m.nc\")"
   ],
   "id": "317347fd9b58f1f",
   "outputs": [
    {
     "data": {
      "text/plain": [
       "<IPython.core.display.HTML object>"
      ],
      "text/html": [
       "\n",
       "            <style>\n",
       "                .geemap-dark {\n",
       "                    --jp-widgets-color: white;\n",
       "                    --jp-widgets-label-color: white;\n",
       "                    --jp-ui-font-color1: white;\n",
       "                    --jp-layout-color2: #454545;\n",
       "                    background-color: #383838;\n",
       "                }\n",
       "\n",
       "                .geemap-dark .jupyter-button {\n",
       "                    --jp-layout-color3: #383838;\n",
       "                }\n",
       "\n",
       "                .geemap-colab {\n",
       "                    background-color: var(--colab-primary-surface-color, white);\n",
       "                }\n",
       "\n",
       "                .geemap-colab .jupyter-button {\n",
       "                    --jp-layout-color3: var(--colab-primary-surface-color, white);\n",
       "                }\n",
       "            </style>\n",
       "            "
      ]
     },
     "metadata": {},
     "output_type": "display_data"
    },
    {
     "data": {
      "text/plain": [
       "Requesting data:   0%|          | 0/1 [00:00<?, ?it/s]"
      ],
      "application/vnd.jupyter.widget-view+json": {
       "version_major": 2,
       "version_minor": 0,
       "model_id": "30e6bb81e6684a1caf64d55d1d4c79b0"
      }
     },
     "metadata": {},
     "output_type": "display_data"
    },
    {
     "data": {
      "text/plain": [
       "Downloading data:   0%|          | 0/1 [00:00<?, ?it/s]"
      ],
      "application/vnd.jupyter.widget-view+json": {
       "version_major": 2,
       "version_minor": 0,
       "model_id": "7f90a8c9a62144a2a42b0ccef53d1abe"
      }
     },
     "metadata": {},
     "output_type": "display_data"
    }
   ],
   "execution_count": 13
  },
  {
   "metadata": {
    "ExecuteTime": {
     "end_time": "2024-11-10T23:18:25.193661Z",
     "start_time": "2024-11-10T23:18:15.133178Z"
    }
   },
   "cell_type": "code",
   "source": [
    "# Descarga Chaco-Santiago\n",
    "\n",
    "\n",
    "aoi = border_area\n",
    "\n",
    "CLASS_NAMES = ['water', 'trees', 'grass', 'flooded_vegetation', 'crops', 'shrub_and_scrub', 'built', 'bare', 'snow_and_ice']\n",
    "CLASS_NUMBER = ee.List.sequence(0, 8)\n",
    "\n",
    "# Load the Dynamic World dataset and filter by AOI and date range\n",
    "dw_filtered = wxee.TimeSeries(\"GOOGLE/DYNAMICWORLD/V1\") \\\n",
    "    .filterDate(\"2020-01-01\", \"2021-01-01\") \\\n",
    "    .filterBounds(aoi)\n",
    "\n",
    "# Clip images to the area of interest\n",
    "def clip_image(image):\n",
    "    return image.clip(aoi)\n",
    "\n",
    "# Apply the clipping function to each image in the collection\n",
    "dw_filtered = dw_filtered.map(clip_image)\n",
    "\n",
    "# Aggregate temporally to get the mode for each year\n",
    "yearly_ts = dw_filtered.aggregate_time(\"year\", ee.Reducer.mean())\n",
    "\n",
    "yearly_dominant_class = yearly_ts.map(\n",
    "    lambda image:\n",
    "    image.select(CLASS_NAMES)\n",
    "    .reduce(ee.Reducer.max())\n",
    "    .eq(image.select(CLASS_NAMES))\n",
    "    .multiply(ee.Image.constant(CLASS_NUMBER))\n",
    "    .reduce(ee.Reducer.sum())\n",
    "    .rename('label')\n",
    "    .uint8()\n",
    "    .copyProperties(image, ['system:time_start'])\n",
    ")\n",
    "\n",
    "\n",
    "# Download the pooled image collection directly as xarray using wxee\n",
    "# Convert the pooled collection to xarray\n",
    "# Ensure to specify the region and scale\n",
    "ds = yearly_dominant_class.wx.to_xarray(region=aoi, scale=30)\n",
    "\n",
    "# Fill NaN values and clip to appropriate ranges\n",
    "ds = ds.fillna(-1)\n",
    "ds = ds.clip(min=-128, max=127)\n",
    "ds[\"label\"] = ds[\"label\"].astype(\"int8\")\n",
    "ds[\"x\"] = ds[\"x\"].astype(\"float32\")\n",
    "ds[\"y\"] = ds[\"y\"].astype(\"float32\")\n",
    "ds[\"time\"] = ds[\"time\"].dt.strftime(\"%Y-%m\")\n",
    "\n",
    "# Save the pooled dataset back to NetCDF\n",
    "ds.to_netcdf(r\"Data/DW/2020_border_area_mean_unpooled_30m.nc\")"
   ],
   "id": "5c6bb01e80502d5c",
   "outputs": [
    {
     "data": {
      "text/plain": [
       "<IPython.core.display.HTML object>"
      ],
      "text/html": [
       "\n",
       "            <style>\n",
       "                .geemap-dark {\n",
       "                    --jp-widgets-color: white;\n",
       "                    --jp-widgets-label-color: white;\n",
       "                    --jp-ui-font-color1: white;\n",
       "                    --jp-layout-color2: #454545;\n",
       "                    background-color: #383838;\n",
       "                }\n",
       "\n",
       "                .geemap-dark .jupyter-button {\n",
       "                    --jp-layout-color3: #383838;\n",
       "                }\n",
       "\n",
       "                .geemap-colab {\n",
       "                    background-color: var(--colab-primary-surface-color, white);\n",
       "                }\n",
       "\n",
       "                .geemap-colab .jupyter-button {\n",
       "                    --jp-layout-color3: var(--colab-primary-surface-color, white);\n",
       "                }\n",
       "            </style>\n",
       "            "
      ]
     },
     "metadata": {},
     "output_type": "display_data"
    },
    {
     "data": {
      "text/plain": [
       "Requesting data:   0%|          | 0/1 [00:00<?, ?it/s]"
      ],
      "application/vnd.jupyter.widget-view+json": {
       "version_major": 2,
       "version_minor": 0,
       "model_id": "826ec622e134416893e0610d6087b031"
      }
     },
     "metadata": {},
     "output_type": "display_data"
    },
    {
     "data": {
      "text/plain": [
       "Downloading data:   0%|          | 0/1 [00:00<?, ?it/s]"
      ],
      "application/vnd.jupyter.widget-view+json": {
       "version_major": 2,
       "version_minor": 0,
       "model_id": "018e3572e5cd4a09baf1f331094c8d99"
      }
     },
     "metadata": {},
     "output_type": "display_data"
    }
   ],
   "execution_count": 12
  },
  {
   "metadata": {},
   "cell_type": "code",
   "outputs": [],
   "execution_count": null,
   "source": "",
   "id": "e8600f7bc31b4818"
  }
 ],
 "metadata": {
  "kernelspec": {
   "display_name": "Python 3 (ipykernel)",
   "language": "python",
   "name": "python3"
  },
  "language_info": {
   "codemirror_mode": {
    "name": "ipython",
    "version": 3
   },
   "file_extension": ".py",
   "mimetype": "text/x-python",
   "name": "python",
   "nbconvert_exporter": "python",
   "pygments_lexer": "ipython3",
   "version": "3.8.19"
  }
 },
 "nbformat": 4,
 "nbformat_minor": 5
}
