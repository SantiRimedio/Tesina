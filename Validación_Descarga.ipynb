{
 "cells": [
  {
   "metadata": {
    "ExecuteTime": {
     "end_time": "2024-11-28T19:42:44.893372Z",
     "start_time": "2024-11-28T19:42:40.141358Z"
    }
   },
   "cell_type": "code",
   "source": [
    "from function_utils import initialize_gee, process_worldcover, visualize_areas, process_dynamic_world\n",
    "from geo_utils import get_study_areas\n",
    "import os\n",
    "\n",
    "# Initialize Earth Engine\n",
    "initialize_gee('ee-nunezrimedio-tesina')\n",
    "\n",
    "# Get study areas\n",
    "areas = get_study_areas()\n",
    "\n",
    "# Visualize areas if needed\n",
    "visualize_areas(areas)"
   ],
   "id": "4f23b88b533c20d6",
   "outputs": [
    {
     "data": {
      "text/plain": [
       "<IPython.core.display.HTML object>"
      ],
      "text/html": [
       "\n",
       "            <style>\n",
       "                .geemap-dark {\n",
       "                    --jp-widgets-color: white;\n",
       "                    --jp-widgets-label-color: white;\n",
       "                    --jp-ui-font-color1: white;\n",
       "                    --jp-layout-color2: #454545;\n",
       "                    background-color: #383838;\n",
       "                }\n",
       "\n",
       "                .geemap-dark .jupyter-button {\n",
       "                    --jp-layout-color3: #383838;\n",
       "                }\n",
       "\n",
       "                .geemap-colab {\n",
       "                    background-color: var(--colab-primary-surface-color, white);\n",
       "                }\n",
       "\n",
       "                .geemap-colab .jupyter-button {\n",
       "                    --jp-layout-color3: var(--colab-primary-surface-color, white);\n",
       "                }\n",
       "            </style>\n",
       "            "
      ]
     },
     "metadata": {},
     "output_type": "display_data"
    },
    {
     "data": {
      "text/plain": [
       "Map(center=[-27, -62], controls=(WidgetControl(options=['position', 'transparent_bg'], widget=SearchDataGUI(ch…"
      ],
      "application/vnd.jupyter.widget-view+json": {
       "version_major": 2,
       "version_minor": 0,
       "model_id": "fbf067b1a21a486999c1e3820419c015"
      }
     },
     "execution_count": 2,
     "metadata": {},
     "output_type": "execute_result"
    }
   ],
   "execution_count": 2
  },
  {
   "metadata": {
    "collapsed": true,
    "ExecuteTime": {
     "end_time": "2024-11-28T19:43:07.234300Z",
     "start_time": "2024-11-28T19:42:44.906895Z"
    }
   },
   "cell_type": "code",
   "source": [
    "# Descarga WorldCover ESA\n",
    "\n",
    "# Define parameters\n",
    "scales = [30, 50]\n",
    "output_dir = \"Data/ESA\"\n",
    "os.makedirs(output_dir, exist_ok=True)\n",
    "\n",
    "# Process each area at each scale\n",
    "for area_name, area in areas.items():\n",
    "    for scale in scales:\n",
    "        output_path = os.path.join(output_dir, f\"{area_name}_worldcover_{scale}m.nc\")\n",
    "\n",
    "        print(f\"Processing {area_name} at {scale}m resolution...\")\n",
    "        process_worldcover(\n",
    "            aoi=area,\n",
    "            output_path=output_path,\n",
    "            scale=scale\n",
    "        )\n",
    "        print(f\"Saved to {output_path}\")"
   ],
   "id": "initial_id",
   "outputs": [
    {
     "data": {
      "text/plain": [
       "<IPython.core.display.HTML object>"
      ],
      "text/html": [
       "\n",
       "            <style>\n",
       "                .geemap-dark {\n",
       "                    --jp-widgets-color: white;\n",
       "                    --jp-widgets-label-color: white;\n",
       "                    --jp-ui-font-color1: white;\n",
       "                    --jp-layout-color2: #454545;\n",
       "                    background-color: #383838;\n",
       "                }\n",
       "\n",
       "                .geemap-dark .jupyter-button {\n",
       "                    --jp-layout-color3: #383838;\n",
       "                }\n",
       "\n",
       "                .geemap-colab {\n",
       "                    background-color: var(--colab-primary-surface-color, white);\n",
       "                }\n",
       "\n",
       "                .geemap-colab .jupyter-button {\n",
       "                    --jp-layout-color3: var(--colab-primary-surface-color, white);\n",
       "                }\n",
       "            </style>\n",
       "            "
      ]
     },
     "metadata": {},
     "output_type": "display_data"
    },
    {
     "name": "stdout",
     "output_type": "stream",
     "text": [
      "Processing border_area at 30m resolution...\n"
     ]
    },
    {
     "data": {
      "text/plain": [
       "Downloading:   0%|          | 0.00/111k [00:00<?, ?iB/s]"
      ],
      "application/vnd.jupyter.widget-view+json": {
       "version_major": 2,
       "version_minor": 0,
       "model_id": "ef24d8b5c84445cf9b2debf6630646ce"
      }
     },
     "metadata": {},
     "output_type": "display_data"
    },
    {
     "name": "stdout",
     "output_type": "stream",
     "text": [
      "Saved to Data/ESA/border_area_worldcover_30m.nc\n",
      "Processing border_area at 50m resolution...\n"
     ]
    },
    {
     "data": {
      "text/plain": [
       "Downloading:   0%|          | 0.00/43.0k [00:00<?, ?iB/s]"
      ],
      "application/vnd.jupyter.widget-view+json": {
       "version_major": 2,
       "version_minor": 0,
       "model_id": "366b4171105549829546a46f94c88989"
      }
     },
     "metadata": {},
     "output_type": "display_data"
    },
    {
     "name": "stdout",
     "output_type": "stream",
     "text": [
      "Saved to Data/ESA/border_area_worldcover_50m.nc\n",
      "Processing parana_delta at 30m resolution...\n"
     ]
    },
    {
     "data": {
      "text/plain": [
       "Downloading:   0%|          | 0.00/97.1k [00:00<?, ?iB/s]"
      ],
      "application/vnd.jupyter.widget-view+json": {
       "version_major": 2,
       "version_minor": 0,
       "model_id": "ff46afdadc0d4758b4e74d95998e0fd6"
      }
     },
     "metadata": {},
     "output_type": "display_data"
    },
    {
     "name": "stdout",
     "output_type": "stream",
     "text": [
      "Saved to Data/ESA/parana_delta_worldcover_30m.nc\n",
      "Processing parana_delta at 50m resolution...\n"
     ]
    },
    {
     "data": {
      "text/plain": [
       "Downloading:   0%|          | 0.00/42.5k [00:00<?, ?iB/s]"
      ],
      "application/vnd.jupyter.widget-view+json": {
       "version_major": 2,
       "version_minor": 0,
       "model_id": "ccb6bf4b58b94b27ac155f2f09590a62"
      }
     },
     "metadata": {},
     "output_type": "display_data"
    },
    {
     "name": "stdout",
     "output_type": "stream",
     "text": [
      "Saved to Data/ESA/parana_delta_worldcover_50m.nc\n"
     ]
    }
   ],
   "execution_count": 3
  },
  {
   "metadata": {
    "jupyter": {
     "is_executing": true
    },
    "ExecuteTime": {
     "start_time": "2024-11-28T19:43:07.306626Z"
    }
   },
   "cell_type": "code",
   "source": [
    "# Descarga Dynamic World\n",
    "\n",
    "\n",
    "# Define parameters\n",
    "processing_types = ['mode', 'mode_pooled', 'mean_pooled', 'mean_unpooled']\n",
    "scales = [30, 50]  # Different spatial resolutions in meters\n",
    "output_dir = \"Data/DW\"\n",
    "os.makedirs(output_dir, exist_ok=True)\n",
    "\n",
    "# Process each area with each method and scale\n",
    "for area_name, area in areas.items():\n",
    "    for proc_type in processing_types:\n",
    "        for scale in scales:\n",
    "            output_path = os.path.join(output_dir, f\"2020_{area_name}_{proc_type}_{scale}m.nc\")\n",
    "\n",
    "            print(f\"Processing {area_name} with {proc_type} at {scale}m resolution...\")\n",
    "            process_dynamic_world(\n",
    "                aoi=area,\n",
    "                processing_type=proc_type,\n",
    "                output_path=output_path,\n",
    "                scale=scale,\n",
    "                start_date=\"2020-01-01\",\n",
    "                end_date=\"2021-01-01\",\n",
    "                include_probabilities=True\n",
    "            )\n",
    "            print(f\"Saved to {output_path}\")"
   ],
   "id": "ef11ae26066c6eb6",
   "outputs": [
    {
     "data": {
      "text/plain": [
       "<IPython.core.display.HTML object>"
      ],
      "text/html": [
       "\n",
       "            <style>\n",
       "                .geemap-dark {\n",
       "                    --jp-widgets-color: white;\n",
       "                    --jp-widgets-label-color: white;\n",
       "                    --jp-ui-font-color1: white;\n",
       "                    --jp-layout-color2: #454545;\n",
       "                    background-color: #383838;\n",
       "                }\n",
       "\n",
       "                .geemap-dark .jupyter-button {\n",
       "                    --jp-layout-color3: #383838;\n",
       "                }\n",
       "\n",
       "                .geemap-colab {\n",
       "                    background-color: var(--colab-primary-surface-color, white);\n",
       "                }\n",
       "\n",
       "                .geemap-colab .jupyter-button {\n",
       "                    --jp-layout-color3: var(--colab-primary-surface-color, white);\n",
       "                }\n",
       "            </style>\n",
       "            "
      ]
     },
     "metadata": {},
     "output_type": "display_data"
    },
    {
     "name": "stdout",
     "output_type": "stream",
     "text": [
      "Processing border_area with mode at 30m resolution...\n",
      "Processing label band\n"
     ]
    },
    {
     "data": {
      "text/plain": [
       "Requesting data:   0%|          | 0/1 [00:00<?, ?it/s]"
      ],
      "application/vnd.jupyter.widget-view+json": {
       "version_major": 2,
       "version_minor": 0,
       "model_id": "a3033a9be1e841d6b921e4bdcdbd3e5b"
      }
     },
     "metadata": {},
     "output_type": "display_data"
    },
    {
     "data": {
      "text/plain": [
       "Downloading data:   0%|          | 0/1 [00:00<?, ?it/s]"
      ],
      "application/vnd.jupyter.widget-view+json": {
       "version_major": 2,
       "version_minor": 0,
       "model_id": "618c38b6d46b4804ac4a4269a8c0e462"
      }
     },
     "metadata": {},
     "output_type": "display_data"
    }
   ],
   "execution_count": null
  },
  {
   "metadata": {},
   "cell_type": "code",
   "source": "",
   "id": "11f1eb1ac5616b57",
   "outputs": [],
   "execution_count": null
  }
 ],
 "metadata": {
  "kernelspec": {
   "display_name": "Python 3",
   "language": "python",
   "name": "python3"
  },
  "language_info": {
   "codemirror_mode": {
    "name": "ipython",
    "version": 2
   },
   "file_extension": ".py",
   "mimetype": "text/x-python",
   "name": "python",
   "nbconvert_exporter": "python",
   "pygments_lexer": "ipython2",
   "version": "2.7.6"
  }
 },
 "nbformat": 4,
 "nbformat_minor": 5
}
