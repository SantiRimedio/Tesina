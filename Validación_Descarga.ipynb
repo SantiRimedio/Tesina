{
 "cells": [
  {
   "metadata": {
    "ExecuteTime": {
     "end_time": "2024-11-21T13:39:55.182991Z",
     "start_time": "2024-11-21T13:39:48.133185Z"
    }
   },
   "cell_type": "code",
   "source": [
    "from function_utils import initialize_gee, process_worldcover, visualize_areas, process_dynamic_world\n",
    "from geo_utils import get_study_areas\n",
    "import os\n",
    "\n",
    "# Initialize Earth Engine\n",
    "initialize_gee('ee-nunezrimedio-tesina')\n",
    "\n",
    "# Get study areas\n",
    "areas = get_study_areas()\n",
    "\n",
    "# Visualize areas if needed\n",
    "visualize_areas(areas)"
   ],
   "id": "4f23b88b533c20d6",
   "outputs": [
    {
     "name": "stderr",
     "output_type": "stream",
     "text": [
      "*** Earth Engine *** Share your feedback by taking our Annual Developer Satisfaction Survey: https://google.qualtrics.com/jfe/form/SV_0JLhFqfSY1uiEaW?source=Init\n"
     ]
    },
    {
     "data": {
      "text/plain": [
       "Map(center=[-27, -62], controls=(WidgetControl(options=['position', 'transparent_bg'], widget=SearchDataGUI(ch…"
      ],
      "application/vnd.jupyter.widget-view+json": {
       "version_major": 2,
       "version_minor": 0,
       "model_id": "bb18397106e646fea363abcf76e96b0a"
      }
     },
     "execution_count": 1,
     "metadata": {},
     "output_type": "execute_result"
    }
   ],
   "execution_count": 1
  },
  {
   "metadata": {
    "collapsed": true,
    "ExecuteTime": {
     "end_time": "2024-11-21T12:09:53.566914Z",
     "start_time": "2024-11-21T12:08:14.205054Z"
    }
   },
   "cell_type": "code",
   "source": [
    "# Descarga WorldCover ESA\n",
    "\n",
    "# Define parameters\n",
    "scales = [10, 30, 50]\n",
    "output_dir = \"Data/ESA\"\n",
    "os.makedirs(output_dir, exist_ok=True)\n",
    "\n",
    "# Process each area at each scale\n",
    "for area_name, area in areas.items():\n",
    "    for scale in scales:\n",
    "        output_path = os.path.join(output_dir, f\"{area_name}_worldcover_{scale}m.nc\")\n",
    "\n",
    "        print(f\"Processing {area_name} at {scale}m resolution...\")\n",
    "        process_worldcover(\n",
    "            aoi=area,\n",
    "            output_path=output_path,\n",
    "            scale=scale\n",
    "        )\n",
    "        print(f\"Saved to {output_path}\")"
   ],
   "id": "initial_id",
   "outputs": [
    {
     "data": {
      "text/plain": [
       "<IPython.core.display.HTML object>"
      ],
      "text/html": [
       "\n",
       "            <style>\n",
       "                .geemap-dark {\n",
       "                    --jp-widgets-color: white;\n",
       "                    --jp-widgets-label-color: white;\n",
       "                    --jp-ui-font-color1: white;\n",
       "                    --jp-layout-color2: #454545;\n",
       "                    background-color: #383838;\n",
       "                }\n",
       "\n",
       "                .geemap-dark .jupyter-button {\n",
       "                    --jp-layout-color3: #383838;\n",
       "                }\n",
       "\n",
       "                .geemap-colab {\n",
       "                    background-color: var(--colab-primary-surface-color, white);\n",
       "                }\n",
       "\n",
       "                .geemap-colab .jupyter-button {\n",
       "                    --jp-layout-color3: var(--colab-primary-surface-color, white);\n",
       "                }\n",
       "            </style>\n",
       "            "
      ]
     },
     "metadata": {},
     "output_type": "display_data"
    },
    {
     "name": "stdout",
     "output_type": "stream",
     "text": [
      "Processing border_area at 10m resolution...\n"
     ]
    },
    {
     "data": {
      "text/plain": [
       "Downloading:   0%|          | 0.00/12.9k [00:00<?, ?iB/s]"
      ],
      "application/vnd.jupyter.widget-view+json": {
       "version_major": 2,
       "version_minor": 0,
       "model_id": "bd92302d22844bf4a852eb336e1fb96f"
      }
     },
     "metadata": {},
     "output_type": "display_data"
    },
    {
     "name": "stdout",
     "output_type": "stream",
     "text": [
      "Saved to Data/ESA/border_area_worldcover_10m.nc\n",
      "Processing border_area at 30m resolution...\n"
     ]
    },
    {
     "data": {
      "text/plain": [
       "Downloading:   0%|          | 0.00/3.41k [00:00<?, ?iB/s]"
      ],
      "application/vnd.jupyter.widget-view+json": {
       "version_major": 2,
       "version_minor": 0,
       "model_id": "fa416e42fbc440239e8c4d07f55e9ce7"
      }
     },
     "metadata": {},
     "output_type": "display_data"
    },
    {
     "name": "stdout",
     "output_type": "stream",
     "text": [
      "Saved to Data/ESA/border_area_worldcover_30m.nc\n",
      "Processing border_area at 50m resolution...\n"
     ]
    },
    {
     "data": {
      "text/plain": [
       "Downloading:   0%|          | 0.00/1.98k [00:00<?, ?iB/s]"
      ],
      "application/vnd.jupyter.widget-view+json": {
       "version_major": 2,
       "version_minor": 0,
       "model_id": "0a55814e4b694bcc8276adb722219da8"
      }
     },
     "metadata": {},
     "output_type": "display_data"
    },
    {
     "name": "stdout",
     "output_type": "stream",
     "text": [
      "Saved to Data/ESA/border_area_worldcover_50m.nc\n",
      "Processing parana_delta at 10m resolution...\n",
      "Area too large, processing in chunks...\n"
     ]
    },
    {
     "data": {
      "text/plain": [
       "Downloading:   0%|          | 0.00/505k [00:00<?, ?iB/s]"
      ],
      "application/vnd.jupyter.widget-view+json": {
       "version_major": 2,
       "version_minor": 0,
       "model_id": "a16280dd8677426a9ad18f07c652a62a"
      }
     },
     "metadata": {},
     "output_type": "display_data"
    },
    {
     "name": "stdout",
     "output_type": "stream",
     "text": [
      "Processing chunk 2/4...\n"
     ]
    },
    {
     "data": {
      "text/plain": [
       "Downloading:   0%|          | 0.00/725k [00:00<?, ?iB/s]"
      ],
      "application/vnd.jupyter.widget-view+json": {
       "version_major": 2,
       "version_minor": 0,
       "model_id": "13b04ae960e94ccf9eaaeb1913b82d22"
      }
     },
     "metadata": {},
     "output_type": "display_data"
    },
    {
     "name": "stdout",
     "output_type": "stream",
     "text": [
      "Processing chunk 3/4...\n"
     ]
    },
    {
     "data": {
      "text/plain": [
       "Downloading:   0%|          | 0.00/406k [00:00<?, ?iB/s]"
      ],
      "application/vnd.jupyter.widget-view+json": {
       "version_major": 2,
       "version_minor": 0,
       "model_id": "0de88b01f5484b8da893270347dc60fb"
      }
     },
     "metadata": {},
     "output_type": "display_data"
    },
    {
     "name": "stdout",
     "output_type": "stream",
     "text": [
      "Processing chunk 4/4...\n"
     ]
    },
    {
     "data": {
      "text/plain": [
       "Downloading:   0%|          | 0.00/776k [00:00<?, ?iB/s]"
      ],
      "application/vnd.jupyter.widget-view+json": {
       "version_major": 2,
       "version_minor": 0,
       "model_id": "1c5a7a8418da4b6a9b16bbd3b04770af"
      }
     },
     "metadata": {},
     "output_type": "display_data"
    },
    {
     "name": "stdout",
     "output_type": "stream",
     "text": [
      "Saved to Data/ESA/parana_delta_worldcover_10m.nc\n",
      "Processing parana_delta at 30m resolution...\n"
     ]
    },
    {
     "data": {
      "text/plain": [
       "Downloading:   0%|          | 0.00/462k [00:00<?, ?iB/s]"
      ],
      "application/vnd.jupyter.widget-view+json": {
       "version_major": 2,
       "version_minor": 0,
       "model_id": "c38773fe59504afca052fac3d3658f90"
      }
     },
     "metadata": {},
     "output_type": "display_data"
    },
    {
     "name": "stdout",
     "output_type": "stream",
     "text": [
      "Saved to Data/ESA/parana_delta_worldcover_30m.nc\n",
      "Processing parana_delta at 50m resolution...\n"
     ]
    },
    {
     "data": {
      "text/plain": [
       "Downloading:   0%|          | 0.00/197k [00:00<?, ?iB/s]"
      ],
      "application/vnd.jupyter.widget-view+json": {
       "version_major": 2,
       "version_minor": 0,
       "model_id": "a623710e25e54bf3b33db7d4793aa453"
      }
     },
     "metadata": {},
     "output_type": "display_data"
    },
    {
     "name": "stdout",
     "output_type": "stream",
     "text": [
      "Saved to Data/ESA/parana_delta_worldcover_50m.nc\n"
     ]
    }
   ],
   "execution_count": 4
  },
  {
   "metadata": {
    "jupyter": {
     "is_executing": true
    },
    "ExecuteTime": {
     "start_time": "2024-11-21T13:39:55.209507Z"
    }
   },
   "cell_type": "code",
   "source": [
    "# Descarga Dynamic World\n",
    "\n",
    "\n",
    "# Define parameters\n",
    "processing_types = ['mode', 'mode_pooled', 'mean_pooled', 'mean_unpooled']\n",
    "scales = [10, 30, 50]  # Different spatial resolutions in meters\n",
    "output_dir = \"Data/DW\"\n",
    "os.makedirs(output_dir, exist_ok=True)\n",
    "\n",
    "# Process each area with each method and scale\n",
    "for area_name, area in areas.items():\n",
    "    for proc_type in processing_types:\n",
    "        for scale in scales:\n",
    "            output_path = os.path.join(output_dir, f\"2020_{area_name}_{proc_type}_{scale}m.nc\")\n",
    "\n",
    "            print(f\"Processing {area_name} with {proc_type} at {scale}m resolution...\")\n",
    "            process_dynamic_world(\n",
    "                aoi=area,\n",
    "                processing_type=proc_type,\n",
    "                output_path=output_path,\n",
    "                scale=scale,\n",
    "                start_date=\"2020-01-01\",\n",
    "                end_date=\"2021-01-01\",\n",
    "                include_probabilities=True\n",
    "            )\n",
    "            print(f\"Saved to {output_path}\")"
   ],
   "id": "ef11ae26066c6eb6",
   "outputs": [
    {
     "data": {
      "text/plain": [
       "<IPython.core.display.HTML object>"
      ],
      "text/html": [
       "\n",
       "            <style>\n",
       "                .geemap-dark {\n",
       "                    --jp-widgets-color: white;\n",
       "                    --jp-widgets-label-color: white;\n",
       "                    --jp-ui-font-color1: white;\n",
       "                    --jp-layout-color2: #454545;\n",
       "                    background-color: #383838;\n",
       "                }\n",
       "\n",
       "                .geemap-dark .jupyter-button {\n",
       "                    --jp-layout-color3: #383838;\n",
       "                }\n",
       "\n",
       "                .geemap-colab {\n",
       "                    background-color: var(--colab-primary-surface-color, white);\n",
       "                }\n",
       "\n",
       "                .geemap-colab .jupyter-button {\n",
       "                    --jp-layout-color3: var(--colab-primary-surface-color, white);\n",
       "                }\n",
       "            </style>\n",
       "            "
      ]
     },
     "metadata": {},
     "output_type": "display_data"
    },
    {
     "name": "stdout",
     "output_type": "stream",
     "text": [
      "Processing border_area with mode at 10m resolution...\n",
      "Processing label band\n"
     ]
    },
    {
     "data": {
      "text/plain": [
       "Requesting data:   0%|          | 0/1 [00:00<?, ?it/s]"
      ],
      "application/vnd.jupyter.widget-view+json": {
       "version_major": 2,
       "version_minor": 0,
       "model_id": "eca70d86f340473cbf4c79c872902314"
      }
     },
     "metadata": {},
     "output_type": "display_data"
    },
    {
     "data": {
      "text/plain": [
       "Downloading data:   0%|          | 0/1 [00:00<?, ?it/s]"
      ],
      "application/vnd.jupyter.widget-view+json": {
       "version_major": 2,
       "version_minor": 0,
       "model_id": "1fdc72dd83a4432bb1edc8f85a4e5db7"
      }
     },
     "metadata": {},
     "output_type": "display_data"
    },
    {
     "name": "stdout",
     "output_type": "stream",
     "text": [
      "Processing probability band: water\n"
     ]
    },
    {
     "data": {
      "text/plain": [
       "Requesting data:   0%|          | 0/1 [00:00<?, ?it/s]"
      ],
      "application/vnd.jupyter.widget-view+json": {
       "version_major": 2,
       "version_minor": 0,
       "model_id": "218ed04bad7046a8bb73039fb03c88a5"
      }
     },
     "metadata": {},
     "output_type": "display_data"
    },
    {
     "data": {
      "text/plain": [
       "Downloading data:   0%|          | 0/1 [00:00<?, ?it/s]"
      ],
      "application/vnd.jupyter.widget-view+json": {
       "version_major": 2,
       "version_minor": 0,
       "model_id": "13f9b9ae66e041ce91a9dbbc30fbdefa"
      }
     },
     "metadata": {},
     "output_type": "display_data"
    },
    {
     "name": "stdout",
     "output_type": "stream",
     "text": [
      "Processing probability band: trees\n"
     ]
    },
    {
     "data": {
      "text/plain": [
       "Requesting data:   0%|          | 0/1 [00:00<?, ?it/s]"
      ],
      "application/vnd.jupyter.widget-view+json": {
       "version_major": 2,
       "version_minor": 0,
       "model_id": "58d295c7461a4006aa02707d6a930ba7"
      }
     },
     "metadata": {},
     "output_type": "display_data"
    },
    {
     "data": {
      "text/plain": [
       "Downloading data:   0%|          | 0/1 [00:00<?, ?it/s]"
      ],
      "application/vnd.jupyter.widget-view+json": {
       "version_major": 2,
       "version_minor": 0,
       "model_id": "99396b1b42844b36ad809a2bacae0208"
      }
     },
     "metadata": {},
     "output_type": "display_data"
    }
   ],
   "execution_count": null
  },
  {
   "metadata": {},
   "cell_type": "code",
   "outputs": [],
   "execution_count": null,
   "source": "",
   "id": "11f1eb1ac5616b57"
  }
 ],
 "metadata": {
  "kernelspec": {
   "display_name": "Python 3",
   "language": "python",
   "name": "python3"
  },
  "language_info": {
   "codemirror_mode": {
    "name": "ipython",
    "version": 2
   },
   "file_extension": ".py",
   "mimetype": "text/x-python",
   "name": "python",
   "nbconvert_exporter": "python",
   "pygments_lexer": "ipython2",
   "version": "2.7.6"
  }
 },
 "nbformat": 4,
 "nbformat_minor": 5
}
