{
 "cells": [
  {
   "cell_type": "code",
   "execution_count": 7,
   "id": "7f720e7265fe3ab2",
   "metadata": {
    "ExecuteTime": {
     "end_time": "2024-09-05T14:19:49.894300Z",
     "start_time": "2024-09-05T14:19:49.889297Z"
    }
   },
   "outputs": [
    {
     "data": {
      "text/html": [
       "\n",
       "            <style>\n",
       "                .geemap-dark {\n",
       "                    --jp-widgets-color: white;\n",
       "                    --jp-widgets-label-color: white;\n",
       "                    --jp-ui-font-color1: white;\n",
       "                    --jp-layout-color2: #454545;\n",
       "                    background-color: #383838;\n",
       "                }\n",
       "\n",
       "                .geemap-dark .jupyter-button {\n",
       "                    --jp-layout-color3: #383838;\n",
       "                }\n",
       "\n",
       "                .geemap-colab {\n",
       "                    background-color: var(--colab-primary-surface-color, white);\n",
       "                }\n",
       "\n",
       "                .geemap-colab .jupyter-button {\n",
       "                    --jp-layout-color3: var(--colab-primary-surface-color, white);\n",
       "                }\n",
       "            </style>\n",
       "            "
      ],
      "text/plain": [
       "<IPython.core.display.HTML object>"
      ]
     },
     "metadata": {},
     "output_type": "display_data"
    }
   ],
   "source": [
    "import ee\n",
    "import geopandas as gpd\n",
    "import geemap\n",
    "import xarray as xr\n",
    "import wxee"
   ]
  },
  {
   "cell_type": "code",
   "execution_count": 8,
   "id": "initial_id",
   "metadata": {
    "ExecuteTime": {
     "end_time": "2024-09-05T14:06:56.730220Z",
     "start_time": "2024-09-05T14:06:54.069054Z"
    }
   },
   "outputs": [
    {
     "data": {
      "text/html": [
       "\n",
       "            <style>\n",
       "                .geemap-dark {\n",
       "                    --jp-widgets-color: white;\n",
       "                    --jp-widgets-label-color: white;\n",
       "                    --jp-ui-font-color1: white;\n",
       "                    --jp-layout-color2: #454545;\n",
       "                    background-color: #383838;\n",
       "                }\n",
       "\n",
       "                .geemap-dark .jupyter-button {\n",
       "                    --jp-layout-color3: #383838;\n",
       "                }\n",
       "\n",
       "                .geemap-colab {\n",
       "                    background-color: var(--colab-primary-surface-color, white);\n",
       "                }\n",
       "\n",
       "                .geemap-colab .jupyter-button {\n",
       "                    --jp-layout-color3: var(--colab-primary-surface-color, white);\n",
       "                }\n",
       "            </style>\n",
       "            "
      ],
      "text/plain": [
       "<IPython.core.display.HTML object>"
      ]
     },
     "metadata": {},
     "output_type": "display_data"
    }
   ],
   "source": [
    "ee.Authenticate()\n",
    "ee.Initialize(project='ee-nunezrimedio-tesina',opt_url='https://earthengine-highvolume.googleapis.com')"
   ]
  },
  {
   "cell_type": "code",
   "execution_count": 11,
   "id": "922b0136d5a4fa85",
   "metadata": {
    "ExecuteTime": {
     "end_time": "2024-09-05T14:20:28.877899Z",
     "start_time": "2024-09-05T14:20:17.440922Z"
    }
   },
   "outputs": [
    {
     "data": {
      "text/html": [
       "\n",
       "            <style>\n",
       "                .geemap-dark {\n",
       "                    --jp-widgets-color: white;\n",
       "                    --jp-widgets-label-color: white;\n",
       "                    --jp-ui-font-color1: white;\n",
       "                    --jp-layout-color2: #454545;\n",
       "                    background-color: #383838;\n",
       "                }\n",
       "\n",
       "                .geemap-dark .jupyter-button {\n",
       "                    --jp-layout-color3: #383838;\n",
       "                }\n",
       "\n",
       "                .geemap-colab {\n",
       "                    background-color: var(--colab-primary-surface-color, white);\n",
       "                }\n",
       "\n",
       "                .geemap-colab .jupyter-button {\n",
       "                    --jp-layout-color3: var(--colab-primary-surface-color, white);\n",
       "                }\n",
       "            </style>\n",
       "            "
      ],
      "text/plain": [
       "<IPython.core.display.HTML object>"
      ]
     },
     "metadata": {},
     "output_type": "display_data"
    },
    {
     "data": {
      "text/html": [
       "<div><style>:root {\n",
       "  --font-color-primary: var(--jp-content-font-color0, rgba(0, 0, 0, 1));\n",
       "  --font-color-secondary: var(--jp-content-font-color2, rgba(0, 0, 0, 0.6));\n",
       "  --font-color-accent: rgba(123, 31, 162, 1);\n",
       "  --border-color: var(--jp-border-color2, #e0e0e0);\n",
       "  --background-color: var(--jp-layout-color0, white);\n",
       "  --background-color-row-even: var(--jp-layout-color1, white);\n",
       "  --background-color-row-odd: var(--jp-layout-color2, #eeeeee);\n",
       "}\n",
       "\n",
       "html[theme=\"dark\"],\n",
       "body[data-theme=\"dark\"],\n",
       "body.vscode-dark {\n",
       "  --font-color-primary: rgba(255, 255, 255, 1);\n",
       "  --font-color-secondary: rgba(255, 255, 255, 0.6);\n",
       "  --font-color-accent: rgb(173, 132, 190);\n",
       "  --border-color: #2e2e2e;\n",
       "  --background-color: #111111;\n",
       "  --background-color-row-even: #111111;\n",
       "  --background-color-row-odd: #313131;\n",
       "}\n",
       "\n",
       ".ee {\n",
       "  padding: 1em;\n",
       "  line-height: 1.5em;\n",
       "  min-width: 300px;\n",
       "  max-width: 1200px;\n",
       "  overflow-y: scroll;\n",
       "  max-height: 600px;\n",
       "  border: 1px solid var(--border-color);\n",
       "  font-family: monospace;\n",
       "}\n",
       "\n",
       ".ee li {\n",
       "  list-style-type: none;\n",
       "}\n",
       "\n",
       ".ee ul {\n",
       "  padding-left: 1.5em !important;\n",
       "  margin: 0;\n",
       "}\n",
       "\n",
       ".ee > ul {\n",
       "  padding-left: 0 !important;\n",
       "}\n",
       "\n",
       ".ee-open,\n",
       ".ee-shut {\n",
       "  color: var(--font-color-secondary);\n",
       "  cursor: pointer;\n",
       "  margin: 0;\n",
       "}\n",
       "\n",
       ".ee-open:hover,\n",
       ".ee-shut:hover {\n",
       "  color: var(--font-color-primary);\n",
       "}\n",
       "\n",
       ".ee-k {\n",
       "  color: var(--font-color-accent);\n",
       "  margin-right: 6px;\n",
       "}\n",
       "\n",
       ".ee-v {\n",
       "  color: var(--font-color-primary);\n",
       "}\n",
       "\n",
       ".ee-toggle {\n",
       "  display: none;\n",
       "}\n",
       "\n",
       ".ee-shut + ul {\n",
       "  display: none;\n",
       "}\n",
       "\n",
       ".ee-open + ul {\n",
       "  display: block;\n",
       "}\n",
       "\n",
       ".ee-shut::before {\n",
       "  display: inline-block;\n",
       "  content: \"▼\";\n",
       "  margin-right: 6px;\n",
       "  transform: rotate(-90deg);\n",
       "  transition: transform 0.2s;\n",
       "}\n",
       "\n",
       ".ee-open::before {\n",
       "  transform: rotate(0deg);\n",
       "  display: inline-block;\n",
       "  content: \"▼\";\n",
       "  margin-right: 6px;\n",
       "  transition: transform 0.2s;\n",
       "}\n",
       "</style><div class='ee'><ul><li><label class='ee-shut'>ImageCollection GOOGLE/DYNAMICWORLD/V1  (11 elements)<input type='checkbox' class='ee-toggle'></label><ul><li><span class='ee-k'>type:</span><span class='ee-v'>ImageCollection</span></li><li><span class='ee-k'>id:</span><span class='ee-v'>GOOGLE/DYNAMICWORLD/V1</span></li><li><label class='ee-shut'>bands: []<input type='checkbox' class='ee-toggle'></label><ul></ul></li><li><label class='ee-shut'>features: List (11 elements)<input type='checkbox' class='ee-toggle'></label><ul><li><label class='ee-shut'>0: Image GOOGLE/DYNAMICWORLD/V1/20200102T140051_20200102T141259_T19FDA (1 band)<input type='checkbox' class='ee-toggle'></label><ul><li><span class='ee-k'>type:</span><span class='ee-v'>Image</span></li><li><span class='ee-k'>id:</span><span class='ee-v'>GOOGLE/DYNAMICWORLD/V1/20200102T140051_20200102T141259_T19FDA</span></li><li><span class='ee-k'>version:</span><span class='ee-v'>1725545762273396</span></li><li><label class='ee-shut'>bands: List (1 element)<input type='checkbox' class='ee-toggle'></label><ul><li><label class='ee-shut'>0: \"label\", unsigned int8, EPSG:4326<input type='checkbox' class='ee-toggle'></label><ul><li><span class='ee-k'>id:</span><span class='ee-v'>label</span></li><li><span class='ee-k'>crs:</span><span class='ee-v'>EPSG:4326</span></li><li><label class='ee-shut'>crs_transform: [1, 0, 0, 0, 1, 0]<input type='checkbox' class='ee-toggle'></label><ul><li><span class='ee-k'>0:</span><span class='ee-v'>1</span></li><li><span class='ee-k'>1:</span><span class='ee-v'>0</span></li><li><span class='ee-k'>2:</span><span class='ee-v'>0</span></li><li><span class='ee-k'>3:</span><span class='ee-v'>0</span></li><li><span class='ee-k'>4:</span><span class='ee-v'>1</span></li><li><span class='ee-k'>5:</span><span class='ee-v'>0</span></li></ul></li><li><label class='ee-shut'>data_type: unsigned int8<input type='checkbox' class='ee-toggle'></label><ul><li><span class='ee-k'>type:</span><span class='ee-v'>PixelType</span></li><li><span class='ee-k'>max:</span><span class='ee-v'>255</span></li><li><span class='ee-k'>min:</span><span class='ee-v'>0</span></li><li><span class='ee-k'>precision:</span><span class='ee-v'>int</span></li></ul></li></ul></li></ul></li><li><label class='ee-shut'>properties: Object (6 properties)<input type='checkbox' class='ee-toggle'></label><ul><li><span class='ee-k'>dynamicworld_algorithm_version:</span><span class='ee-v'>3.5</span></li><li><span class='ee-k'>qa_algorithm_version:</span><span class='ee-v'>1</span></li><li><span class='ee-k'>system:asset_size:</span><span class='ee-v'>612032037</span></li><li><label class='ee-shut'>system:footprint: LinearRing (19 vertices)<input type='checkbox' class='ee-toggle'></label><ul><li><span class='ee-k'>type:</span><span class='ee-v'>LinearRing</span></li><li><label class='ee-shut'>coordinates: List (19 elements)<input type='checkbox' class='ee-toggle'></label><ul><li><label class='ee-shut'>0: [-70.4963297827744, -53.24143752278791]<input type='checkbox' class='ee-toggle'></label><ul><li><span class='ee-k'>0:</span><span class='ee-v'>-70.4963297827744</span></li><li><span class='ee-k'>1:</span><span class='ee-v'>-53.24143752278791</span></li></ul></li><li><label class='ee-shut'>1: [-70.49633138630597, -53.24144873517119]<input type='checkbox' class='ee-toggle'></label><ul><li><span class='ee-k'>0:</span><span class='ee-v'>-70.49633138630597</span></li><li><span class='ee-k'>1:</span><span class='ee-v'>-53.24144873517119</span></li></ul></li><li><label class='ee-shut'>2: [-70.51373232985509, -53.732915475120784]<input type='checkbox' class='ee-toggle'></label><ul><li><span class='ee-k'>0:</span><span class='ee-v'>-70.51373232985509</span></li><li><span class='ee-k'>1:</span><span class='ee-v'>-53.732915475120784</span></li></ul></li><li><label class='ee-shut'>3: [-70.53165646249464, -54.22433765301265]<input type='checkbox' class='ee-toggle'></label><ul><li><span class='ee-k'>0:</span><span class='ee-v'>-70.53165646249464</span></li><li><span class='ee-k'>1:</span><span class='ee-v'>-54.22433765301265</span></li></ul></li><li><label class='ee-shut'>4: [-70.53159545008147, -54.22437988990759]<input type='checkbox' class='ee-toggle'></label><ul><li><span class='ee-k'>0:</span><span class='ee-v'>-70.53159545008147</span></li><li><span class='ee-k'>1:</span><span class='ee-v'>-54.22437988990759</span></li></ul></li><li><label class='ee-shut'>5: [-70.5315438283783, -54.22442629867268]<input type='checkbox' class='ee-toggle'></label><ul><li><span class='ee-k'>0:</span><span class='ee-v'>-70.5315438283783</span></li><li><span class='ee-k'>1:</span><span class='ee-v'>-54.22442629867268</span></li></ul></li><li><label class='ee-shut'>6: [-70.53151868318245, -54.22442944185984]<input type='checkbox' class='ee-toggle'></label><ul><li><span class='ee-k'>0:</span><span class='ee-v'>-70.53151868318245</span></li><li><span class='ee-k'>1:</span><span class='ee-v'>-54.22442944185984</span></li></ul></li><li><label class='ee-shut'>7: [-68.85356213906738, -54.234071790109525]<input type='checkbox' class='ee-toggle'></label><ul><li><span class='ee-k'>0:</span><span class='ee-v'>-68.85356213906738</span></li><li><span class='ee-k'>1:</span><span class='ee-v'>-54.234071790109525</span></li></ul></li><li><label class='ee-shut'>8: [-68.85349140946737, -54.23403517998849]<input type='checkbox' class='ee-toggle'></label><ul><li><span class='ee-k'>0:</span><span class='ee-v'>-68.85349140946737</span></li><li><span class='ee-k'>1:</span><span class='ee-v'>-54.23403517998849</span></li></ul></li><li><label class='ee-shut'>9: [-68.85341327293489, -54.234004013914564]<input type='checkbox' class='ee-toggle'></label><ul><li><span class='ee-k'>0:</span><span class='ee-v'>-68.85341327293489</span></li><li><span class='ee-k'>1:</span><span class='ee-v'>-54.234004013914564</span></li></ul></li><li><label class='ee-shut'>10: [-68.8534085491861, -54.23398919285666]<input type='checkbox' class='ee-toggle'></label><ul><li><span class='ee-k'>0:</span><span class='ee-v'>-68.8534085491861</span></li><li><span class='ee-k'>1:</span><span class='ee-v'>-54.23398919285666</span></li></ul></li><li><label class='ee-shut'>11: [-68.85679091770375, -53.25075400620866]<input type='checkbox' class='ee-toggle'></label><ul><li><span class='ee-k'>0:</span><span class='ee-v'>-68.85679091770375</span></li><li><span class='ee-k'>1:</span><span class='ee-v'>-53.25075400620866</span></li></ul></li><li><label class='ee-shut'>12: [-68.85685220406319, -53.25071260093292]<input type='checkbox' class='ee-toggle'></label><ul><li><span class='ee-k'>0:</span><span class='ee-v'>-68.85685220406319</span></li><li><span class='ee-k'>1:</span><span class='ee-v'>-53.25071260093292</span></li></ul></li><li><label class='ee-shut'>13: [-68.85690430913712, -53.250666911001915]<input type='checkbox' class='ee-toggle'></label><ul><li><span class='ee-k'>0:</span><span class='ee-v'>-68.85690430913712</span></li><li><span class='ee-k'>1:</span><span class='ee-v'>-53.250666911001915</span></li></ul></li><li><label class='ee-shut'>14: [-68.85692904044886, -53.25066417932014]<input type='checkbox' class='ee-toggle'></label><ul><li><span class='ee-k'>0:</span><span class='ee-v'>-68.85692904044886</span></li><li><span class='ee-k'>1:</span><span class='ee-v'>-53.25066417932014</span></li></ul></li><li><label class='ee-shut'>15: [-70.49617785068216, -53.241360696755784]<input type='checkbox' class='ee-toggle'></label><ul><li><span class='ee-k'>0:</span><span class='ee-v'>-70.49617785068216</span></li><li><span class='ee-k'>1:</span><span class='ee-v'>-53.241360696755784</span></li></ul></li><li><label class='ee-shut'>16: [-70.4962483751049, -53.24139634812113]<input type='checkbox' class='ee-toggle'></label><ul><li><span class='ee-k'>0:</span><span class='ee-v'>-70.4962483751049</span></li><li><span class='ee-k'>1:</span><span class='ee-v'>-53.24139634812113</span></li></ul></li><li><label class='ee-shut'>17: [-70.49632588717374, -53.24142651945783]<input type='checkbox' class='ee-toggle'></label><ul><li><span class='ee-k'>0:</span><span class='ee-v'>-70.49632588717374</span></li><li><span class='ee-k'>1:</span><span class='ee-v'>-53.24142651945783</span></li></ul></li><li><label class='ee-shut'>18: [-70.4963297827744, -53.24143752278791]<input type='checkbox' class='ee-toggle'></label><ul><li><span class='ee-k'>0:</span><span class='ee-v'>-70.4963297827744</span></li><li><span class='ee-k'>1:</span><span class='ee-v'>-53.24143752278791</span></li></ul></li></ul></li></ul></li><li><span class='ee-k'>system:index:</span><span class='ee-v'>20200102T140051_20200102T141259_T19FDA</span></li><li><span class='ee-k'>system:time_start:</span><span class='ee-v'>1577974662785</span></li></ul></li></ul></li><li><label class='ee-shut'>1: Image GOOGLE/DYNAMICWORLD/V1/20200206T135639_20200206T140850_T19FDA (1 band)<input type='checkbox' class='ee-toggle'></label><ul><li><span class='ee-k'>type:</span><span class='ee-v'>Image</span></li><li><span class='ee-k'>id:</span><span class='ee-v'>GOOGLE/DYNAMICWORLD/V1/20200206T135639_20200206T140850_T19FDA</span></li><li><span class='ee-k'>version:</span><span class='ee-v'>1725545762273396</span></li><li><label class='ee-shut'>bands: List (1 element)<input type='checkbox' class='ee-toggle'></label><ul><li><label class='ee-shut'>0: \"label\", unsigned int8, EPSG:4326<input type='checkbox' class='ee-toggle'></label><ul><li><span class='ee-k'>id:</span><span class='ee-v'>label</span></li><li><span class='ee-k'>crs:</span><span class='ee-v'>EPSG:4326</span></li><li><label class='ee-shut'>crs_transform: [1, 0, 0, 0, 1, 0]<input type='checkbox' class='ee-toggle'></label><ul><li><span class='ee-k'>0:</span><span class='ee-v'>1</span></li><li><span class='ee-k'>1:</span><span class='ee-v'>0</span></li><li><span class='ee-k'>2:</span><span class='ee-v'>0</span></li><li><span class='ee-k'>3:</span><span class='ee-v'>0</span></li><li><span class='ee-k'>4:</span><span class='ee-v'>1</span></li><li><span class='ee-k'>5:</span><span class='ee-v'>0</span></li></ul></li><li><label class='ee-shut'>data_type: unsigned int8<input type='checkbox' class='ee-toggle'></label><ul><li><span class='ee-k'>type:</span><span class='ee-v'>PixelType</span></li><li><span class='ee-k'>max:</span><span class='ee-v'>255</span></li><li><span class='ee-k'>min:</span><span class='ee-v'>0</span></li><li><span class='ee-k'>precision:</span><span class='ee-v'>int</span></li></ul></li></ul></li></ul></li><li><label class='ee-shut'>properties: Object (6 properties)<input type='checkbox' class='ee-toggle'></label><ul><li><span class='ee-k'>dynamicworld_algorithm_version:</span><span class='ee-v'>3.5</span></li><li><span class='ee-k'>qa_algorithm_version:</span><span class='ee-v'>1</span></li><li><span class='ee-k'>system:asset_size:</span><span class='ee-v'>1698536964</span></li><li><label class='ee-shut'>system:footprint: LinearRing (19 vertices)<input type='checkbox' class='ee-toggle'></label><ul><li><span class='ee-k'>type:</span><span class='ee-v'>LinearRing</span></li><li><label class='ee-shut'>coordinates: List (19 elements)<input type='checkbox' class='ee-toggle'></label><ul><li><label class='ee-shut'>0: [-70.4963297827744, -53.24143752278791]<input type='checkbox' class='ee-toggle'></label><ul><li><span class='ee-k'>0:</span><span class='ee-v'>-70.4963297827744</span></li><li><span class='ee-k'>1:</span><span class='ee-v'>-53.24143752278791</span></li></ul></li><li><label class='ee-shut'>1: [-70.49633138630597, -53.24144873517119]<input type='checkbox' class='ee-toggle'></label><ul><li><span class='ee-k'>0:</span><span class='ee-v'>-70.49633138630597</span></li><li><span class='ee-k'>1:</span><span class='ee-v'>-53.24144873517119</span></li></ul></li><li><label class='ee-shut'>2: [-70.51373232985509, -53.732915475120784]<input type='checkbox' class='ee-toggle'></label><ul><li><span class='ee-k'>0:</span><span class='ee-v'>-70.51373232985509</span></li><li><span class='ee-k'>1:</span><span class='ee-v'>-53.732915475120784</span></li></ul></li><li><label class='ee-shut'>3: [-70.53165646249464, -54.22433765301265]<input type='checkbox' class='ee-toggle'></label><ul><li><span class='ee-k'>0:</span><span class='ee-v'>-70.53165646249464</span></li><li><span class='ee-k'>1:</span><span class='ee-v'>-54.22433765301265</span></li></ul></li><li><label class='ee-shut'>4: [-70.53159545008147, -54.22437988990759]<input type='checkbox' class='ee-toggle'></label><ul><li><span class='ee-k'>0:</span><span class='ee-v'>-70.53159545008147</span></li><li><span class='ee-k'>1:</span><span class='ee-v'>-54.22437988990759</span></li></ul></li><li><label class='ee-shut'>5: [-70.5315438283783, -54.22442629867268]<input type='checkbox' class='ee-toggle'></label><ul><li><span class='ee-k'>0:</span><span class='ee-v'>-70.5315438283783</span></li><li><span class='ee-k'>1:</span><span class='ee-v'>-54.22442629867268</span></li></ul></li><li><label class='ee-shut'>6: [-70.53151868318245, -54.22442944185984]<input type='checkbox' class='ee-toggle'></label><ul><li><span class='ee-k'>0:</span><span class='ee-v'>-70.53151868318245</span></li><li><span class='ee-k'>1:</span><span class='ee-v'>-54.22442944185984</span></li></ul></li><li><label class='ee-shut'>7: [-68.85356213906738, -54.234071790109525]<input type='checkbox' class='ee-toggle'></label><ul><li><span class='ee-k'>0:</span><span class='ee-v'>-68.85356213906738</span></li><li><span class='ee-k'>1:</span><span class='ee-v'>-54.234071790109525</span></li></ul></li><li><label class='ee-shut'>8: [-68.85349140946737, -54.23403517998849]<input type='checkbox' class='ee-toggle'></label><ul><li><span class='ee-k'>0:</span><span class='ee-v'>-68.85349140946737</span></li><li><span class='ee-k'>1:</span><span class='ee-v'>-54.23403517998849</span></li></ul></li><li><label class='ee-shut'>9: [-68.85341327293489, -54.234004013914564]<input type='checkbox' class='ee-toggle'></label><ul><li><span class='ee-k'>0:</span><span class='ee-v'>-68.85341327293489</span></li><li><span class='ee-k'>1:</span><span class='ee-v'>-54.234004013914564</span></li></ul></li><li><label class='ee-shut'>10: [-68.8534085491861, -54.23398919285666]<input type='checkbox' class='ee-toggle'></label><ul><li><span class='ee-k'>0:</span><span class='ee-v'>-68.8534085491861</span></li><li><span class='ee-k'>1:</span><span class='ee-v'>-54.23398919285666</span></li></ul></li><li><label class='ee-shut'>11: [-68.85679091770375, -53.25075400620866]<input type='checkbox' class='ee-toggle'></label><ul><li><span class='ee-k'>0:</span><span class='ee-v'>-68.85679091770375</span></li><li><span class='ee-k'>1:</span><span class='ee-v'>-53.25075400620866</span></li></ul></li><li><label class='ee-shut'>12: [-68.85685220406319, -53.25071260093292]<input type='checkbox' class='ee-toggle'></label><ul><li><span class='ee-k'>0:</span><span class='ee-v'>-68.85685220406319</span></li><li><span class='ee-k'>1:</span><span class='ee-v'>-53.25071260093292</span></li></ul></li><li><label class='ee-shut'>13: [-68.85690430913712, -53.250666911001915]<input type='checkbox' class='ee-toggle'></label><ul><li><span class='ee-k'>0:</span><span class='ee-v'>-68.85690430913712</span></li><li><span class='ee-k'>1:</span><span class='ee-v'>-53.250666911001915</span></li></ul></li><li><label class='ee-shut'>14: [-68.85692904044886, -53.25066417932014]<input type='checkbox' class='ee-toggle'></label><ul><li><span class='ee-k'>0:</span><span class='ee-v'>-68.85692904044886</span></li><li><span class='ee-k'>1:</span><span class='ee-v'>-53.25066417932014</span></li></ul></li><li><label class='ee-shut'>15: [-70.49617785068216, -53.241360696755784]<input type='checkbox' class='ee-toggle'></label><ul><li><span class='ee-k'>0:</span><span class='ee-v'>-70.49617785068216</span></li><li><span class='ee-k'>1:</span><span class='ee-v'>-53.241360696755784</span></li></ul></li><li><label class='ee-shut'>16: [-70.4962483751049, -53.24139634812113]<input type='checkbox' class='ee-toggle'></label><ul><li><span class='ee-k'>0:</span><span class='ee-v'>-70.4962483751049</span></li><li><span class='ee-k'>1:</span><span class='ee-v'>-53.24139634812113</span></li></ul></li><li><label class='ee-shut'>17: [-70.49632588717374, -53.24142651945783]<input type='checkbox' class='ee-toggle'></label><ul><li><span class='ee-k'>0:</span><span class='ee-v'>-70.49632588717374</span></li><li><span class='ee-k'>1:</span><span class='ee-v'>-53.24142651945783</span></li></ul></li><li><label class='ee-shut'>18: [-70.4963297827744, -53.24143752278791]<input type='checkbox' class='ee-toggle'></label><ul><li><span class='ee-k'>0:</span><span class='ee-v'>-70.4963297827744</span></li><li><span class='ee-k'>1:</span><span class='ee-v'>-53.24143752278791</span></li></ul></li></ul></li></ul></li><li><span class='ee-k'>system:index:</span><span class='ee-v'>20200206T135639_20200206T140850_T19FDA</span></li><li><span class='ee-k'>system:time_start:</span><span class='ee-v'>1580998662332</span></li></ul></li></ul></li><li><label class='ee-shut'>2: Image GOOGLE/DYNAMICWORLD/V1/20200302T140051_20200302T141300_T19FDV (1 band)<input type='checkbox' class='ee-toggle'></label><ul><li><span class='ee-k'>type:</span><span class='ee-v'>Image</span></li><li><span class='ee-k'>id:</span><span class='ee-v'>GOOGLE/DYNAMICWORLD/V1/20200302T140051_20200302T141300_T19FDV</span></li><li><span class='ee-k'>version:</span><span class='ee-v'>1725545762273396</span></li><li><label class='ee-shut'>bands: List (1 element)<input type='checkbox' class='ee-toggle'></label><ul><li><label class='ee-shut'>0: \"label\", unsigned int8, EPSG:4326<input type='checkbox' class='ee-toggle'></label><ul><li><span class='ee-k'>id:</span><span class='ee-v'>label</span></li><li><span class='ee-k'>crs:</span><span class='ee-v'>EPSG:4326</span></li><li><label class='ee-shut'>crs_transform: [1, 0, 0, 0, 1, 0]<input type='checkbox' class='ee-toggle'></label><ul><li><span class='ee-k'>0:</span><span class='ee-v'>1</span></li><li><span class='ee-k'>1:</span><span class='ee-v'>0</span></li><li><span class='ee-k'>2:</span><span class='ee-v'>0</span></li><li><span class='ee-k'>3:</span><span class='ee-v'>0</span></li><li><span class='ee-k'>4:</span><span class='ee-v'>1</span></li><li><span class='ee-k'>5:</span><span class='ee-v'>0</span></li></ul></li><li><label class='ee-shut'>data_type: unsigned int8<input type='checkbox' class='ee-toggle'></label><ul><li><span class='ee-k'>type:</span><span class='ee-v'>PixelType</span></li><li><span class='ee-k'>max:</span><span class='ee-v'>255</span></li><li><span class='ee-k'>min:</span><span class='ee-v'>0</span></li><li><span class='ee-k'>precision:</span><span class='ee-v'>int</span></li></ul></li></ul></li></ul></li><li><label class='ee-shut'>properties: Object (6 properties)<input type='checkbox' class='ee-toggle'></label><ul><li><span class='ee-k'>dynamicworld_algorithm_version:</span><span class='ee-v'>3.5</span></li><li><span class='ee-k'>qa_algorithm_version:</span><span class='ee-v'>1</span></li><li><span class='ee-k'>system:asset_size:</span><span class='ee-v'>651365279</span></li><li><label class='ee-shut'>system:footprint: LinearRing (19 vertices)<input type='checkbox' class='ee-toggle'></label><ul><li><span class='ee-k'>type:</span><span class='ee-v'>LinearRing</span></li><li><label class='ee-shut'>coordinates: List (19 elements)<input type='checkbox' class='ee-toggle'></label><ul><li><label class='ee-shut'>0: [-70.52854608492663, -54.140142234901084]<input type='checkbox' class='ee-toggle'></label><ul><li><span class='ee-k'>0:</span><span class='ee-v'>-70.52854608492663</span></li><li><span class='ee-k'>1:</span><span class='ee-v'>-54.140142234901084</span></li></ul></li><li><label class='ee-shut'>1: [-70.52854770628926, -54.14015349077213]<input type='checkbox' class='ee-toggle'></label><ul><li><span class='ee-k'>0:</span><span class='ee-v'>-70.52854770628926</span></li><li><span class='ee-k'>1:</span><span class='ee-v'>-54.14015349077213</span></li></ul></li><li><label class='ee-shut'>2: [-70.54692149686646, -54.6315387649438]<input type='checkbox' class='ee-toggle'></label><ul><li><span class='ee-k'>0:</span><span class='ee-v'>-70.54692149686646</span></li><li><span class='ee-k'>1:</span><span class='ee-v'>-54.6315387649438</span></li></ul></li><li><label class='ee-shut'>3: [-70.56585871163331, -55.122879642160164]<input type='checkbox' class='ee-toggle'></label><ul><li><span class='ee-k'>0:</span><span class='ee-v'>-70.56585871163331</span></li><li><span class='ee-k'>1:</span><span class='ee-v'>-55.122879642160164</span></li></ul></li><li><label class='ee-shut'>4: [-70.56579632283504, -55.1229219251239]<input type='checkbox' class='ee-toggle'></label><ul><li><span class='ee-k'>0:</span><span class='ee-v'>-70.56579632283504</span></li><li><span class='ee-k'>1:</span><span class='ee-v'>-55.1229219251239</span></li></ul></li><li><label class='ee-shut'>5: [-70.56574382662473, -55.122968296474966]<input type='checkbox' class='ee-toggle'></label><ul><li><span class='ee-k'>0:</span><span class='ee-v'>-70.56574382662473</span></li><li><span class='ee-k'>1:</span><span class='ee-v'>-55.122968296474966</span></li></ul></li><li><label class='ee-shut'>6: [-70.56571804189772, -55.12297146930382]<input type='checkbox' class='ee-toggle'></label><ul><li><span class='ee-k'>0:</span><span class='ee-v'>-70.56571804189772</span></li><li><span class='ee-k'>1:</span><span class='ee-v'>-55.12297146930382</span></li></ul></li><li><label class='ee-shut'>7: [-68.85029053077847, -55.132937877717566]<input type='checkbox' class='ee-toggle'></label><ul><li><span class='ee-k'>0:</span><span class='ee-v'>-68.85029053077847</span></li><li><span class='ee-k'>1:</span><span class='ee-v'>-55.132937877717566</span></li></ul></li><li><label class='ee-shut'>8: [-68.85021818491532, -55.1329012894492]<input type='checkbox' class='ee-toggle'></label><ul><li><span class='ee-k'>0:</span><span class='ee-v'>-68.85021818491532</span></li><li><span class='ee-k'>1:</span><span class='ee-v'>-55.1329012894492</span></li></ul></li><li><label class='ee-shut'>9: [-68.85013838148839, -55.13287005087861]<input type='checkbox' class='ee-toggle'></label><ul><li><span class='ee-k'>0:</span><span class='ee-v'>-68.85013838148839</span></li><li><span class='ee-k'>1:</span><span class='ee-v'>-55.13287005087861</span></li></ul></li><li><label class='ee-shut'>10: [-68.85013343178231, -55.13285530572412]<input type='checkbox' class='ee-toggle'></label><ul><li><span class='ee-k'>0:</span><span class='ee-v'>-68.85013343178231</span></li><li><span class='ee-k'>1:</span><span class='ee-v'>-55.13285530572412</span></li></ul></li><li><label class='ee-shut'>11: [-68.8537061937534, -54.14976786055552]<input type='checkbox' class='ee-toggle'></label><ul><li><span class='ee-k'>0:</span><span class='ee-v'>-68.8537061937534</span></li><li><span class='ee-k'>1:</span><span class='ee-v'>-54.14976786055552</span></li></ul></li><li><label class='ee-shut'>12: [-68.8537688062975, -54.149726474831766]<input type='checkbox' class='ee-toggle'></label><ul><li><span class='ee-k'>0:</span><span class='ee-v'>-68.8537688062975</span></li><li><span class='ee-k'>1:</span><span class='ee-v'>-54.149726474831766</span></li></ul></li><li><label class='ee-shut'>13: [-68.85382205339126, -54.14968084295854]<input type='checkbox' class='ee-toggle'></label><ul><li><span class='ee-k'>0:</span><span class='ee-v'>-68.85382205339126</span></li><li><span class='ee-k'>1:</span><span class='ee-v'>-54.14968084295854</span></li></ul></li><li><label class='ee-shut'>14: [-68.85384734631728, -54.14967799476046]<input type='checkbox' class='ee-toggle'></label><ul><li><span class='ee-k'>0:</span><span class='ee-v'>-68.85384734631728</span></li><li><span class='ee-k'>1:</span><span class='ee-v'>-54.14967799476046</span></li></ul></li><li><label class='ee-shut'>15: [-70.52839082951992, -54.140065493240556]<input type='checkbox' class='ee-toggle'></label><ul><li><span class='ee-k'>0:</span><span class='ee-v'>-70.52839082951992</span></li><li><span class='ee-k'>1:</span><span class='ee-v'>-54.140065493240556</span></li></ul></li><li><label class='ee-shut'>16: [-70.52846295991984, -54.14010112512699]<input type='checkbox' class='ee-toggle'></label><ul><li><span class='ee-k'>0:</span><span class='ee-v'>-70.52846295991984</span></li><li><span class='ee-k'>1:</span><span class='ee-v'>-54.14010112512699</span></li></ul></li><li><label class='ee-shut'>17: [-70.52854205662646, -54.14013126689602]<input type='checkbox' class='ee-toggle'></label><ul><li><span class='ee-k'>0:</span><span class='ee-v'>-70.52854205662646</span></li><li><span class='ee-k'>1:</span><span class='ee-v'>-54.14013126689602</span></li></ul></li><li><label class='ee-shut'>18: [-70.52854608492663, -54.140142234901084]<input type='checkbox' class='ee-toggle'></label><ul><li><span class='ee-k'>0:</span><span class='ee-v'>-70.52854608492663</span></li><li><span class='ee-k'>1:</span><span class='ee-v'>-54.140142234901084</span></li></ul></li></ul></li></ul></li><li><span class='ee-k'>system:index:</span><span class='ee-v'>20200302T140051_20200302T141300_T19FDV</span></li><li><span class='ee-k'>system:time_start:</span><span class='ee-v'>1583158678304</span></li></ul></li></ul></li><li><label class='ee-shut'>3: Image GOOGLE/DYNAMICWORLD/V1/20200403T140729_20200403T140723_T19FDU (1 band)<input type='checkbox' class='ee-toggle'></label><ul><li><span class='ee-k'>type:</span><span class='ee-v'>Image</span></li><li><span class='ee-k'>id:</span><span class='ee-v'>GOOGLE/DYNAMICWORLD/V1/20200403T140729_20200403T140723_T19FDU</span></li><li><span class='ee-k'>version:</span><span class='ee-v'>1725545762273396</span></li><li><label class='ee-shut'>bands: List (1 element)<input type='checkbox' class='ee-toggle'></label><ul><li><label class='ee-shut'>0: \"label\", unsigned int8, EPSG:4326<input type='checkbox' class='ee-toggle'></label><ul><li><span class='ee-k'>id:</span><span class='ee-v'>label</span></li><li><span class='ee-k'>crs:</span><span class='ee-v'>EPSG:4326</span></li><li><label class='ee-shut'>crs_transform: [1, 0, 0, 0, 1, 0]<input type='checkbox' class='ee-toggle'></label><ul><li><span class='ee-k'>0:</span><span class='ee-v'>1</span></li><li><span class='ee-k'>1:</span><span class='ee-v'>0</span></li><li><span class='ee-k'>2:</span><span class='ee-v'>0</span></li><li><span class='ee-k'>3:</span><span class='ee-v'>0</span></li><li><span class='ee-k'>4:</span><span class='ee-v'>1</span></li><li><span class='ee-k'>5:</span><span class='ee-v'>0</span></li></ul></li><li><label class='ee-shut'>data_type: unsigned int8<input type='checkbox' class='ee-toggle'></label><ul><li><span class='ee-k'>type:</span><span class='ee-v'>PixelType</span></li><li><span class='ee-k'>max:</span><span class='ee-v'>255</span></li><li><span class='ee-k'>min:</span><span class='ee-v'>0</span></li><li><span class='ee-k'>precision:</span><span class='ee-v'>int</span></li></ul></li></ul></li></ul></li><li><label class='ee-shut'>properties: Object (6 properties)<input type='checkbox' class='ee-toggle'></label><ul><li><span class='ee-k'>dynamicworld_algorithm_version:</span><span class='ee-v'>3.5</span></li><li><span class='ee-k'>qa_algorithm_version:</span><span class='ee-v'>1</span></li><li><span class='ee-k'>system:asset_size:</span><span class='ee-v'>859438266</span></li><li><label class='ee-shut'>system:footprint: LinearRing (19 vertices)<input type='checkbox' class='ee-toggle'></label><ul><li><span class='ee-k'>type:</span><span class='ee-v'>LinearRing</span></li><li><label class='ee-shut'>coordinates: List (19 elements)<input type='checkbox' class='ee-toggle'></label><ul><li><label class='ee-shut'>0: [-68.8505878836603, -55.048018276293455]<input type='checkbox' class='ee-toggle'></label><ul><li><span class='ee-k'>0:</span><span class='ee-v'>-68.8505878836603</span></li><li><span class='ee-k'>1:</span><span class='ee-v'>-55.048018276293455</span></li></ul></li><li><label class='ee-shut'>1: [-68.85060746016674, -55.04801751518589]<input type='checkbox' class='ee-toggle'></label><ul><li><span class='ee-k'>0:</span><span class='ee-v'>-68.85060746016674</span></li><li><span class='ee-k'>1:</span><span class='ee-v'>-55.04801751518589</span></li></ul></li><li><label class='ee-shut'>2: [-69.91483871859644, -55.04467192115542]<input type='checkbox' class='ee-toggle'></label><ul><li><span class='ee-k'>0:</span><span class='ee-v'>-69.91483871859644</span></li><li><span class='ee-k'>1:</span><span class='ee-v'>-55.04467192115542</span></li></ul></li><li><label class='ee-shut'>3: [-69.91491184013711, -55.044707977973744]<input type='checkbox' class='ee-toggle'></label><ul><li><span class='ee-k'>0:</span><span class='ee-v'>-69.91491184013711</span></li><li><span class='ee-k'>1:</span><span class='ee-v'>-55.044707977973744</span></li></ul></li><li><label class='ee-shut'>4: [-69.91499229261954, -55.04473845345579]<input type='checkbox' class='ee-toggle'></label><ul><li><span class='ee-k'>0:</span><span class='ee-v'>-69.91499229261954</span></li><li><span class='ee-k'>1:</span><span class='ee-v'>-55.04473845345579</span></li></ul></li><li><label class='ee-shut'>5: [-69.91499756976225, -55.04475321498129]<input type='checkbox' class='ee-toggle'></label><ul><li><span class='ee-k'>0:</span><span class='ee-v'>-69.91499756976225</span></li><li><span class='ee-k'>1:</span><span class='ee-v'>-55.04475321498129</span></li></ul></li><li><label class='ee-shut'>6: [-69.9381068449421, -56.027570028126874]<input type='checkbox' class='ee-toggle'></label><ul><li><span class='ee-k'>0:</span><span class='ee-v'>-69.9381068449421</span></li><li><span class='ee-k'>1:</span><span class='ee-v'>-56.027570028126874</span></li></ul></li><li><label class='ee-shut'>7: [-69.93804233999055, -56.02761197199043]<input type='checkbox' class='ee-toggle'></label><ul><li><span class='ee-k'>0:</span><span class='ee-v'>-69.93804233999055</span></li><li><span class='ee-k'>1:</span><span class='ee-v'>-56.02761197199043</span></li></ul></li><li><label class='ee-shut'>8: [-69.9379878534079, -56.027658094707284]<input type='checkbox' class='ee-toggle'></label><ul><li><span class='ee-k'>0:</span><span class='ee-v'>-69.9379878534079</span></li><li><span class='ee-k'>1:</span><span class='ee-v'>-56.027658094707284</span></li></ul></li><li><label class='ee-shut'>9: [-69.93796150574097, -56.02766108586054]<input type='checkbox' class='ee-toggle'></label><ul><li><span class='ee-k'>0:</span><span class='ee-v'>-69.93796150574097</span></li><li><span class='ee-k'>1:</span><span class='ee-v'>-56.02766108586054</span></li></ul></li><li><label class='ee-shut'>10: [-68.84683309071285, -56.03113139469901]<input type='checkbox' class='ee-toggle'></label><ul><li><span class='ee-k'>0:</span><span class='ee-v'>-68.84683309071285</span></li><li><span class='ee-k'>1:</span><span class='ee-v'>-56.03113139469901</span></li></ul></li><li><label class='ee-shut'>11: [-68.84675899849664, -56.031094759413456]<input type='checkbox' class='ee-toggle'></label><ul><li><span class='ee-k'>0:</span><span class='ee-v'>-68.84675899849664</span></li><li><span class='ee-k'>1:</span><span class='ee-v'>-56.031094759413456</span></li></ul></li><li><label class='ee-shut'>12: [-68.84667739665818, -56.031063550995135]<input type='checkbox' class='ee-toggle'></label><ul><li><span class='ee-k'>0:</span><span class='ee-v'>-68.84667739665818</span></li><li><span class='ee-k'>1:</span><span class='ee-v'>-56.031063550995135</span></li></ul></li><li><label class='ee-shut'>13: [-68.84667357236343, -56.03105243779325]<input type='checkbox' class='ee-toggle'></label><ul><li><span class='ee-k'>0:</span><span class='ee-v'>-68.84667357236343</span></li><li><span class='ee-k'>1:</span><span class='ee-v'>-56.03105243779325</span></li></ul></li><li><label class='ee-shut'>14: [-68.84667240297327, -56.03104117675612]<input type='checkbox' class='ee-toggle'></label><ul><li><span class='ee-k'>0:</span><span class='ee-v'>-68.84667240297327</span></li><li><span class='ee-k'>1:</span><span class='ee-v'>-56.03104117675612</span></li></ul></li><li><label class='ee-shut'>15: [-68.8504501264824, -55.04810735077409]<input type='checkbox' class='ee-toggle'></label><ul><li><span class='ee-k'>0:</span><span class='ee-v'>-68.8504501264824</span></li><li><span class='ee-k'>1:</span><span class='ee-v'>-55.04810735077409</span></li></ul></li><li><label class='ee-shut'>16: [-68.8505140562388, -55.04806592342368]<input type='checkbox' class='ee-toggle'></label><ul><li><span class='ee-k'>0:</span><span class='ee-v'>-68.8505140562388</span></li><li><span class='ee-k'>1:</span><span class='ee-v'>-55.04806592342368</span></li></ul></li><li><label class='ee-shut'>17: [-68.85056855558823, -55.04802031602404]<input type='checkbox' class='ee-toggle'></label><ul><li><span class='ee-k'>0:</span><span class='ee-v'>-68.85056855558823</span></li><li><span class='ee-k'>1:</span><span class='ee-v'>-55.04802031602404</span></li></ul></li><li><label class='ee-shut'>18: [-68.8505878836603, -55.048018276293455]<input type='checkbox' class='ee-toggle'></label><ul><li><span class='ee-k'>0:</span><span class='ee-v'>-68.8505878836603</span></li><li><span class='ee-k'>1:</span><span class='ee-v'>-55.048018276293455</span></li></ul></li></ul></li></ul></li><li><span class='ee-k'>system:index:</span><span class='ee-v'>20200403T140729_20200403T140723_T19FDU</span></li><li><span class='ee-k'>system:time_start:</span><span class='ee-v'>1585922897029</span></li></ul></li></ul></li><li><label class='ee-shut'>4: Image GOOGLE/DYNAMICWORLD/V1/20200503T140729_20200503T140723_T19FDV (1 band)<input type='checkbox' class='ee-toggle'></label><ul><li><span class='ee-k'>type:</span><span class='ee-v'>Image</span></li><li><span class='ee-k'>id:</span><span class='ee-v'>GOOGLE/DYNAMICWORLD/V1/20200503T140729_20200503T140723_T19FDV</span></li><li><span class='ee-k'>version:</span><span class='ee-v'>1725545762273396</span></li><li><label class='ee-shut'>bands: List (1 element)<input type='checkbox' class='ee-toggle'></label><ul><li><label class='ee-shut'>0: \"label\", unsigned int8, EPSG:4326<input type='checkbox' class='ee-toggle'></label><ul><li><span class='ee-k'>id:</span><span class='ee-v'>label</span></li><li><span class='ee-k'>crs:</span><span class='ee-v'>EPSG:4326</span></li><li><label class='ee-shut'>crs_transform: [1, 0, 0, 0, 1, 0]<input type='checkbox' class='ee-toggle'></label><ul><li><span class='ee-k'>0:</span><span class='ee-v'>1</span></li><li><span class='ee-k'>1:</span><span class='ee-v'>0</span></li><li><span class='ee-k'>2:</span><span class='ee-v'>0</span></li><li><span class='ee-k'>3:</span><span class='ee-v'>0</span></li><li><span class='ee-k'>4:</span><span class='ee-v'>1</span></li><li><span class='ee-k'>5:</span><span class='ee-v'>0</span></li></ul></li><li><label class='ee-shut'>data_type: unsigned int8<input type='checkbox' class='ee-toggle'></label><ul><li><span class='ee-k'>type:</span><span class='ee-v'>PixelType</span></li><li><span class='ee-k'>max:</span><span class='ee-v'>255</span></li><li><span class='ee-k'>min:</span><span class='ee-v'>0</span></li><li><span class='ee-k'>precision:</span><span class='ee-v'>int</span></li></ul></li></ul></li></ul></li><li><label class='ee-shut'>properties: Object (6 properties)<input type='checkbox' class='ee-toggle'></label><ul><li><span class='ee-k'>dynamicworld_algorithm_version:</span><span class='ee-v'>3.5</span></li><li><span class='ee-k'>qa_algorithm_version:</span><span class='ee-v'>1</span></li><li><span class='ee-k'>system:asset_size:</span><span class='ee-v'>26960606</span></li><li><label class='ee-shut'>system:footprint: LinearRing (19 vertices)<input type='checkbox' class='ee-toggle'></label><ul><li><span class='ee-k'>type:</span><span class='ee-v'>LinearRing</span></li><li><label class='ee-shut'>coordinates: List (19 elements)<input type='checkbox' class='ee-toggle'></label><ul><li><label class='ee-shut'>0: [-68.850134748094, -55.13285898427773]<input type='checkbox' class='ee-toggle'></label><ul><li><span class='ee-k'>0:</span><span class='ee-v'>-68.850134748094</span></li><li><span class='ee-k'>1:</span><span class='ee-v'>-55.13285898427773</span></li></ul></li><li><label class='ee-shut'>1: [-68.8501334496324, -55.1328477239931]<input type='checkbox' class='ee-toggle'></label><ul><li><span class='ee-k'>0:</span><span class='ee-v'>-68.8501334496324</span></li><li><span class='ee-k'>1:</span><span class='ee-v'>-55.1328477239931</span></li></ul></li><li><label class='ee-shut'>2: [-68.8534078202927, -54.23416139774304]<input type='checkbox' class='ee-toggle'></label><ul><li><span class='ee-k'>0:</span><span class='ee-v'>-68.8534078202927</span></li><li><span class='ee-k'>1:</span><span class='ee-v'>-54.23416139774304</span></li></ul></li><li><label class='ee-shut'>3: [-68.85347057185734, -54.23411996884641]<input type='checkbox' class='ee-toggle'></label><ul><li><span class='ee-k'>0:</span><span class='ee-v'>-68.85347057185734</span></li><li><span class='ee-k'>1:</span><span class='ee-v'>-54.23411996884641</span></li></ul></li><li><label class='ee-shut'>4: [-68.85352399562953, -54.234074386828205]<input type='checkbox' class='ee-toggle'></label><ul><li><span class='ee-k'>0:</span><span class='ee-v'>-68.85352399562953</span></li><li><span class='ee-k'>1:</span><span class='ee-v'>-54.234074386828205</span></li></ul></li><li><label class='ee-shut'>5: [-68.85354294833675, -54.23407228169635]<input type='checkbox' class='ee-toggle'></label><ul><li><span class='ee-k'>0:</span><span class='ee-v'>-68.85354294833675</span></li><li><span class='ee-k'>1:</span><span class='ee-v'>-54.23407228169635</span></li></ul></li><li><label class='ee-shut'>6: [-68.85356213992877, -54.23407161583589]<input type='checkbox' class='ee-toggle'></label><ul><li><span class='ee-k'>0:</span><span class='ee-v'>-68.85356213992877</span></li><li><span class='ee-k'>1:</span><span class='ee-v'>-54.23407161583589</span></li></ul></li><li><label class='ee-shut'>7: [-69.38147072768857, -54.23355689387812]<input type='checkbox' class='ee-toggle'></label><ul><li><span class='ee-k'>0:</span><span class='ee-v'>-69.38147072768857</span></li><li><span class='ee-k'>1:</span><span class='ee-v'>-54.23355689387812</span></li></ul></li><li><label class='ee-shut'>8: [-69.38154199271831, -54.23359327713392]<input type='checkbox' class='ee-toggle'></label><ul><li><span class='ee-k'>0:</span><span class='ee-v'>-69.38154199271831</span></li><li><span class='ee-k'>1:</span><span class='ee-v'>-54.23359327713392</span></li></ul></li><li><label class='ee-shut'>9: [-69.3816206111204, -54.23362409852345]<input type='checkbox' class='ee-toggle'></label><ul><li><span class='ee-k'>0:</span><span class='ee-v'>-69.3816206111204</span></li><li><span class='ee-k'>1:</span><span class='ee-v'>-54.23362409852345</span></li></ul></li><li><label class='ee-shut'>10: [-69.3816255343841, -54.23363889882968]<input type='checkbox' class='ee-toggle'></label><ul><li><span class='ee-k'>0:</span><span class='ee-v'>-69.3816255343841</span></li><li><span class='ee-k'>1:</span><span class='ee-v'>-54.23363889882968</span></li></ul></li><li><label class='ee-shut'>11: [-69.3901496622057, -55.13231540897585]<input type='checkbox' class='ee-toggle'></label><ul><li><span class='ee-k'>0:</span><span class='ee-v'>-69.3901496622057</span></li><li><span class='ee-k'>1:</span><span class='ee-v'>-55.13231540897585</span></li></ul></li><li><label class='ee-shut'>12: [-69.39008607535159, -55.13235707130731]<input type='checkbox' class='ee-toggle'></label><ul><li><span class='ee-k'>0:</span><span class='ee-v'>-69.39008607535159</span></li><li><span class='ee-k'>1:</span><span class='ee-v'>-55.13235707130731</span></li></ul></li><li><label class='ee-shut'>13: [-69.39003215480528, -55.13240299032654]<input type='checkbox' class='ee-toggle'></label><ul><li><span class='ee-k'>0:</span><span class='ee-v'>-69.39003215480528</span></li><li><span class='ee-k'>1:</span><span class='ee-v'>-55.13240299032654</span></li></ul></li><li><label class='ee-shut'>14: [-69.3900062505261, -55.13240589958408]<input type='checkbox' class='ee-toggle'></label><ul><li><span class='ee-k'>0:</span><span class='ee-v'>-69.3900062505261</span></li><li><span class='ee-k'>1:</span><span class='ee-v'>-55.13240589958408</span></li></ul></li><li><label class='ee-shut'>15: [-68.85029053077847, -55.132937877717566]<input type='checkbox' class='ee-toggle'></label><ul><li><span class='ee-k'>0:</span><span class='ee-v'>-68.85029053077847</span></li><li><span class='ee-k'>1:</span><span class='ee-v'>-55.132937877717566</span></li></ul></li><li><label class='ee-shut'>16: [-68.85021818491532, -55.1329012894492]<input type='checkbox' class='ee-toggle'></label><ul><li><span class='ee-k'>0:</span><span class='ee-v'>-68.85021818491532</span></li><li><span class='ee-k'>1:</span><span class='ee-v'>-55.1329012894492</span></li></ul></li><li><label class='ee-shut'>17: [-68.85013838148839, -55.13287005087861]<input type='checkbox' class='ee-toggle'></label><ul><li><span class='ee-k'>0:</span><span class='ee-v'>-68.85013838148839</span></li><li><span class='ee-k'>1:</span><span class='ee-v'>-55.13287005087861</span></li></ul></li><li><label class='ee-shut'>18: [-68.850134748094, -55.13285898427773]<input type='checkbox' class='ee-toggle'></label><ul><li><span class='ee-k'>0:</span><span class='ee-v'>-68.850134748094</span></li><li><span class='ee-k'>1:</span><span class='ee-v'>-55.13285898427773</span></li></ul></li></ul></li></ul></li><li><span class='ee-k'>system:index:</span><span class='ee-v'>20200503T140729_20200503T140723_T19FDV</span></li><li><span class='ee-k'>system:time_start:</span><span class='ee-v'>1588514884576</span></li></ul></li></ul></li><li><label class='ee-shut'>5: Image GOOGLE/DYNAMICWORLD/V1/20200713T141051_20200713T142302_T19FDA (1 band)<input type='checkbox' class='ee-toggle'></label><ul><li><span class='ee-k'>type:</span><span class='ee-v'>Image</span></li><li><span class='ee-k'>id:</span><span class='ee-v'>GOOGLE/DYNAMICWORLD/V1/20200713T141051_20200713T142302_T19FDA</span></li><li><span class='ee-k'>version:</span><span class='ee-v'>1725545762273396</span></li><li><label class='ee-shut'>bands: List (1 element)<input type='checkbox' class='ee-toggle'></label><ul><li><label class='ee-shut'>0: \"label\", unsigned int8, EPSG:4326<input type='checkbox' class='ee-toggle'></label><ul><li><span class='ee-k'>id:</span><span class='ee-v'>label</span></li><li><span class='ee-k'>crs:</span><span class='ee-v'>EPSG:4326</span></li><li><label class='ee-shut'>crs_transform: [1, 0, 0, 0, 1, 0]<input type='checkbox' class='ee-toggle'></label><ul><li><span class='ee-k'>0:</span><span class='ee-v'>1</span></li><li><span class='ee-k'>1:</span><span class='ee-v'>0</span></li><li><span class='ee-k'>2:</span><span class='ee-v'>0</span></li><li><span class='ee-k'>3:</span><span class='ee-v'>0</span></li><li><span class='ee-k'>4:</span><span class='ee-v'>1</span></li><li><span class='ee-k'>5:</span><span class='ee-v'>0</span></li></ul></li><li><label class='ee-shut'>data_type: unsigned int8<input type='checkbox' class='ee-toggle'></label><ul><li><span class='ee-k'>type:</span><span class='ee-v'>PixelType</span></li><li><span class='ee-k'>max:</span><span class='ee-v'>255</span></li><li><span class='ee-k'>min:</span><span class='ee-v'>0</span></li><li><span class='ee-k'>precision:</span><span class='ee-v'>int</span></li></ul></li></ul></li></ul></li><li><label class='ee-shut'>properties: Object (6 properties)<input type='checkbox' class='ee-toggle'></label><ul><li><span class='ee-k'>dynamicworld_algorithm_version:</span><span class='ee-v'>3.5</span></li><li><span class='ee-k'>qa_algorithm_version:</span><span class='ee-v'>1</span></li><li><span class='ee-k'>system:asset_size:</span><span class='ee-v'>1133015866</span></li><li><label class='ee-shut'>system:footprint: LinearRing (19 vertices)<input type='checkbox' class='ee-toggle'></label><ul><li><span class='ee-k'>type:</span><span class='ee-v'>LinearRing</span></li><li><label class='ee-shut'>coordinates: List (19 elements)<input type='checkbox' class='ee-toggle'></label><ul><li><label class='ee-shut'>0: [-70.4963297827744, -53.24143752278791]<input type='checkbox' class='ee-toggle'></label><ul><li><span class='ee-k'>0:</span><span class='ee-v'>-70.4963297827744</span></li><li><span class='ee-k'>1:</span><span class='ee-v'>-53.24143752278791</span></li></ul></li><li><label class='ee-shut'>1: [-70.49633138630597, -53.24144873517119]<input type='checkbox' class='ee-toggle'></label><ul><li><span class='ee-k'>0:</span><span class='ee-v'>-70.49633138630597</span></li><li><span class='ee-k'>1:</span><span class='ee-v'>-53.24144873517119</span></li></ul></li><li><label class='ee-shut'>2: [-70.51373232985509, -53.732915475120784]<input type='checkbox' class='ee-toggle'></label><ul><li><span class='ee-k'>0:</span><span class='ee-v'>-70.51373232985509</span></li><li><span class='ee-k'>1:</span><span class='ee-v'>-53.732915475120784</span></li></ul></li><li><label class='ee-shut'>3: [-70.53165646249464, -54.22433765301265]<input type='checkbox' class='ee-toggle'></label><ul><li><span class='ee-k'>0:</span><span class='ee-v'>-70.53165646249464</span></li><li><span class='ee-k'>1:</span><span class='ee-v'>-54.22433765301265</span></li></ul></li><li><label class='ee-shut'>4: [-70.53159545008147, -54.22437988990759]<input type='checkbox' class='ee-toggle'></label><ul><li><span class='ee-k'>0:</span><span class='ee-v'>-70.53159545008147</span></li><li><span class='ee-k'>1:</span><span class='ee-v'>-54.22437988990759</span></li></ul></li><li><label class='ee-shut'>5: [-70.5315438283783, -54.22442629867268]<input type='checkbox' class='ee-toggle'></label><ul><li><span class='ee-k'>0:</span><span class='ee-v'>-70.5315438283783</span></li><li><span class='ee-k'>1:</span><span class='ee-v'>-54.22442629867268</span></li></ul></li><li><label class='ee-shut'>6: [-70.53151868318245, -54.22442944185984]<input type='checkbox' class='ee-toggle'></label><ul><li><span class='ee-k'>0:</span><span class='ee-v'>-70.53151868318245</span></li><li><span class='ee-k'>1:</span><span class='ee-v'>-54.22442944185984</span></li></ul></li><li><label class='ee-shut'>7: [-68.85356213906738, -54.234071790109525]<input type='checkbox' class='ee-toggle'></label><ul><li><span class='ee-k'>0:</span><span class='ee-v'>-68.85356213906738</span></li><li><span class='ee-k'>1:</span><span class='ee-v'>-54.234071790109525</span></li></ul></li><li><label class='ee-shut'>8: [-68.85349140946737, -54.23403517998849]<input type='checkbox' class='ee-toggle'></label><ul><li><span class='ee-k'>0:</span><span class='ee-v'>-68.85349140946737</span></li><li><span class='ee-k'>1:</span><span class='ee-v'>-54.23403517998849</span></li></ul></li><li><label class='ee-shut'>9: [-68.85341327293489, -54.234004013914564]<input type='checkbox' class='ee-toggle'></label><ul><li><span class='ee-k'>0:</span><span class='ee-v'>-68.85341327293489</span></li><li><span class='ee-k'>1:</span><span class='ee-v'>-54.234004013914564</span></li></ul></li><li><label class='ee-shut'>10: [-68.8534085491861, -54.23398919285666]<input type='checkbox' class='ee-toggle'></label><ul><li><span class='ee-k'>0:</span><span class='ee-v'>-68.8534085491861</span></li><li><span class='ee-k'>1:</span><span class='ee-v'>-54.23398919285666</span></li></ul></li><li><label class='ee-shut'>11: [-68.85679091770375, -53.25075400620866]<input type='checkbox' class='ee-toggle'></label><ul><li><span class='ee-k'>0:</span><span class='ee-v'>-68.85679091770375</span></li><li><span class='ee-k'>1:</span><span class='ee-v'>-53.25075400620866</span></li></ul></li><li><label class='ee-shut'>12: [-68.85685220406319, -53.25071260093292]<input type='checkbox' class='ee-toggle'></label><ul><li><span class='ee-k'>0:</span><span class='ee-v'>-68.85685220406319</span></li><li><span class='ee-k'>1:</span><span class='ee-v'>-53.25071260093292</span></li></ul></li><li><label class='ee-shut'>13: [-68.85690430913712, -53.250666911001915]<input type='checkbox' class='ee-toggle'></label><ul><li><span class='ee-k'>0:</span><span class='ee-v'>-68.85690430913712</span></li><li><span class='ee-k'>1:</span><span class='ee-v'>-53.250666911001915</span></li></ul></li><li><label class='ee-shut'>14: [-68.85692904044886, -53.25066417932014]<input type='checkbox' class='ee-toggle'></label><ul><li><span class='ee-k'>0:</span><span class='ee-v'>-68.85692904044886</span></li><li><span class='ee-k'>1:</span><span class='ee-v'>-53.25066417932014</span></li></ul></li><li><label class='ee-shut'>15: [-70.49617785068216, -53.241360696755784]<input type='checkbox' class='ee-toggle'></label><ul><li><span class='ee-k'>0:</span><span class='ee-v'>-70.49617785068216</span></li><li><span class='ee-k'>1:</span><span class='ee-v'>-53.241360696755784</span></li></ul></li><li><label class='ee-shut'>16: [-70.4962483751049, -53.24139634812113]<input type='checkbox' class='ee-toggle'></label><ul><li><span class='ee-k'>0:</span><span class='ee-v'>-70.4962483751049</span></li><li><span class='ee-k'>1:</span><span class='ee-v'>-53.24139634812113</span></li></ul></li><li><label class='ee-shut'>17: [-70.49632588717374, -53.24142651945783]<input type='checkbox' class='ee-toggle'></label><ul><li><span class='ee-k'>0:</span><span class='ee-v'>-70.49632588717374</span></li><li><span class='ee-k'>1:</span><span class='ee-v'>-53.24142651945783</span></li></ul></li><li><label class='ee-shut'>18: [-70.4963297827744, -53.24143752278791]<input type='checkbox' class='ee-toggle'></label><ul><li><span class='ee-k'>0:</span><span class='ee-v'>-70.4963297827744</span></li><li><span class='ee-k'>1:</span><span class='ee-v'>-53.24143752278791</span></li></ul></li></ul></li></ul></li><li><span class='ee-k'>system:index:</span><span class='ee-v'>20200713T141051_20200713T142302_T19FDA</span></li><li><span class='ee-k'>system:time_start:</span><span class='ee-v'>1594650469605</span></li></ul></li></ul></li><li><label class='ee-shut'>6: Image GOOGLE/DYNAMICWORLD/V1/20200802T141051_20200802T142304_T19FDA (1 band)<input type='checkbox' class='ee-toggle'></label><ul><li><span class='ee-k'>type:</span><span class='ee-v'>Image</span></li><li><span class='ee-k'>id:</span><span class='ee-v'>GOOGLE/DYNAMICWORLD/V1/20200802T141051_20200802T142304_T19FDA</span></li><li><span class='ee-k'>version:</span><span class='ee-v'>1725545762273396</span></li><li><label class='ee-shut'>bands: List (1 element)<input type='checkbox' class='ee-toggle'></label><ul><li><label class='ee-shut'>0: \"label\", unsigned int8, EPSG:4326<input type='checkbox' class='ee-toggle'></label><ul><li><span class='ee-k'>id:</span><span class='ee-v'>label</span></li><li><span class='ee-k'>crs:</span><span class='ee-v'>EPSG:4326</span></li><li><label class='ee-shut'>crs_transform: [1, 0, 0, 0, 1, 0]<input type='checkbox' class='ee-toggle'></label><ul><li><span class='ee-k'>0:</span><span class='ee-v'>1</span></li><li><span class='ee-k'>1:</span><span class='ee-v'>0</span></li><li><span class='ee-k'>2:</span><span class='ee-v'>0</span></li><li><span class='ee-k'>3:</span><span class='ee-v'>0</span></li><li><span class='ee-k'>4:</span><span class='ee-v'>1</span></li><li><span class='ee-k'>5:</span><span class='ee-v'>0</span></li></ul></li><li><label class='ee-shut'>data_type: unsigned int8<input type='checkbox' class='ee-toggle'></label><ul><li><span class='ee-k'>type:</span><span class='ee-v'>PixelType</span></li><li><span class='ee-k'>max:</span><span class='ee-v'>255</span></li><li><span class='ee-k'>min:</span><span class='ee-v'>0</span></li><li><span class='ee-k'>precision:</span><span class='ee-v'>int</span></li></ul></li></ul></li></ul></li><li><label class='ee-shut'>properties: Object (6 properties)<input type='checkbox' class='ee-toggle'></label><ul><li><span class='ee-k'>dynamicworld_algorithm_version:</span><span class='ee-v'>3.5</span></li><li><span class='ee-k'>qa_algorithm_version:</span><span class='ee-v'>1</span></li><li><span class='ee-k'>system:asset_size:</span><span class='ee-v'>1214838543</span></li><li><label class='ee-shut'>system:footprint: LinearRing (19 vertices)<input type='checkbox' class='ee-toggle'></label><ul><li><span class='ee-k'>type:</span><span class='ee-v'>LinearRing</span></li><li><label class='ee-shut'>coordinates: List (19 elements)<input type='checkbox' class='ee-toggle'></label><ul><li><label class='ee-shut'>0: [-70.4963297827744, -53.24143752278791]<input type='checkbox' class='ee-toggle'></label><ul><li><span class='ee-k'>0:</span><span class='ee-v'>-70.4963297827744</span></li><li><span class='ee-k'>1:</span><span class='ee-v'>-53.24143752278791</span></li></ul></li><li><label class='ee-shut'>1: [-70.49633138630597, -53.24144873517119]<input type='checkbox' class='ee-toggle'></label><ul><li><span class='ee-k'>0:</span><span class='ee-v'>-70.49633138630597</span></li><li><span class='ee-k'>1:</span><span class='ee-v'>-53.24144873517119</span></li></ul></li><li><label class='ee-shut'>2: [-70.51373232985509, -53.732915475120784]<input type='checkbox' class='ee-toggle'></label><ul><li><span class='ee-k'>0:</span><span class='ee-v'>-70.51373232985509</span></li><li><span class='ee-k'>1:</span><span class='ee-v'>-53.732915475120784</span></li></ul></li><li><label class='ee-shut'>3: [-70.53165646249464, -54.22433765301265]<input type='checkbox' class='ee-toggle'></label><ul><li><span class='ee-k'>0:</span><span class='ee-v'>-70.53165646249464</span></li><li><span class='ee-k'>1:</span><span class='ee-v'>-54.22433765301265</span></li></ul></li><li><label class='ee-shut'>4: [-70.53159545008147, -54.22437988990759]<input type='checkbox' class='ee-toggle'></label><ul><li><span class='ee-k'>0:</span><span class='ee-v'>-70.53159545008147</span></li><li><span class='ee-k'>1:</span><span class='ee-v'>-54.22437988990759</span></li></ul></li><li><label class='ee-shut'>5: [-70.5315438283783, -54.22442629867268]<input type='checkbox' class='ee-toggle'></label><ul><li><span class='ee-k'>0:</span><span class='ee-v'>-70.5315438283783</span></li><li><span class='ee-k'>1:</span><span class='ee-v'>-54.22442629867268</span></li></ul></li><li><label class='ee-shut'>6: [-70.53151868318245, -54.22442944185984]<input type='checkbox' class='ee-toggle'></label><ul><li><span class='ee-k'>0:</span><span class='ee-v'>-70.53151868318245</span></li><li><span class='ee-k'>1:</span><span class='ee-v'>-54.22442944185984</span></li></ul></li><li><label class='ee-shut'>7: [-68.85356213906738, -54.234071790109525]<input type='checkbox' class='ee-toggle'></label><ul><li><span class='ee-k'>0:</span><span class='ee-v'>-68.85356213906738</span></li><li><span class='ee-k'>1:</span><span class='ee-v'>-54.234071790109525</span></li></ul></li><li><label class='ee-shut'>8: [-68.85349140946737, -54.23403517998849]<input type='checkbox' class='ee-toggle'></label><ul><li><span class='ee-k'>0:</span><span class='ee-v'>-68.85349140946737</span></li><li><span class='ee-k'>1:</span><span class='ee-v'>-54.23403517998849</span></li></ul></li><li><label class='ee-shut'>9: [-68.85341327293489, -54.234004013914564]<input type='checkbox' class='ee-toggle'></label><ul><li><span class='ee-k'>0:</span><span class='ee-v'>-68.85341327293489</span></li><li><span class='ee-k'>1:</span><span class='ee-v'>-54.234004013914564</span></li></ul></li><li><label class='ee-shut'>10: [-68.8534085491861, -54.23398919285666]<input type='checkbox' class='ee-toggle'></label><ul><li><span class='ee-k'>0:</span><span class='ee-v'>-68.8534085491861</span></li><li><span class='ee-k'>1:</span><span class='ee-v'>-54.23398919285666</span></li></ul></li><li><label class='ee-shut'>11: [-68.85679091770375, -53.25075400620866]<input type='checkbox' class='ee-toggle'></label><ul><li><span class='ee-k'>0:</span><span class='ee-v'>-68.85679091770375</span></li><li><span class='ee-k'>1:</span><span class='ee-v'>-53.25075400620866</span></li></ul></li><li><label class='ee-shut'>12: [-68.85685220406319, -53.25071260093292]<input type='checkbox' class='ee-toggle'></label><ul><li><span class='ee-k'>0:</span><span class='ee-v'>-68.85685220406319</span></li><li><span class='ee-k'>1:</span><span class='ee-v'>-53.25071260093292</span></li></ul></li><li><label class='ee-shut'>13: [-68.85690430913712, -53.250666911001915]<input type='checkbox' class='ee-toggle'></label><ul><li><span class='ee-k'>0:</span><span class='ee-v'>-68.85690430913712</span></li><li><span class='ee-k'>1:</span><span class='ee-v'>-53.250666911001915</span></li></ul></li><li><label class='ee-shut'>14: [-68.85692904044886, -53.25066417932014]<input type='checkbox' class='ee-toggle'></label><ul><li><span class='ee-k'>0:</span><span class='ee-v'>-68.85692904044886</span></li><li><span class='ee-k'>1:</span><span class='ee-v'>-53.25066417932014</span></li></ul></li><li><label class='ee-shut'>15: [-70.49617785068216, -53.241360696755784]<input type='checkbox' class='ee-toggle'></label><ul><li><span class='ee-k'>0:</span><span class='ee-v'>-70.49617785068216</span></li><li><span class='ee-k'>1:</span><span class='ee-v'>-53.241360696755784</span></li></ul></li><li><label class='ee-shut'>16: [-70.4962483751049, -53.24139634812113]<input type='checkbox' class='ee-toggle'></label><ul><li><span class='ee-k'>0:</span><span class='ee-v'>-70.4962483751049</span></li><li><span class='ee-k'>1:</span><span class='ee-v'>-53.24139634812113</span></li></ul></li><li><label class='ee-shut'>17: [-70.49632588717374, -53.24142651945783]<input type='checkbox' class='ee-toggle'></label><ul><li><span class='ee-k'>0:</span><span class='ee-v'>-70.49632588717374</span></li><li><span class='ee-k'>1:</span><span class='ee-v'>-53.24142651945783</span></li></ul></li><li><label class='ee-shut'>18: [-70.4963297827744, -53.24143752278791]<input type='checkbox' class='ee-toggle'></label><ul><li><span class='ee-k'>0:</span><span class='ee-v'>-70.4963297827744</span></li><li><span class='ee-k'>1:</span><span class='ee-v'>-53.24143752278791</span></li></ul></li></ul></li></ul></li><li><span class='ee-k'>system:index:</span><span class='ee-v'>20200802T141051_20200802T142304_T19FDA</span></li><li><span class='ee-k'>system:time_start:</span><span class='ee-v'>1596378471018</span></li></ul></li></ul></li><li><label class='ee-shut'>7: Image GOOGLE/DYNAMICWORLD/V1/20200906T141049_20200906T142309_T19FDA (1 band)<input type='checkbox' class='ee-toggle'></label><ul><li><span class='ee-k'>type:</span><span class='ee-v'>Image</span></li><li><span class='ee-k'>id:</span><span class='ee-v'>GOOGLE/DYNAMICWORLD/V1/20200906T141049_20200906T142309_T19FDA</span></li><li><span class='ee-k'>version:</span><span class='ee-v'>1725545762273396</span></li><li><label class='ee-shut'>bands: List (1 element)<input type='checkbox' class='ee-toggle'></label><ul><li><label class='ee-shut'>0: \"label\", unsigned int8, EPSG:4326<input type='checkbox' class='ee-toggle'></label><ul><li><span class='ee-k'>id:</span><span class='ee-v'>label</span></li><li><span class='ee-k'>crs:</span><span class='ee-v'>EPSG:4326</span></li><li><label class='ee-shut'>crs_transform: [1, 0, 0, 0, 1, 0]<input type='checkbox' class='ee-toggle'></label><ul><li><span class='ee-k'>0:</span><span class='ee-v'>1</span></li><li><span class='ee-k'>1:</span><span class='ee-v'>0</span></li><li><span class='ee-k'>2:</span><span class='ee-v'>0</span></li><li><span class='ee-k'>3:</span><span class='ee-v'>0</span></li><li><span class='ee-k'>4:</span><span class='ee-v'>1</span></li><li><span class='ee-k'>5:</span><span class='ee-v'>0</span></li></ul></li><li><label class='ee-shut'>data_type: unsigned int8<input type='checkbox' class='ee-toggle'></label><ul><li><span class='ee-k'>type:</span><span class='ee-v'>PixelType</span></li><li><span class='ee-k'>max:</span><span class='ee-v'>255</span></li><li><span class='ee-k'>min:</span><span class='ee-v'>0</span></li><li><span class='ee-k'>precision:</span><span class='ee-v'>int</span></li></ul></li></ul></li></ul></li><li><label class='ee-shut'>properties: Object (6 properties)<input type='checkbox' class='ee-toggle'></label><ul><li><span class='ee-k'>dynamicworld_algorithm_version:</span><span class='ee-v'>3.5</span></li><li><span class='ee-k'>qa_algorithm_version:</span><span class='ee-v'>1</span></li><li><span class='ee-k'>system:asset_size:</span><span class='ee-v'>1226497602</span></li><li><label class='ee-shut'>system:footprint: LinearRing (19 vertices)<input type='checkbox' class='ee-toggle'></label><ul><li><span class='ee-k'>type:</span><span class='ee-v'>LinearRing</span></li><li><label class='ee-shut'>coordinates: List (19 elements)<input type='checkbox' class='ee-toggle'></label><ul><li><label class='ee-shut'>0: [-70.4963297827744, -53.24143752278791]<input type='checkbox' class='ee-toggle'></label><ul><li><span class='ee-k'>0:</span><span class='ee-v'>-70.4963297827744</span></li><li><span class='ee-k'>1:</span><span class='ee-v'>-53.24143752278791</span></li></ul></li><li><label class='ee-shut'>1: [-70.49633138630597, -53.24144873517119]<input type='checkbox' class='ee-toggle'></label><ul><li><span class='ee-k'>0:</span><span class='ee-v'>-70.49633138630597</span></li><li><span class='ee-k'>1:</span><span class='ee-v'>-53.24144873517119</span></li></ul></li><li><label class='ee-shut'>2: [-70.51373232985509, -53.732915475120784]<input type='checkbox' class='ee-toggle'></label><ul><li><span class='ee-k'>0:</span><span class='ee-v'>-70.51373232985509</span></li><li><span class='ee-k'>1:</span><span class='ee-v'>-53.732915475120784</span></li></ul></li><li><label class='ee-shut'>3: [-70.53165646249464, -54.22433765301265]<input type='checkbox' class='ee-toggle'></label><ul><li><span class='ee-k'>0:</span><span class='ee-v'>-70.53165646249464</span></li><li><span class='ee-k'>1:</span><span class='ee-v'>-54.22433765301265</span></li></ul></li><li><label class='ee-shut'>4: [-70.53159545008147, -54.22437988990759]<input type='checkbox' class='ee-toggle'></label><ul><li><span class='ee-k'>0:</span><span class='ee-v'>-70.53159545008147</span></li><li><span class='ee-k'>1:</span><span class='ee-v'>-54.22437988990759</span></li></ul></li><li><label class='ee-shut'>5: [-70.5315438283783, -54.22442629867268]<input type='checkbox' class='ee-toggle'></label><ul><li><span class='ee-k'>0:</span><span class='ee-v'>-70.5315438283783</span></li><li><span class='ee-k'>1:</span><span class='ee-v'>-54.22442629867268</span></li></ul></li><li><label class='ee-shut'>6: [-70.53151868318245, -54.22442944185984]<input type='checkbox' class='ee-toggle'></label><ul><li><span class='ee-k'>0:</span><span class='ee-v'>-70.53151868318245</span></li><li><span class='ee-k'>1:</span><span class='ee-v'>-54.22442944185984</span></li></ul></li><li><label class='ee-shut'>7: [-68.85356213906738, -54.234071790109525]<input type='checkbox' class='ee-toggle'></label><ul><li><span class='ee-k'>0:</span><span class='ee-v'>-68.85356213906738</span></li><li><span class='ee-k'>1:</span><span class='ee-v'>-54.234071790109525</span></li></ul></li><li><label class='ee-shut'>8: [-68.85349140946737, -54.23403517998849]<input type='checkbox' class='ee-toggle'></label><ul><li><span class='ee-k'>0:</span><span class='ee-v'>-68.85349140946737</span></li><li><span class='ee-k'>1:</span><span class='ee-v'>-54.23403517998849</span></li></ul></li><li><label class='ee-shut'>9: [-68.85341327293489, -54.234004013914564]<input type='checkbox' class='ee-toggle'></label><ul><li><span class='ee-k'>0:</span><span class='ee-v'>-68.85341327293489</span></li><li><span class='ee-k'>1:</span><span class='ee-v'>-54.234004013914564</span></li></ul></li><li><label class='ee-shut'>10: [-68.8534085491861, -54.23398919285666]<input type='checkbox' class='ee-toggle'></label><ul><li><span class='ee-k'>0:</span><span class='ee-v'>-68.8534085491861</span></li><li><span class='ee-k'>1:</span><span class='ee-v'>-54.23398919285666</span></li></ul></li><li><label class='ee-shut'>11: [-68.85679091770375, -53.25075400620866]<input type='checkbox' class='ee-toggle'></label><ul><li><span class='ee-k'>0:</span><span class='ee-v'>-68.85679091770375</span></li><li><span class='ee-k'>1:</span><span class='ee-v'>-53.25075400620866</span></li></ul></li><li><label class='ee-shut'>12: [-68.85685220406319, -53.25071260093292]<input type='checkbox' class='ee-toggle'></label><ul><li><span class='ee-k'>0:</span><span class='ee-v'>-68.85685220406319</span></li><li><span class='ee-k'>1:</span><span class='ee-v'>-53.25071260093292</span></li></ul></li><li><label class='ee-shut'>13: [-68.85690430913712, -53.250666911001915]<input type='checkbox' class='ee-toggle'></label><ul><li><span class='ee-k'>0:</span><span class='ee-v'>-68.85690430913712</span></li><li><span class='ee-k'>1:</span><span class='ee-v'>-53.250666911001915</span></li></ul></li><li><label class='ee-shut'>14: [-68.85692904044886, -53.25066417932014]<input type='checkbox' class='ee-toggle'></label><ul><li><span class='ee-k'>0:</span><span class='ee-v'>-68.85692904044886</span></li><li><span class='ee-k'>1:</span><span class='ee-v'>-53.25066417932014</span></li></ul></li><li><label class='ee-shut'>15: [-70.49617785068216, -53.241360696755784]<input type='checkbox' class='ee-toggle'></label><ul><li><span class='ee-k'>0:</span><span class='ee-v'>-70.49617785068216</span></li><li><span class='ee-k'>1:</span><span class='ee-v'>-53.241360696755784</span></li></ul></li><li><label class='ee-shut'>16: [-70.4962483751049, -53.24139634812113]<input type='checkbox' class='ee-toggle'></label><ul><li><span class='ee-k'>0:</span><span class='ee-v'>-70.4962483751049</span></li><li><span class='ee-k'>1:</span><span class='ee-v'>-53.24139634812113</span></li></ul></li><li><label class='ee-shut'>17: [-70.49632588717374, -53.24142651945783]<input type='checkbox' class='ee-toggle'></label><ul><li><span class='ee-k'>0:</span><span class='ee-v'>-70.49632588717374</span></li><li><span class='ee-k'>1:</span><span class='ee-v'>-53.24142651945783</span></li></ul></li><li><label class='ee-shut'>18: [-70.4963297827744, -53.24143752278791]<input type='checkbox' class='ee-toggle'></label><ul><li><span class='ee-k'>0:</span><span class='ee-v'>-70.4963297827744</span></li><li><span class='ee-k'>1:</span><span class='ee-v'>-53.24143752278791</span></li></ul></li></ul></li></ul></li><li><span class='ee-k'>system:index:</span><span class='ee-v'>20200906T141049_20200906T142309_T19FDA</span></li><li><span class='ee-k'>system:time_start:</span><span class='ee-v'>1599402467976</span></li></ul></li></ul></li><li><label class='ee-shut'>8: Image GOOGLE/DYNAMICWORLD/V1/20201006T141049_20201006T142309_T19FDA (1 band)<input type='checkbox' class='ee-toggle'></label><ul><li><span class='ee-k'>type:</span><span class='ee-v'>Image</span></li><li><span class='ee-k'>id:</span><span class='ee-v'>GOOGLE/DYNAMICWORLD/V1/20201006T141049_20201006T142309_T19FDA</span></li><li><span class='ee-k'>version:</span><span class='ee-v'>1725545762273396</span></li><li><label class='ee-shut'>bands: List (1 element)<input type='checkbox' class='ee-toggle'></label><ul><li><label class='ee-shut'>0: \"label\", unsigned int8, EPSG:4326<input type='checkbox' class='ee-toggle'></label><ul><li><span class='ee-k'>id:</span><span class='ee-v'>label</span></li><li><span class='ee-k'>crs:</span><span class='ee-v'>EPSG:4326</span></li><li><label class='ee-shut'>crs_transform: [1, 0, 0, 0, 1, 0]<input type='checkbox' class='ee-toggle'></label><ul><li><span class='ee-k'>0:</span><span class='ee-v'>1</span></li><li><span class='ee-k'>1:</span><span class='ee-v'>0</span></li><li><span class='ee-k'>2:</span><span class='ee-v'>0</span></li><li><span class='ee-k'>3:</span><span class='ee-v'>0</span></li><li><span class='ee-k'>4:</span><span class='ee-v'>1</span></li><li><span class='ee-k'>5:</span><span class='ee-v'>0</span></li></ul></li><li><label class='ee-shut'>data_type: unsigned int8<input type='checkbox' class='ee-toggle'></label><ul><li><span class='ee-k'>type:</span><span class='ee-v'>PixelType</span></li><li><span class='ee-k'>max:</span><span class='ee-v'>255</span></li><li><span class='ee-k'>min:</span><span class='ee-v'>0</span></li><li><span class='ee-k'>precision:</span><span class='ee-v'>int</span></li></ul></li></ul></li></ul></li><li><label class='ee-shut'>properties: Object (6 properties)<input type='checkbox' class='ee-toggle'></label><ul><li><span class='ee-k'>dynamicworld_algorithm_version:</span><span class='ee-v'>3.5</span></li><li><span class='ee-k'>qa_algorithm_version:</span><span class='ee-v'>1</span></li><li><span class='ee-k'>system:asset_size:</span><span class='ee-v'>447610407</span></li><li><label class='ee-shut'>system:footprint: LinearRing (19 vertices)<input type='checkbox' class='ee-toggle'></label><ul><li><span class='ee-k'>type:</span><span class='ee-v'>LinearRing</span></li><li><label class='ee-shut'>coordinates: List (19 elements)<input type='checkbox' class='ee-toggle'></label><ul><li><label class='ee-shut'>0: [-70.4963297827744, -53.24143752278791]<input type='checkbox' class='ee-toggle'></label><ul><li><span class='ee-k'>0:</span><span class='ee-v'>-70.4963297827744</span></li><li><span class='ee-k'>1:</span><span class='ee-v'>-53.24143752278791</span></li></ul></li><li><label class='ee-shut'>1: [-70.49633138630597, -53.24144873517119]<input type='checkbox' class='ee-toggle'></label><ul><li><span class='ee-k'>0:</span><span class='ee-v'>-70.49633138630597</span></li><li><span class='ee-k'>1:</span><span class='ee-v'>-53.24144873517119</span></li></ul></li><li><label class='ee-shut'>2: [-70.51373232985509, -53.732915475120784]<input type='checkbox' class='ee-toggle'></label><ul><li><span class='ee-k'>0:</span><span class='ee-v'>-70.51373232985509</span></li><li><span class='ee-k'>1:</span><span class='ee-v'>-53.732915475120784</span></li></ul></li><li><label class='ee-shut'>3: [-70.53165646249464, -54.22433765301265]<input type='checkbox' class='ee-toggle'></label><ul><li><span class='ee-k'>0:</span><span class='ee-v'>-70.53165646249464</span></li><li><span class='ee-k'>1:</span><span class='ee-v'>-54.22433765301265</span></li></ul></li><li><label class='ee-shut'>4: [-70.53159545008147, -54.22437988990759]<input type='checkbox' class='ee-toggle'></label><ul><li><span class='ee-k'>0:</span><span class='ee-v'>-70.53159545008147</span></li><li><span class='ee-k'>1:</span><span class='ee-v'>-54.22437988990759</span></li></ul></li><li><label class='ee-shut'>5: [-70.5315438283783, -54.22442629867268]<input type='checkbox' class='ee-toggle'></label><ul><li><span class='ee-k'>0:</span><span class='ee-v'>-70.5315438283783</span></li><li><span class='ee-k'>1:</span><span class='ee-v'>-54.22442629867268</span></li></ul></li><li><label class='ee-shut'>6: [-70.53151868318245, -54.22442944185984]<input type='checkbox' class='ee-toggle'></label><ul><li><span class='ee-k'>0:</span><span class='ee-v'>-70.53151868318245</span></li><li><span class='ee-k'>1:</span><span class='ee-v'>-54.22442944185984</span></li></ul></li><li><label class='ee-shut'>7: [-68.85356213906738, -54.234071790109525]<input type='checkbox' class='ee-toggle'></label><ul><li><span class='ee-k'>0:</span><span class='ee-v'>-68.85356213906738</span></li><li><span class='ee-k'>1:</span><span class='ee-v'>-54.234071790109525</span></li></ul></li><li><label class='ee-shut'>8: [-68.85349140946737, -54.23403517998849]<input type='checkbox' class='ee-toggle'></label><ul><li><span class='ee-k'>0:</span><span class='ee-v'>-68.85349140946737</span></li><li><span class='ee-k'>1:</span><span class='ee-v'>-54.23403517998849</span></li></ul></li><li><label class='ee-shut'>9: [-68.85341327293489, -54.234004013914564]<input type='checkbox' class='ee-toggle'></label><ul><li><span class='ee-k'>0:</span><span class='ee-v'>-68.85341327293489</span></li><li><span class='ee-k'>1:</span><span class='ee-v'>-54.234004013914564</span></li></ul></li><li><label class='ee-shut'>10: [-68.8534085491861, -54.23398919285666]<input type='checkbox' class='ee-toggle'></label><ul><li><span class='ee-k'>0:</span><span class='ee-v'>-68.8534085491861</span></li><li><span class='ee-k'>1:</span><span class='ee-v'>-54.23398919285666</span></li></ul></li><li><label class='ee-shut'>11: [-68.85679091770375, -53.25075400620866]<input type='checkbox' class='ee-toggle'></label><ul><li><span class='ee-k'>0:</span><span class='ee-v'>-68.85679091770375</span></li><li><span class='ee-k'>1:</span><span class='ee-v'>-53.25075400620866</span></li></ul></li><li><label class='ee-shut'>12: [-68.85685220406319, -53.25071260093292]<input type='checkbox' class='ee-toggle'></label><ul><li><span class='ee-k'>0:</span><span class='ee-v'>-68.85685220406319</span></li><li><span class='ee-k'>1:</span><span class='ee-v'>-53.25071260093292</span></li></ul></li><li><label class='ee-shut'>13: [-68.85690430913712, -53.250666911001915]<input type='checkbox' class='ee-toggle'></label><ul><li><span class='ee-k'>0:</span><span class='ee-v'>-68.85690430913712</span></li><li><span class='ee-k'>1:</span><span class='ee-v'>-53.250666911001915</span></li></ul></li><li><label class='ee-shut'>14: [-68.85692904044886, -53.25066417932014]<input type='checkbox' class='ee-toggle'></label><ul><li><span class='ee-k'>0:</span><span class='ee-v'>-68.85692904044886</span></li><li><span class='ee-k'>1:</span><span class='ee-v'>-53.25066417932014</span></li></ul></li><li><label class='ee-shut'>15: [-70.49617785068216, -53.241360696755784]<input type='checkbox' class='ee-toggle'></label><ul><li><span class='ee-k'>0:</span><span class='ee-v'>-70.49617785068216</span></li><li><span class='ee-k'>1:</span><span class='ee-v'>-53.241360696755784</span></li></ul></li><li><label class='ee-shut'>16: [-70.4962483751049, -53.24139634812113]<input type='checkbox' class='ee-toggle'></label><ul><li><span class='ee-k'>0:</span><span class='ee-v'>-70.4962483751049</span></li><li><span class='ee-k'>1:</span><span class='ee-v'>-53.24139634812113</span></li></ul></li><li><label class='ee-shut'>17: [-70.49632588717374, -53.24142651945783]<input type='checkbox' class='ee-toggle'></label><ul><li><span class='ee-k'>0:</span><span class='ee-v'>-70.49632588717374</span></li><li><span class='ee-k'>1:</span><span class='ee-v'>-53.24142651945783</span></li></ul></li><li><label class='ee-shut'>18: [-70.4963297827744, -53.24143752278791]<input type='checkbox' class='ee-toggle'></label><ul><li><span class='ee-k'>0:</span><span class='ee-v'>-70.4963297827744</span></li><li><span class='ee-k'>1:</span><span class='ee-v'>-53.24143752278791</span></li></ul></li></ul></li></ul></li><li><span class='ee-k'>system:index:</span><span class='ee-v'>20201006T141049_20201006T142309_T19FDA</span></li><li><span class='ee-k'>system:time_start:</span><span class='ee-v'>1601994468696</span></li></ul></li></ul></li><li><label class='ee-shut'>9: Image GOOGLE/DYNAMICWORLD/V1/20201102T140059_20201102T141325_T19FDU (1 band)<input type='checkbox' class='ee-toggle'></label><ul><li><span class='ee-k'>type:</span><span class='ee-v'>Image</span></li><li><span class='ee-k'>id:</span><span class='ee-v'>GOOGLE/DYNAMICWORLD/V1/20201102T140059_20201102T141325_T19FDU</span></li><li><span class='ee-k'>version:</span><span class='ee-v'>1725545762273396</span></li><li><label class='ee-shut'>bands: List (1 element)<input type='checkbox' class='ee-toggle'></label><ul><li><label class='ee-shut'>0: \"label\", unsigned int8, EPSG:4326<input type='checkbox' class='ee-toggle'></label><ul><li><span class='ee-k'>id:</span><span class='ee-v'>label</span></li><li><span class='ee-k'>crs:</span><span class='ee-v'>EPSG:4326</span></li><li><label class='ee-shut'>crs_transform: [1, 0, 0, 0, 1, 0]<input type='checkbox' class='ee-toggle'></label><ul><li><span class='ee-k'>0:</span><span class='ee-v'>1</span></li><li><span class='ee-k'>1:</span><span class='ee-v'>0</span></li><li><span class='ee-k'>2:</span><span class='ee-v'>0</span></li><li><span class='ee-k'>3:</span><span class='ee-v'>0</span></li><li><span class='ee-k'>4:</span><span class='ee-v'>1</span></li><li><span class='ee-k'>5:</span><span class='ee-v'>0</span></li></ul></li><li><label class='ee-shut'>data_type: unsigned int8<input type='checkbox' class='ee-toggle'></label><ul><li><span class='ee-k'>type:</span><span class='ee-v'>PixelType</span></li><li><span class='ee-k'>max:</span><span class='ee-v'>255</span></li><li><span class='ee-k'>min:</span><span class='ee-v'>0</span></li><li><span class='ee-k'>precision:</span><span class='ee-v'>int</span></li></ul></li></ul></li></ul></li><li><label class='ee-shut'>properties: Object (6 properties)<input type='checkbox' class='ee-toggle'></label><ul><li><span class='ee-k'>dynamicworld_algorithm_version:</span><span class='ee-v'>3.5</span></li><li><span class='ee-k'>qa_algorithm_version:</span><span class='ee-v'>1</span></li><li><span class='ee-k'>system:asset_size:</span><span class='ee-v'>1447005954</span></li><li><label class='ee-shut'>system:footprint: LinearRing (19 vertices)<input type='checkbox' class='ee-toggle'></label><ul><li><span class='ee-k'>type:</span><span class='ee-v'>LinearRing</span></li><li><label class='ee-shut'>coordinates: List (19 elements)<input type='checkbox' class='ee-toggle'></label><ul><li><label class='ee-shut'>0: [-68.84667357236343, -56.03105243779325]<input type='checkbox' class='ee-toggle'></label><ul><li><span class='ee-k'>0:</span><span class='ee-v'>-68.84667357236343</span></li><li><span class='ee-k'>1:</span><span class='ee-v'>-56.03105243779325</span></li></ul></li><li><label class='ee-shut'>1: [-68.84667240297327, -56.03104117675612]<input type='checkbox' class='ee-toggle'></label><ul><li><span class='ee-k'>0:</span><span class='ee-v'>-68.84667240297327</span></li><li><span class='ee-k'>1:</span><span class='ee-v'>-56.03104117675612</span></li></ul></li><li><label class='ee-shut'>2: [-68.8504501264824, -55.04810735077409]<input type='checkbox' class='ee-toggle'></label><ul><li><span class='ee-k'>0:</span><span class='ee-v'>-68.8504501264824</span></li><li><span class='ee-k'>1:</span><span class='ee-v'>-55.04810735077409</span></li></ul></li><li><label class='ee-shut'>3: [-68.8505140562388, -55.04806592342368]<input type='checkbox' class='ee-toggle'></label><ul><li><span class='ee-k'>0:</span><span class='ee-v'>-68.8505140562388</span></li><li><span class='ee-k'>1:</span><span class='ee-v'>-55.04806592342368</span></li></ul></li><li><label class='ee-shut'>4: [-68.85056855558823, -55.04802031602404]<input type='checkbox' class='ee-toggle'></label><ul><li><span class='ee-k'>0:</span><span class='ee-v'>-68.85056855558823</span></li><li><span class='ee-k'>1:</span><span class='ee-v'>-55.04802031602404</span></li></ul></li><li><label class='ee-shut'>5: [-68.85059430560841, -55.04801750450775]<input type='checkbox' class='ee-toggle'></label><ul><li><span class='ee-k'>0:</span><span class='ee-v'>-68.85059430560841</span></li><li><span class='ee-k'>1:</span><span class='ee-v'>-55.04801750450775</span></li></ul></li><li><label class='ee-shut'>6: [-70.56239196713575, -55.03808247671956]<input type='checkbox' class='ee-toggle'></label><ul><li><span class='ee-k'>0:</span><span class='ee-v'>-70.56239196713575</span></li><li><span class='ee-k'>1:</span><span class='ee-v'>-55.03808247671956</span></li></ul></li><li><label class='ee-shut'>7: [-70.56246570807687, -55.03811813351156]<input type='checkbox' class='ee-toggle'></label><ul><li><span class='ee-k'>0:</span><span class='ee-v'>-70.56246570807687</span></li><li><span class='ee-k'>1:</span><span class='ee-v'>-55.03811813351156</span></li></ul></li><li><label class='ee-shut'>8: [-70.56254675788409, -55.038148180555716]<input type='checkbox' class='ee-toggle'></label><ul><li><span class='ee-k'>0:</span><span class='ee-v'>-70.56254675788409</span></li><li><span class='ee-k'>1:</span><span class='ee-v'>-55.038148180555716</span></li></ul></li><li><label class='ee-shut'>9: [-70.5625522795517, -55.038162912420475]<input type='checkbox' class='ee-toggle'></label><ul><li><span class='ee-k'>0:</span><span class='ee-v'>-70.5625522795517</span></li><li><span class='ee-k'>1:</span><span class='ee-v'>-55.038162912420475</span></li></ul></li><li><label class='ee-shut'>10: [-70.5819737829638, -55.529474576448344]<input type='checkbox' class='ee-toggle'></label><ul><li><span class='ee-k'>0:</span><span class='ee-v'>-70.5819737829638</span></li><li><span class='ee-k'>1:</span><span class='ee-v'>-55.529474576448344</span></li></ul></li><li><label class='ee-shut'>11: [-70.60200277917527, -56.02073439030446]<input type='checkbox' class='ee-toggle'></label><ul><li><span class='ee-k'>0:</span><span class='ee-v'>-70.60200277917527</span></li><li><span class='ee-k'>1:</span><span class='ee-v'>-56.02073439030446</span></li></ul></li><li><label class='ee-shut'>12: [-70.6019390864443, -56.02077670512888]<input type='checkbox' class='ee-toggle'></label><ul><li><span class='ee-k'>0:</span><span class='ee-v'>-70.6019390864443</span></li><li><span class='ee-k'>1:</span><span class='ee-v'>-56.02077670512888</span></li></ul></li><li><label class='ee-shut'>13: [-70.60188530573465, -56.020823113777375]<input type='checkbox' class='ee-toggle'></label><ul><li><span class='ee-k'>0:</span><span class='ee-v'>-70.60188530573465</span></li><li><span class='ee-k'>1:</span><span class='ee-v'>-56.020823113777375</span></li></ul></li><li><label class='ee-shut'>14: [-70.60185904308901, -56.0208262567157]<input type='checkbox' class='ee-toggle'></label><ul><li><span class='ee-k'>0:</span><span class='ee-v'>-70.60185904308901</span></li><li><span class='ee-k'>1:</span><span class='ee-v'>-56.0208262567157</span></li></ul></li><li><label class='ee-shut'>15: [-68.84683309071285, -56.03113139469901]<input type='checkbox' class='ee-toggle'></label><ul><li><span class='ee-k'>0:</span><span class='ee-v'>-68.84683309071285</span></li><li><span class='ee-k'>1:</span><span class='ee-v'>-56.03113139469901</span></li></ul></li><li><label class='ee-shut'>16: [-68.84675899849664, -56.031094759413456]<input type='checkbox' class='ee-toggle'></label><ul><li><span class='ee-k'>0:</span><span class='ee-v'>-68.84675899849664</span></li><li><span class='ee-k'>1:</span><span class='ee-v'>-56.031094759413456</span></li></ul></li><li><label class='ee-shut'>17: [-68.84667739665818, -56.031063550995135]<input type='checkbox' class='ee-toggle'></label><ul><li><span class='ee-k'>0:</span><span class='ee-v'>-68.84667739665818</span></li><li><span class='ee-k'>1:</span><span class='ee-v'>-56.031063550995135</span></li></ul></li><li><label class='ee-shut'>18: [-68.84667357236343, -56.03105243779325]<input type='checkbox' class='ee-toggle'></label><ul><li><span class='ee-k'>0:</span><span class='ee-v'>-68.84667357236343</span></li><li><span class='ee-k'>1:</span><span class='ee-v'>-56.03105243779325</span></li></ul></li></ul></li></ul></li><li><span class='ee-k'>system:index:</span><span class='ee-v'>20201102T140059_20201102T141325_T19FDU</span></li><li><span class='ee-k'>system:time_start:</span><span class='ee-v'>1604326699596</span></li></ul></li></ul></li><li><label class='ee-shut'>10: Image GOOGLE/DYNAMICWORLD/V1/20201212T140049_20201212T141319_T19FDA (1 band)<input type='checkbox' class='ee-toggle'></label><ul><li><span class='ee-k'>type:</span><span class='ee-v'>Image</span></li><li><span class='ee-k'>id:</span><span class='ee-v'>GOOGLE/DYNAMICWORLD/V1/20201212T140049_20201212T141319_T19FDA</span></li><li><span class='ee-k'>version:</span><span class='ee-v'>1725545762273396</span></li><li><label class='ee-shut'>bands: List (1 element)<input type='checkbox' class='ee-toggle'></label><ul><li><label class='ee-shut'>0: \"label\", unsigned int8, EPSG:4326<input type='checkbox' class='ee-toggle'></label><ul><li><span class='ee-k'>id:</span><span class='ee-v'>label</span></li><li><span class='ee-k'>crs:</span><span class='ee-v'>EPSG:4326</span></li><li><label class='ee-shut'>crs_transform: [1, 0, 0, 0, 1, 0]<input type='checkbox' class='ee-toggle'></label><ul><li><span class='ee-k'>0:</span><span class='ee-v'>1</span></li><li><span class='ee-k'>1:</span><span class='ee-v'>0</span></li><li><span class='ee-k'>2:</span><span class='ee-v'>0</span></li><li><span class='ee-k'>3:</span><span class='ee-v'>0</span></li><li><span class='ee-k'>4:</span><span class='ee-v'>1</span></li><li><span class='ee-k'>5:</span><span class='ee-v'>0</span></li></ul></li><li><label class='ee-shut'>data_type: unsigned int8<input type='checkbox' class='ee-toggle'></label><ul><li><span class='ee-k'>type:</span><span class='ee-v'>PixelType</span></li><li><span class='ee-k'>max:</span><span class='ee-v'>255</span></li><li><span class='ee-k'>min:</span><span class='ee-v'>0</span></li><li><span class='ee-k'>precision:</span><span class='ee-v'>int</span></li></ul></li></ul></li></ul></li><li><label class='ee-shut'>properties: Object (6 properties)<input type='checkbox' class='ee-toggle'></label><ul><li><span class='ee-k'>dynamicworld_algorithm_version:</span><span class='ee-v'>3.5</span></li><li><span class='ee-k'>qa_algorithm_version:</span><span class='ee-v'>1</span></li><li><span class='ee-k'>system:asset_size:</span><span class='ee-v'>523049569</span></li><li><label class='ee-shut'>system:footprint: LinearRing (19 vertices)<input type='checkbox' class='ee-toggle'></label><ul><li><span class='ee-k'>type:</span><span class='ee-v'>LinearRing</span></li><li><label class='ee-shut'>coordinates: List (19 elements)<input type='checkbox' class='ee-toggle'></label><ul><li><label class='ee-shut'>0: [-70.4963297827744, -53.24143752278791]<input type='checkbox' class='ee-toggle'></label><ul><li><span class='ee-k'>0:</span><span class='ee-v'>-70.4963297827744</span></li><li><span class='ee-k'>1:</span><span class='ee-v'>-53.24143752278791</span></li></ul></li><li><label class='ee-shut'>1: [-70.49633138630597, -53.24144873517119]<input type='checkbox' class='ee-toggle'></label><ul><li><span class='ee-k'>0:</span><span class='ee-v'>-70.49633138630597</span></li><li><span class='ee-k'>1:</span><span class='ee-v'>-53.24144873517119</span></li></ul></li><li><label class='ee-shut'>2: [-70.51373232985509, -53.732915475120784]<input type='checkbox' class='ee-toggle'></label><ul><li><span class='ee-k'>0:</span><span class='ee-v'>-70.51373232985509</span></li><li><span class='ee-k'>1:</span><span class='ee-v'>-53.732915475120784</span></li></ul></li><li><label class='ee-shut'>3: [-70.53165646249464, -54.22433765301265]<input type='checkbox' class='ee-toggle'></label><ul><li><span class='ee-k'>0:</span><span class='ee-v'>-70.53165646249464</span></li><li><span class='ee-k'>1:</span><span class='ee-v'>-54.22433765301265</span></li></ul></li><li><label class='ee-shut'>4: [-70.53159545008147, -54.22437988990759]<input type='checkbox' class='ee-toggle'></label><ul><li><span class='ee-k'>0:</span><span class='ee-v'>-70.53159545008147</span></li><li><span class='ee-k'>1:</span><span class='ee-v'>-54.22437988990759</span></li></ul></li><li><label class='ee-shut'>5: [-70.5315438283783, -54.22442629867268]<input type='checkbox' class='ee-toggle'></label><ul><li><span class='ee-k'>0:</span><span class='ee-v'>-70.5315438283783</span></li><li><span class='ee-k'>1:</span><span class='ee-v'>-54.22442629867268</span></li></ul></li><li><label class='ee-shut'>6: [-70.53151868318245, -54.22442944185984]<input type='checkbox' class='ee-toggle'></label><ul><li><span class='ee-k'>0:</span><span class='ee-v'>-70.53151868318245</span></li><li><span class='ee-k'>1:</span><span class='ee-v'>-54.22442944185984</span></li></ul></li><li><label class='ee-shut'>7: [-68.85356213906738, -54.234071790109525]<input type='checkbox' class='ee-toggle'></label><ul><li><span class='ee-k'>0:</span><span class='ee-v'>-68.85356213906738</span></li><li><span class='ee-k'>1:</span><span class='ee-v'>-54.234071790109525</span></li></ul></li><li><label class='ee-shut'>8: [-68.85349140946737, -54.23403517998849]<input type='checkbox' class='ee-toggle'></label><ul><li><span class='ee-k'>0:</span><span class='ee-v'>-68.85349140946737</span></li><li><span class='ee-k'>1:</span><span class='ee-v'>-54.23403517998849</span></li></ul></li><li><label class='ee-shut'>9: [-68.85341327293489, -54.234004013914564]<input type='checkbox' class='ee-toggle'></label><ul><li><span class='ee-k'>0:</span><span class='ee-v'>-68.85341327293489</span></li><li><span class='ee-k'>1:</span><span class='ee-v'>-54.234004013914564</span></li></ul></li><li><label class='ee-shut'>10: [-68.8534085491861, -54.23398919285666]<input type='checkbox' class='ee-toggle'></label><ul><li><span class='ee-k'>0:</span><span class='ee-v'>-68.8534085491861</span></li><li><span class='ee-k'>1:</span><span class='ee-v'>-54.23398919285666</span></li></ul></li><li><label class='ee-shut'>11: [-68.85679091770375, -53.25075400620866]<input type='checkbox' class='ee-toggle'></label><ul><li><span class='ee-k'>0:</span><span class='ee-v'>-68.85679091770375</span></li><li><span class='ee-k'>1:</span><span class='ee-v'>-53.25075400620866</span></li></ul></li><li><label class='ee-shut'>12: [-68.85685220406319, -53.25071260093292]<input type='checkbox' class='ee-toggle'></label><ul><li><span class='ee-k'>0:</span><span class='ee-v'>-68.85685220406319</span></li><li><span class='ee-k'>1:</span><span class='ee-v'>-53.25071260093292</span></li></ul></li><li><label class='ee-shut'>13: [-68.85690430913712, -53.250666911001915]<input type='checkbox' class='ee-toggle'></label><ul><li><span class='ee-k'>0:</span><span class='ee-v'>-68.85690430913712</span></li><li><span class='ee-k'>1:</span><span class='ee-v'>-53.250666911001915</span></li></ul></li><li><label class='ee-shut'>14: [-68.85692904044886, -53.25066417932014]<input type='checkbox' class='ee-toggle'></label><ul><li><span class='ee-k'>0:</span><span class='ee-v'>-68.85692904044886</span></li><li><span class='ee-k'>1:</span><span class='ee-v'>-53.25066417932014</span></li></ul></li><li><label class='ee-shut'>15: [-70.49617785068216, -53.241360696755784]<input type='checkbox' class='ee-toggle'></label><ul><li><span class='ee-k'>0:</span><span class='ee-v'>-70.49617785068216</span></li><li><span class='ee-k'>1:</span><span class='ee-v'>-53.241360696755784</span></li></ul></li><li><label class='ee-shut'>16: [-70.4962483751049, -53.24139634812113]<input type='checkbox' class='ee-toggle'></label><ul><li><span class='ee-k'>0:</span><span class='ee-v'>-70.4962483751049</span></li><li><span class='ee-k'>1:</span><span class='ee-v'>-53.24139634812113</span></li></ul></li><li><label class='ee-shut'>17: [-70.49632588717374, -53.24142651945783]<input type='checkbox' class='ee-toggle'></label><ul><li><span class='ee-k'>0:</span><span class='ee-v'>-70.49632588717374</span></li><li><span class='ee-k'>1:</span><span class='ee-v'>-53.24142651945783</span></li></ul></li><li><label class='ee-shut'>18: [-70.4963297827744, -53.24143752278791]<input type='checkbox' class='ee-toggle'></label><ul><li><span class='ee-k'>0:</span><span class='ee-v'>-70.4963297827744</span></li><li><span class='ee-k'>1:</span><span class='ee-v'>-53.24143752278791</span></li></ul></li></ul></li></ul></li><li><span class='ee-k'>system:index:</span><span class='ee-v'>20201212T140049_20201212T141319_T19FDA</span></li><li><span class='ee-k'>system:time_start:</span><span class='ee-v'>1607782665204</span></li></ul></li></ul></li></ul></li></ul></li></ul></div><script>function toggleHeader() {\n",
       "    const parent = this.parentElement;\n",
       "    parent.className = parent.className === \"ee-open\" ? \"ee-shut\" : \"ee-open\";\n",
       "}\n",
       "\n",
       "for (let c of document.getElementsByClassName(\"ee-toggle\")) {\n",
       "    c.onclick = toggleHeader;\n",
       "}</script></div>"
      ],
      "text/plain": [
       "<wxee.time_series.TimeSeries at 0x1b438032730>"
      ]
     },
     "execution_count": 11,
     "metadata": {},
     "output_type": "execute_result"
    }
   ],
   "source": [
    "\n",
    "## \n",
    "def get_buenos_aires_feature():\n",
    "    # Load the FAO GAUL dataset\n",
    "    provinces = ee.FeatureCollection(\"FAO/GAUL/2015/level0\")\n",
    "\n",
    "    # Filter for Buenos Aires province\n",
    "    buenos_aires_feature = provinces.filter(ee.Filter.And(\n",
    "        ee.Filter.eq('ADM0_NAME', 'Argentina'),\n",
    "    )).first()\n",
    "\n",
    "    return buenos_aires_feature\n",
    "\n",
    "# Get the Buenos Aires feature\n",
    "buenos_aires_feature = get_buenos_aires_feature()\n",
    "Argentina_geometry = buenos_aires_feature.geometry()\n",
    "\n",
    "fishnet = geemap.fishnet(\n",
    "    Argentina_geometry,\n",
    "    rows=40,\n",
    "    cols=30\n",
    ")\n",
    "\n",
    "# Get the Dynamic World image collection\n",
    "#dw = ee.ImageCollection(\"GOOGLE/DYNAMICWORLD/V1\")\n",
    "\n",
    "# Filter the collection for your desired time range\n",
    "#dw_filtered = dw.filterDate('2020-01-01', '2020-12-31').filterBounds(fishnet.first().geometry())\n",
    "#dw_filtered\n",
    " \n",
    "dw_filtered = wxee.TimeSeries(\"GOOGLE/DYNAMICWORLD/V1\").filterDate(\"2020\", \"2021\").filterBounds(fishnet.first().geometry()).select(\"label\")\n",
    "monthly_ts = dw_filtered.aggregate_time(\"month\", ee.Reducer.mode())\n",
    "\n",
    "# Create a mosaic image\n",
    "#image = dw_filtered.select(\"label\").mode().clip(Argentina_geometry)\n",
    "monthly_ts"
   ]
  },
  {
   "cell_type": "code",
   "execution_count": 13,
   "id": "c5673832-71e0-481b-a204-de3a3f73b40a",
   "metadata": {},
   "outputs": [
    {
     "data": {
      "text/html": [
       "\n",
       "            <style>\n",
       "                .geemap-dark {\n",
       "                    --jp-widgets-color: white;\n",
       "                    --jp-widgets-label-color: white;\n",
       "                    --jp-ui-font-color1: white;\n",
       "                    --jp-layout-color2: #454545;\n",
       "                    background-color: #383838;\n",
       "                }\n",
       "\n",
       "                .geemap-dark .jupyter-button {\n",
       "                    --jp-layout-color3: #383838;\n",
       "                }\n",
       "\n",
       "                .geemap-colab {\n",
       "                    background-color: var(--colab-primary-surface-color, white);\n",
       "                }\n",
       "\n",
       "                .geemap-colab .jupyter-button {\n",
       "                    --jp-layout-color3: var(--colab-primary-surface-color, white);\n",
       "                }\n",
       "            </style>\n",
       "            "
      ],
      "text/plain": [
       "<IPython.core.display.HTML object>"
      ]
     },
     "metadata": {},
     "output_type": "display_data"
    },
    {
     "data": {
      "application/vnd.jupyter.widget-view+json": {
       "model_id": "5c0d244ffbd9478c96b50e8f5e49d7da",
       "version_major": 2,
       "version_minor": 0
      },
      "text/plain": [
       "Requesting data:   0%|          | 0/11 [00:00<?, ?it/s]"
      ]
     },
     "metadata": {},
     "output_type": "display_data"
    },
    {
     "data": {
      "application/vnd.jupyter.widget-view+json": {
       "model_id": "7140fb997f084f32b812d6142e74bc1d",
       "version_major": 2,
       "version_minor": 0
      },
      "text/plain": [
       "Downloading data:   0%|          | 0/11 [00:00<?, ?it/s]"
      ]
     },
     "metadata": {},
     "output_type": "display_data"
    }
   ],
   "source": [
    "ds = monthly_ts.wx.to_xarray(region=fishnet.first().geometry(), scale=30)"
   ]
  },
  {
   "cell_type": "code",
   "execution_count": 17,
   "id": "b9a0869c-d6b6-4878-bd0d-35944aa16aed",
   "metadata": {},
   "outputs": [
    {
     "data": {
      "text/html": [
       "\n",
       "            <style>\n",
       "                .geemap-dark {\n",
       "                    --jp-widgets-color: white;\n",
       "                    --jp-widgets-label-color: white;\n",
       "                    --jp-ui-font-color1: white;\n",
       "                    --jp-layout-color2: #454545;\n",
       "                    background-color: #383838;\n",
       "                }\n",
       "\n",
       "                .geemap-dark .jupyter-button {\n",
       "                    --jp-layout-color3: #383838;\n",
       "                }\n",
       "\n",
       "                .geemap-colab {\n",
       "                    background-color: var(--colab-primary-surface-color, white);\n",
       "                }\n",
       "\n",
       "                .geemap-colab .jupyter-button {\n",
       "                    --jp-layout-color3: var(--colab-primary-surface-color, white);\n",
       "                }\n",
       "            </style>\n",
       "            "
      ],
      "text/plain": [
       "<IPython.core.display.HTML object>"
      ]
     },
     "metadata": {},
     "output_type": "display_data"
    }
   ],
   "source": [
    "ds.to_netcdf(r\"C:\\Users\\nunez\\Facultad\\Tesina\\Tesina\\x_array.nc\")"
   ]
  },
  {
   "cell_type": "code",
   "execution_count": 20,
   "id": "ad43d0d8-fe0e-4a9b-ab68-10200a31e4cd",
   "metadata": {},
   "outputs": [
    {
     "data": {
      "text/html": [
       "\n",
       "            <style>\n",
       "                .geemap-dark {\n",
       "                    --jp-widgets-color: white;\n",
       "                    --jp-widgets-label-color: white;\n",
       "                    --jp-ui-font-color1: white;\n",
       "                    --jp-layout-color2: #454545;\n",
       "                    background-color: #383838;\n",
       "                }\n",
       "\n",
       "                .geemap-dark .jupyter-button {\n",
       "                    --jp-layout-color3: #383838;\n",
       "                }\n",
       "\n",
       "                .geemap-colab {\n",
       "                    background-color: var(--colab-primary-surface-color, white);\n",
       "                }\n",
       "\n",
       "                .geemap-colab .jupyter-button {\n",
       "                    --jp-layout-color3: var(--colab-primary-surface-color, white);\n",
       "                }\n",
       "            </style>\n",
       "            "
      ],
      "text/plain": [
       "<IPython.core.display.HTML object>"
      ]
     },
     "metadata": {},
     "output_type": "display_data"
    },
    {
     "ename": "AttributeError",
     "evalue": "'Dataset' object has no attribute 'describe'",
     "output_type": "error",
     "traceback": [
      "\u001b[1;31m---------------------------------------------------------------------------\u001b[0m",
      "\u001b[1;31mAttributeError\u001b[0m                            Traceback (most recent call last)",
      "Cell \u001b[1;32mIn[20], line 1\u001b[0m\n\u001b[1;32m----> 1\u001b[0m \u001b[43mds\u001b[49m\u001b[38;5;241;43m.\u001b[39;49m\u001b[43mdescribe\u001b[49m()\n",
      "File \u001b[1;32m~\\.conda\\envs\\Tesina\\lib\\site-packages\\xarray\\core\\common.py:272\u001b[0m, in \u001b[0;36mAttrAccessMixin.__getattr__\u001b[1;34m(self, name)\u001b[0m\n\u001b[0;32m    270\u001b[0m         \u001b[38;5;28;01mwith\u001b[39;00m suppress(\u001b[38;5;167;01mKeyError\u001b[39;00m):\n\u001b[0;32m    271\u001b[0m             \u001b[38;5;28;01mreturn\u001b[39;00m source[name]\n\u001b[1;32m--> 272\u001b[0m \u001b[38;5;28;01mraise\u001b[39;00m \u001b[38;5;167;01mAttributeError\u001b[39;00m(\n\u001b[0;32m    273\u001b[0m     \u001b[38;5;124mf\u001b[39m\u001b[38;5;124m\"\u001b[39m\u001b[38;5;132;01m{\u001b[39;00m\u001b[38;5;28mtype\u001b[39m(\u001b[38;5;28mself\u001b[39m)\u001b[38;5;241m.\u001b[39m\u001b[38;5;18m__name__\u001b[39m\u001b[38;5;132;01m!r}\u001b[39;00m\u001b[38;5;124m object has no attribute \u001b[39m\u001b[38;5;132;01m{\u001b[39;00mname\u001b[38;5;132;01m!r}\u001b[39;00m\u001b[38;5;124m\"\u001b[39m\n\u001b[0;32m    274\u001b[0m )\n",
      "\u001b[1;31mAttributeError\u001b[0m: 'Dataset' object has no attribute 'describe'"
     ]
    }
   ],
   "source": [
    "ds.describe()"
   ]
  },
  {
   "cell_type": "code",
   "execution_count": 19,
   "id": "badee9d7-b236-44ac-ab66-ebd5fabff424",
   "metadata": {},
   "outputs": [
    {
     "data": {
      "text/html": [
       "\n",
       "            <style>\n",
       "                .geemap-dark {\n",
       "                    --jp-widgets-color: white;\n",
       "                    --jp-widgets-label-color: white;\n",
       "                    --jp-ui-font-color1: white;\n",
       "                    --jp-layout-color2: #454545;\n",
       "                    background-color: #383838;\n",
       "                }\n",
       "\n",
       "                .geemap-dark .jupyter-button {\n",
       "                    --jp-layout-color3: #383838;\n",
       "                }\n",
       "\n",
       "                .geemap-colab {\n",
       "                    background-color: var(--colab-primary-surface-color, white);\n",
       "                }\n",
       "\n",
       "                .geemap-colab .jupyter-button {\n",
       "                    --jp-layout-color3: var(--colab-primary-surface-color, white);\n",
       "                }\n",
       "            </style>\n",
       "            "
      ],
      "text/plain": [
       "<IPython.core.display.HTML object>"
      ]
     },
     "metadata": {},
     "output_type": "display_data"
    },
    {
     "ename": "AttributeError",
     "evalue": "'Dataset' object has no attribute 'describe'",
     "output_type": "error",
     "traceback": [
      "\u001b[1;31m---------------------------------------------------------------------------\u001b[0m",
      "\u001b[1;31mAttributeError\u001b[0m                            Traceback (most recent call last)",
      "Cell \u001b[1;32mIn[19], line 1\u001b[0m\n\u001b[1;32m----> 1\u001b[0m \u001b[43mxr\u001b[49m\u001b[38;5;241;43m.\u001b[39;49m\u001b[43mopen_dataset\u001b[49m\u001b[43m(\u001b[49m\u001b[38;5;124;43mr\u001b[39;49m\u001b[38;5;124;43m\"\u001b[39;49m\u001b[38;5;124;43mC:\u001b[39;49m\u001b[38;5;124;43m\\\u001b[39;49m\u001b[38;5;124;43mUsers\u001b[39;49m\u001b[38;5;124;43m\\\u001b[39;49m\u001b[38;5;124;43mnunez\u001b[39;49m\u001b[38;5;124;43m\\\u001b[39;49m\u001b[38;5;124;43mFacultad\u001b[39;49m\u001b[38;5;124;43m\\\u001b[39;49m\u001b[38;5;124;43mTesina\u001b[39;49m\u001b[38;5;124;43m\\\u001b[39;49m\u001b[38;5;124;43mTesina\u001b[39;49m\u001b[38;5;124;43m\\\u001b[39;49m\u001b[38;5;124;43mx_array.nc\u001b[39;49m\u001b[38;5;124;43m\"\u001b[39;49m\u001b[43m)\u001b[49m\u001b[38;5;241;43m.\u001b[39;49m\u001b[43mdescribe\u001b[49m()\n",
      "File \u001b[1;32m~\\.conda\\envs\\Tesina\\lib\\site-packages\\xarray\\core\\common.py:272\u001b[0m, in \u001b[0;36mAttrAccessMixin.__getattr__\u001b[1;34m(self, name)\u001b[0m\n\u001b[0;32m    270\u001b[0m         \u001b[38;5;28;01mwith\u001b[39;00m suppress(\u001b[38;5;167;01mKeyError\u001b[39;00m):\n\u001b[0;32m    271\u001b[0m             \u001b[38;5;28;01mreturn\u001b[39;00m source[name]\n\u001b[1;32m--> 272\u001b[0m \u001b[38;5;28;01mraise\u001b[39;00m \u001b[38;5;167;01mAttributeError\u001b[39;00m(\n\u001b[0;32m    273\u001b[0m     \u001b[38;5;124mf\u001b[39m\u001b[38;5;124m\"\u001b[39m\u001b[38;5;132;01m{\u001b[39;00m\u001b[38;5;28mtype\u001b[39m(\u001b[38;5;28mself\u001b[39m)\u001b[38;5;241m.\u001b[39m\u001b[38;5;18m__name__\u001b[39m\u001b[38;5;132;01m!r}\u001b[39;00m\u001b[38;5;124m object has no attribute \u001b[39m\u001b[38;5;132;01m{\u001b[39;00mname\u001b[38;5;132;01m!r}\u001b[39;00m\u001b[38;5;124m\"\u001b[39m\n\u001b[0;32m    274\u001b[0m )\n",
      "\u001b[1;31mAttributeError\u001b[0m: 'Dataset' object has no attribute 'describe'"
     ]
    }
   ],
   "source": [
    "xr.open_dataset(r\"C:\\Users\\nunez\\Facultad\\Tesina\\Tesina\\x_array.nc\").describe()"
   ]
  }
 ],
 "metadata": {
  "kernelspec": {
   "display_name": "Python 3 (ipykernel)",
   "language": "python",
   "name": "python3"
  },
  "language_info": {
   "codemirror_mode": {
    "name": "ipython",
    "version": 3
   },
   "file_extension": ".py",
   "mimetype": "text/x-python",
   "name": "python",
   "nbconvert_exporter": "python",
   "pygments_lexer": "ipython3",
   "version": "3.8.19"
  }
 },
 "nbformat": 4,
 "nbformat_minor": 5
}
