{
 "cells": [
  {
   "cell_type": "code",
   "execution_count": 1,
   "id": "7f720e7265fe3ab2",
   "metadata": {
    "ExecuteTime": {
     "end_time": "2024-09-17T13:16:48.806789Z",
     "start_time": "2024-09-17T13:16:42.686583Z"
    }
   },
   "outputs": [],
   "source": [
    "import ee\n",
    "import geopandas as gpd\n",
    "import geemap\n",
    "import xarray as xr\n",
    "import wxee"
   ]
  },
  {
   "cell_type": "code",
   "execution_count": 2,
   "id": "initial_id",
   "metadata": {
    "ExecuteTime": {
     "end_time": "2024-09-17T13:16:52.853378Z",
     "start_time": "2024-09-17T13:16:48.808790Z"
    }
   },
   "outputs": [
    {
     "data": {
      "text/html": [
       "\n",
       "            <style>\n",
       "                .geemap-dark {\n",
       "                    --jp-widgets-color: white;\n",
       "                    --jp-widgets-label-color: white;\n",
       "                    --jp-ui-font-color1: white;\n",
       "                    --jp-layout-color2: #454545;\n",
       "                    background-color: #383838;\n",
       "                }\n",
       "\n",
       "                .geemap-dark .jupyter-button {\n",
       "                    --jp-layout-color3: #383838;\n",
       "                }\n",
       "\n",
       "                .geemap-colab {\n",
       "                    background-color: var(--colab-primary-surface-color, white);\n",
       "                }\n",
       "\n",
       "                .geemap-colab .jupyter-button {\n",
       "                    --jp-layout-color3: var(--colab-primary-surface-color, white);\n",
       "                }\n",
       "            </style>\n",
       "            "
      ],
      "text/plain": [
       "<IPython.core.display.HTML object>"
      ]
     },
     "metadata": {},
     "output_type": "display_data"
    }
   ],
   "source": [
    "ee.Authenticate()\n",
    "ee.Initialize(project='ee-nunezrimedio-tesina',opt_url='https://earthengine-highvolume.googleapis.com')"
   ]
  },
  {
   "cell_type": "code",
   "execution_count": 3,
   "id": "7c8ef563-72d8-4cd7-b3f1-bf334bb3b50a",
   "metadata": {
    "ExecuteTime": {
     "end_time": "2024-09-17T13:16:54.982549Z",
     "start_time": "2024-09-17T13:16:52.854383Z"
    }
   },
   "outputs": [
    {
     "data": {
      "text/html": [
       "\n",
       "            <style>\n",
       "                .geemap-dark {\n",
       "                    --jp-widgets-color: white;\n",
       "                    --jp-widgets-label-color: white;\n",
       "                    --jp-ui-font-color1: white;\n",
       "                    --jp-layout-color2: #454545;\n",
       "                    background-color: #383838;\n",
       "                }\n",
       "\n",
       "                .geemap-dark .jupyter-button {\n",
       "                    --jp-layout-color3: #383838;\n",
       "                }\n",
       "\n",
       "                .geemap-colab {\n",
       "                    background-color: var(--colab-primary-surface-color, white);\n",
       "                }\n",
       "\n",
       "                .geemap-colab .jupyter-button {\n",
       "                    --jp-layout-color3: var(--colab-primary-surface-color, white);\n",
       "                }\n",
       "            </style>\n",
       "            "
      ],
      "text/plain": [
       "<IPython.core.display.HTML object>"
      ]
     },
     "metadata": {},
     "output_type": "display_data"
    }
   ],
   "source": [
    "## Traigo geometría de Argentina y deselecciono la Patagonia\n",
    "\n",
    "def get_buenos_aires_feature():\n",
    "    # Load the FAO GAUL dataset\n",
    "    provinces = ee.FeatureCollection(\"FAO/GAUL/2015/level1\")\n",
    "\n",
    "    # Define a list of provinces to exclude\n",
    "    exclude_provinces = [\n",
    "        'Tierra Del Fuego', 'Santa Cruz', 'Neuquen', 'Chubut', 'Rio Negro'\n",
    "    ]\n",
    "\n",
    "    # Create a filter to exclude these provinces\n",
    "    exclude_filter = ee.Filter.Not(ee.Filter.inList('ADM1_NAME', exclude_provinces))\n",
    "\n",
    "    # Filter for Argentina and exclude the specified provinces\n",
    "    argentina_provinces = provinces.filter(ee.Filter.eq('ADM0_NAME', 'Argentina'))\n",
    "    filtered_provinces = argentina_provinces.filter(exclude_filter)\n",
    "\n",
    "    return filtered_provinces\n",
    "    \n",
    "buenos_aires_feature = get_buenos_aires_feature()\n",
    "Argentina_geometry = buenos_aires_feature.geometry()\n",
    "\n",
    "\n",
    "# Get the Buenos Aires feature\n",
    "buenos_aires_feature = get_buenos_aires_feature()\n",
    "Argentina_geometry = buenos_aires_feature.geometry()\n",
    "\n",
    "# Creo una grilla\n",
    "\n",
    "fishnet = geemap.fishnet(\n",
    "    Argentina_geometry,\n",
    "    rows=50,\n",
    "    cols=30\n",
    ")"
   ]
  },
  {
   "cell_type": "code",
   "execution_count": 4,
   "id": "9a990324-5d47-4b0e-82bb-b506811ef87e",
   "metadata": {
    "ExecuteTime": {
     "end_time": "2024-09-17T13:16:56.450873Z",
     "start_time": "2024-09-17T13:16:54.983552Z"
    }
   },
   "outputs": [
    {
     "data": {
      "text/html": [
       "\n",
       "            <style>\n",
       "                .geemap-dark {\n",
       "                    --jp-widgets-color: white;\n",
       "                    --jp-widgets-label-color: white;\n",
       "                    --jp-ui-font-color1: white;\n",
       "                    --jp-layout-color2: #454545;\n",
       "                    background-color: #383838;\n",
       "                }\n",
       "\n",
       "                .geemap-dark .jupyter-button {\n",
       "                    --jp-layout-color3: #383838;\n",
       "                }\n",
       "\n",
       "                .geemap-colab {\n",
       "                    background-color: var(--colab-primary-surface-color, white);\n",
       "                }\n",
       "\n",
       "                .geemap-colab .jupyter-button {\n",
       "                    --jp-layout-color3: var(--colab-primary-surface-color, white);\n",
       "                }\n",
       "            </style>\n",
       "            "
      ],
      "text/plain": [
       "<IPython.core.display.HTML object>"
      ]
     },
     "metadata": {},
     "output_type": "display_data"
    },
    {
     "data": {
      "text/plain": [
       "964"
      ]
     },
     "execution_count": 4,
     "metadata": {},
     "output_type": "execute_result"
    }
   ],
   "source": [
    "fishnet.size().getInfo()"
   ]
  },
  {
   "cell_type": "code",
   "execution_count": 5,
   "id": "4f409efdf3cb7e97",
   "metadata": {
    "ExecuteTime": {
     "end_time": "2024-09-17T13:17:01.136141Z",
     "start_time": "2024-09-17T13:16:56.451876Z"
    }
   },
   "outputs": [
    {
     "data": {
      "text/html": [
       "\n",
       "            <style>\n",
       "                .geemap-dark {\n",
       "                    --jp-widgets-color: white;\n",
       "                    --jp-widgets-label-color: white;\n",
       "                    --jp-ui-font-color1: white;\n",
       "                    --jp-layout-color2: #454545;\n",
       "                    background-color: #383838;\n",
       "                }\n",
       "\n",
       "                .geemap-dark .jupyter-button {\n",
       "                    --jp-layout-color3: #383838;\n",
       "                }\n",
       "\n",
       "                .geemap-colab {\n",
       "                    background-color: var(--colab-primary-surface-color, white);\n",
       "                }\n",
       "\n",
       "                .geemap-colab .jupyter-button {\n",
       "                    --jp-layout-color3: var(--colab-primary-surface-color, white);\n",
       "                }\n",
       "            </style>\n",
       "            "
      ],
      "text/plain": [
       "<IPython.core.display.HTML object>"
      ]
     },
     "metadata": {},
     "output_type": "display_data"
    },
    {
     "data": {
      "application/vnd.jupyter.widget-view+json": {
       "model_id": "53cc383cba51485ca921b26c34124683",
       "version_major": 2,
       "version_minor": 0
      },
      "text/plain": [
       "Map(center=[-34.61, -58.44], controls=(WidgetControl(options=['position', 'transparent_bg'], widget=SearchData…"
      ]
     },
     "execution_count": 5,
     "metadata": {},
     "output_type": "execute_result"
    }
   ],
   "source": [
    "# Create a Map\n",
    "m = geemap.Map(center=[-34.61, -58.44], zoom=10)  # Center around Buenos Aires\n",
    "\n",
    "# Add the Buenos Aires polygon to the map\n",
    "m.addLayer(ee.Feature(fishnet.toList(fishnet.size()).get(345).getInfo()).geometry(), {}, \"Argentina\")\n",
    "\n",
    "# Display the map\n",
    "m"
   ]
  },
  {
   "cell_type": "code",
   "execution_count": 5,
   "id": "c1d0a5de-d781-4375-bbe8-6cc0a1c57045",
   "metadata": {
    "ExecuteTime": {
     "end_time": "2024-09-15T14:21:48.628707Z",
     "start_time": "2024-09-15T14:19:10.132325Z"
    }
   },
   "outputs": [
    {
     "data": {
      "text/html": [
       "\n",
       "            <style>\n",
       "                .geemap-dark {\n",
       "                    --jp-widgets-color: white;\n",
       "                    --jp-widgets-label-color: white;\n",
       "                    --jp-ui-font-color1: white;\n",
       "                    --jp-layout-color2: #454545;\n",
       "                    background-color: #383838;\n",
       "                }\n",
       "\n",
       "                .geemap-dark .jupyter-button {\n",
       "                    --jp-layout-color3: #383838;\n",
       "                }\n",
       "\n",
       "                .geemap-colab {\n",
       "                    background-color: var(--colab-primary-surface-color, white);\n",
       "                }\n",
       "\n",
       "                .geemap-colab .jupyter-button {\n",
       "                    --jp-layout-color3: var(--colab-primary-surface-color, white);\n",
       "                }\n",
       "            </style>\n",
       "            "
      ],
      "text/plain": [
       "<IPython.core.display.HTML object>"
      ]
     },
     "metadata": {},
     "output_type": "display_data"
    },
    {
     "name": "stdout",
     "output_type": "stream",
     "text": [
      "963\n"
     ]
    },
    {
     "data": {
      "application/vnd.jupyter.widget-view+json": {
       "model_id": "3cb93bfc22c34ac0a081bb44d012138d",
       "version_major": 2,
       "version_minor": 0
      },
      "text/plain": [
       "Requesting data:   0%|          | 0/9 [00:00<?, ?it/s]"
      ]
     },
     "metadata": {},
     "output_type": "display_data"
    },
    {
     "data": {
      "application/vnd.jupyter.widget-view+json": {
       "model_id": "49eb8fdb37074d0bb6450e90797baf8d",
       "version_major": 2,
       "version_minor": 0
      },
      "text/plain": [
       "Downloading data:   0%|          | 0/9 [00:00<?, ?it/s]"
      ]
     },
     "metadata": {},
     "output_type": "display_data"
    }
   ],
   "source": [
    "for i in range(963,fishnet.size().getInfo()):\n",
    "    print(i)\n",
    "    aoi = ee.Feature(fishnet.toList(fishnet.size()).get(i).getInfo()).geometry()\n",
    "    dw_filtered = wxee.TimeSeries(\"GOOGLE/DYNAMICWORLD/V1\").filterDate(\"2014\", \"2026\").filterBounds(aoi).select(\"label\")\n",
    "    \n",
    "    def clip_image(image):\n",
    "        return image.clip(aoi)\n",
    "    \n",
    "    dw_filtered = dw_filtered.map(clip_image)\n",
    "    \n",
    "    monthly_ts = dw_filtered.aggregate_time(\"year\", ee.Reducer.mode())\n",
    "    \n",
    "    ds = monthly_ts.wx.to_xarray(region=ee.Feature(aoi).geometry(), scale=30)\n",
    "    ds = ds.fillna(-1)\n",
    "    ds = ds.clip(min=-128,max=127)\n",
    "    ds[\"label\"] = ds[\"label\"].astype(\"int8\")\n",
    "    ds[\"x\"] = ds[\"x\"].astype(\"float32\")\n",
    "    ds[\"y\"] = ds[\"y\"].astype(\"float32\")\n",
    "    ds[\"time\"] = ds[\"time\"].dt.strftime(\"%Y-%m\")\n",
    "    ds.to_netcdf(rf\"D:\\Factor-Data\\Tesina\\Tesina\\New folder\\array_{i}\")"
   ]
  },
  {
   "cell_type": "code",
   "execution_count": 5,
   "id": "cd52eba3-a806-481b-aea4-4f0c7b27fc13",
   "metadata": {
    "ExecuteTime": {
     "end_time": "2024-09-15T14:21:48.644213Z",
     "start_time": "2024-09-15T14:21:48.630707Z"
    }
   },
   "outputs": [],
   "source": []
  }
 ],
 "metadata": {
  "kernelspec": {
   "display_name": "Python 3 (ipykernel)",
   "language": "python",
   "name": "python3"
  },
  "language_info": {
   "codemirror_mode": {
    "name": "ipython",
    "version": 3
   },
   "file_extension": ".py",
   "mimetype": "text/x-python",
   "name": "python",
   "nbconvert_exporter": "python",
   "pygments_lexer": "ipython3",
   "version": "3.8.19"
  }
 },
 "nbformat": 4,
 "nbformat_minor": 5
}
