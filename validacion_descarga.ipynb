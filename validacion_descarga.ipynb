{
 "cells": [
  {
   "cell_type": "code",
   "execution_count": 1,
   "id": "initial_id",
   "metadata": {
    "jupyter": {
     "is_executing": true
    }
   },
   "outputs": [],
   "source": [
    "import ee\n",
    "import geopandas as gpd\n",
    "import geemap\n",
    "import xarray as xr\n",
    "import wxee"
   ]
  },
  {
   "cell_type": "code",
   "execution_count": 2,
   "id": "64a2499595df878d",
   "metadata": {
    "ExecuteTime": {
     "end_time": "2024-10-19T20:16:49.457735Z",
     "start_time": "2024-10-19T20:16:45.643554Z"
    }
   },
   "outputs": [
    {
     "data": {
      "text/html": [
       "\n",
       "            <style>\n",
       "                .geemap-dark {\n",
       "                    --jp-widgets-color: white;\n",
       "                    --jp-widgets-label-color: white;\n",
       "                    --jp-ui-font-color1: white;\n",
       "                    --jp-layout-color2: #454545;\n",
       "                    background-color: #383838;\n",
       "                }\n",
       "\n",
       "                .geemap-dark .jupyter-button {\n",
       "                    --jp-layout-color3: #383838;\n",
       "                }\n",
       "\n",
       "                .geemap-colab {\n",
       "                    background-color: var(--colab-primary-surface-color, white);\n",
       "                }\n",
       "\n",
       "                .geemap-colab .jupyter-button {\n",
       "                    --jp-layout-color3: var(--colab-primary-surface-color, white);\n",
       "                }\n",
       "            </style>\n",
       "            "
      ],
      "text/plain": [
       "<IPython.core.display.HTML object>"
      ]
     },
     "metadata": {},
     "output_type": "display_data"
    }
   ],
   "source": [
    "ee.Authenticate()\n",
    "ee.Initialize(project='ee-nunezrimedio-tesina',opt_url='https://earthengine-highvolume.googleapis.com')"
   ]
  },
  {
   "cell_type": "code",
   "execution_count": 3,
   "id": "462734f9cd2f1676",
   "metadata": {
    "ExecuteTime": {
     "end_time": "2024-10-19T20:17:04.902075Z",
     "start_time": "2024-10-19T20:16:49.458739Z"
    }
   },
   "outputs": [
    {
     "data": {
      "text/html": [
       "\n",
       "            <style>\n",
       "                .geemap-dark {\n",
       "                    --jp-widgets-color: white;\n",
       "                    --jp-widgets-label-color: white;\n",
       "                    --jp-ui-font-color1: white;\n",
       "                    --jp-layout-color2: #454545;\n",
       "                    background-color: #383838;\n",
       "                }\n",
       "\n",
       "                .geemap-dark .jupyter-button {\n",
       "                    --jp-layout-color3: #383838;\n",
       "                }\n",
       "\n",
       "                .geemap-colab {\n",
       "                    background-color: var(--colab-primary-surface-color, white);\n",
       "                }\n",
       "\n",
       "                .geemap-colab .jupyter-button {\n",
       "                    --jp-layout-color3: var(--colab-primary-surface-color, white);\n",
       "                }\n",
       "            </style>\n",
       "            "
      ],
      "text/plain": [
       "<IPython.core.display.HTML object>"
      ]
     },
     "metadata": {},
     "output_type": "display_data"
    },
    {
     "data": {
      "application/vnd.jupyter.widget-view+json": {
       "model_id": "af2b3464d1214bcc81b61b3d62a47cdd",
       "version_major": 2,
       "version_minor": 0
      },
      "text/plain": [
       "Map(center=[-27, -62], controls=(WidgetControl(options=['position', 'transparent_bg'], widget=SearchDataGUI(ch…"
      ]
     },
     "execution_count": 3,
     "metadata": {},
     "output_type": "execute_result"
    }
   ],
   "source": [
    "import ee\n",
    "import geemap\n",
    "\n",
    "# Initialize Earth Engine\n",
    "ee.Initialize()\n",
    "\n",
    "def get_province_geometry(province_name):\n",
    "    provinces = ee.FeatureCollection(\"FAO/GAUL/2015/level1\")\n",
    "    return provinces.filter(ee.Filter.And(\n",
    "        ee.Filter.eq('ADM0_NAME', 'Argentina'),\n",
    "        ee.Filter.eq('ADM1_NAME', province_name)\n",
    "    )).first().geometry()\n",
    "\n",
    "# Get geometries for Santiago del Estero and Chaco\n",
    "santiago_geometry = get_province_geometry('Santiago Del Estero')\n",
    "chaco_geometry = get_province_geometry('Chaco')\n",
    "\n",
    "# Find an area on the border\n",
    "border_area = santiago_geometry.intersection(chaco_geometry).centroid().buffer(35000).bounds()\n",
    "\n",
    "parana_delta = ee.Geometry.Polygon(\n",
    "    [[[-59.5, -33.5],\n",
    "      [-59.5, -34.0],\n",
    "      [-58.8, -34.0],\n",
    "      [-58.8, -33.5]]])\n",
    "\n",
    "# Create a map centered on Argentina\n",
    "Map = geemap.Map(center=[-27, -62], zoom=6)\n",
    "\n",
    "# Add layers to the map\n",
    "Map.addLayer(border_area, {'color': 'FF0000', 'fillColor': 'FF000088'}, 'Border Area')\n",
    "Map.addLayer(parana_delta, {'color': '0000FF', 'fillColor': '0000FF88'}, 'Paraná Delta')\n",
    "\n",
    "# Display the map\n",
    "Map"
   ]
  },
  {
   "cell_type": "markdown",
   "id": "47c14cd2-afb1-4204-badd-8400aecbf86e",
   "metadata": {},
   "source": [
    "## Descarga Basica: Moda de la banda label"
   ]
  },
  {
   "cell_type": "code",
   "execution_count": 8,
   "id": "ad409aeef10c58b0",
   "metadata": {},
   "outputs": [
    {
     "data": {
      "text/html": [
       "\n",
       "            <style>\n",
       "                .geemap-dark {\n",
       "                    --jp-widgets-color: white;\n",
       "                    --jp-widgets-label-color: white;\n",
       "                    --jp-ui-font-color1: white;\n",
       "                    --jp-layout-color2: #454545;\n",
       "                    background-color: #383838;\n",
       "                }\n",
       "\n",
       "                .geemap-dark .jupyter-button {\n",
       "                    --jp-layout-color3: #383838;\n",
       "                }\n",
       "\n",
       "                .geemap-colab {\n",
       "                    background-color: var(--colab-primary-surface-color, white);\n",
       "                }\n",
       "\n",
       "                .geemap-colab .jupyter-button {\n",
       "                    --jp-layout-color3: var(--colab-primary-surface-color, white);\n",
       "                }\n",
       "            </style>\n",
       "            "
      ],
      "text/plain": [
       "<IPython.core.display.HTML object>"
      ]
     },
     "metadata": {},
     "output_type": "display_data"
    },
    {
     "data": {
      "application/vnd.jupyter.widget-view+json": {
       "model_id": "8cf82222c07041a99b3d375337936cbe",
       "version_major": 2,
       "version_minor": 0
      },
      "text/plain": [
       "Requesting data:   0%|          | 0/1 [00:00<?, ?it/s]"
      ]
     },
     "metadata": {},
     "output_type": "display_data"
    },
    {
     "data": {
      "application/vnd.jupyter.widget-view+json": {
       "model_id": "1338696c1af84ef080d8236a675bb191",
       "version_major": 2,
       "version_minor": 0
      },
      "text/plain": [
       "Downloading data:   0%|          | 0/1 [00:00<?, ?it/s]"
      ]
     },
     "metadata": {},
     "output_type": "display_data"
    }
   ],
   "source": [
    "aoi = parana_delta\n",
    "dw_filtered = wxee.TimeSeries(\"GOOGLE/DYNAMICWORLD/V1\").filterDate(\"2015-01-01\", \"2016-01-01\").filterBounds(aoi).select(\"label\")\n",
    "\n",
    "def clip_image(image):\n",
    "    return image.clip(aoi)\n",
    "\n",
    "dw_filtered = dw_filtered.map(clip_image)\n",
    "\n",
    "monthly_ts = dw_filtered.aggregate_time(\"year\", ee.Reducer.mode())\n",
    "\n",
    "ds = monthly_ts.wx.to_xarray(region=ee.Feature(aoi).geometry(), scale=30)\n",
    "ds = ds.fillna(-1)\n",
    "ds = ds.clip(min=-128,max=127)\n",
    "ds[\"label\"] = ds[\"label\"].astype(\"int8\")\n",
    "ds[\"x\"] = ds[\"x\"].astype(\"float32\")\n",
    "ds[\"y\"] = ds[\"y\"].astype(\"float32\")\n",
    "ds[\"time\"] = ds[\"time\"].dt.strftime(\"%Y-%m\")\n",
    "ds.to_netcdf(rf\"D:\\Factor-Data\\Tesina\\Tesina\\Validation\\2015_parana_delta_mode.nc\")"
   ]
  },
  {
   "cell_type": "code",
   "execution_count": 9,
   "id": "e53ec270a7e30b19",
   "metadata": {},
   "outputs": [
    {
     "data": {
      "text/html": [
       "\n",
       "            <style>\n",
       "                .geemap-dark {\n",
       "                    --jp-widgets-color: white;\n",
       "                    --jp-widgets-label-color: white;\n",
       "                    --jp-ui-font-color1: white;\n",
       "                    --jp-layout-color2: #454545;\n",
       "                    background-color: #383838;\n",
       "                }\n",
       "\n",
       "                .geemap-dark .jupyter-button {\n",
       "                    --jp-layout-color3: #383838;\n",
       "                }\n",
       "\n",
       "                .geemap-colab {\n",
       "                    background-color: var(--colab-primary-surface-color, white);\n",
       "                }\n",
       "\n",
       "                .geemap-colab .jupyter-button {\n",
       "                    --jp-layout-color3: var(--colab-primary-surface-color, white);\n",
       "                }\n",
       "            </style>\n",
       "            "
      ],
      "text/plain": [
       "<IPython.core.display.HTML object>"
      ]
     },
     "metadata": {},
     "output_type": "display_data"
    },
    {
     "data": {
      "application/vnd.jupyter.widget-view+json": {
       "model_id": "c626585857b249699820356dab0efd68",
       "version_major": 2,
       "version_minor": 0
      },
      "text/plain": [
       "Requesting data:   0%|          | 0/1 [00:00<?, ?it/s]"
      ]
     },
     "metadata": {},
     "output_type": "display_data"
    },
    {
     "data": {
      "application/vnd.jupyter.widget-view+json": {
       "model_id": "e8bbe2bebc534b05b261673a4403cb59",
       "version_major": 2,
       "version_minor": 0
      },
      "text/plain": [
       "Downloading data:   0%|          | 0/1 [00:00<?, ?it/s]"
      ]
     },
     "metadata": {},
     "output_type": "display_data"
    }
   ],
   "source": [
    "aoi = border_area\n",
    "dw_filtered = wxee.TimeSeries(\"GOOGLE/DYNAMICWORLD/V1\").filterDate(\"2015-01-01\", \"2016-01-01\").filterBounds(aoi).select(\"label\")\n",
    "\n",
    "def clip_image(image):\n",
    "    return image.clip(aoi)\n",
    "\n",
    "dw_filtered = dw_filtered.map(clip_image)\n",
    "\n",
    "monthly_ts = dw_filtered.aggregate_time(\"year\", ee.Reducer.mode())\n",
    "\n",
    "ds = monthly_ts.wx.to_xarray(region=ee.Feature(aoi).geometry(), scale=30)\n",
    "ds = ds.fillna(-1)\n",
    "ds = ds.clip(min=-128,max=127)\n",
    "ds[\"label\"] = ds[\"label\"].astype(\"int8\")\n",
    "ds[\"x\"] = ds[\"x\"].astype(\"float32\")\n",
    "ds[\"y\"] = ds[\"y\"].astype(\"float32\")\n",
    "ds[\"time\"] = ds[\"time\"].dt.strftime(\"%Y-%m\")\n",
    "ds.to_netcdf(rf\"D:\\Factor-Data\\Tesina\\Tesina\\Validation\\2015_border_area_mode.nc\")"
   ]
  },
  {
   "cell_type": "markdown",
   "id": "370b0691-d0cc-4838-9a49-6f905dc0dae4",
   "metadata": {},
   "source": [
    "## Agregación Espacial de la banda label con moda"
   ]
  },
  {
   "cell_type": "code",
   "execution_count": 10,
   "id": "8d16ff67-6f42-4f56-abdf-e3ef10eda2c8",
   "metadata": {},
   "outputs": [
    {
     "data": {
      "text/html": [
       "\n",
       "            <style>\n",
       "                .geemap-dark {\n",
       "                    --jp-widgets-color: white;\n",
       "                    --jp-widgets-label-color: white;\n",
       "                    --jp-ui-font-color1: white;\n",
       "                    --jp-layout-color2: #454545;\n",
       "                    background-color: #383838;\n",
       "                }\n",
       "\n",
       "                .geemap-dark .jupyter-button {\n",
       "                    --jp-layout-color3: #383838;\n",
       "                }\n",
       "\n",
       "                .geemap-colab {\n",
       "                    background-color: var(--colab-primary-surface-color, white);\n",
       "                }\n",
       "\n",
       "                .geemap-colab .jupyter-button {\n",
       "                    --jp-layout-color3: var(--colab-primary-surface-color, white);\n",
       "                }\n",
       "            </style>\n",
       "            "
      ],
      "text/plain": [
       "<IPython.core.display.HTML object>"
      ]
     },
     "metadata": {},
     "output_type": "display_data"
    },
    {
     "data": {
      "application/vnd.jupyter.widget-view+json": {
       "model_id": "6223543bd1194cb68841fdb783761fd3",
       "version_major": 2,
       "version_minor": 0
      },
      "text/plain": [
       "Requesting data:   0%|          | 0/1 [00:00<?, ?it/s]"
      ]
     },
     "metadata": {},
     "output_type": "display_data"
    },
    {
     "data": {
      "application/vnd.jupyter.widget-view+json": {
       "model_id": "fd5803f35fae4a98b2472dde67a8ad5f",
       "version_major": 2,
       "version_minor": 0
      },
      "text/plain": [
       "Downloading data:   0%|          | 0/1 [00:00<?, ?it/s]"
      ]
     },
     "metadata": {},
     "output_type": "display_data"
    }
   ],
   "source": [
    "aoi = parana_delta\n",
    "\n",
    "# Load the Dynamic World dataset and filter by AOI and date range\n",
    "dw_filtered = wxee.TimeSeries(\"GOOGLE/DYNAMICWORLD/V1\") \\\n",
    "                .filterDate(\"2015-01-01\", \"2016-01-01\") \\\n",
    "                .filterBounds(aoi) \\\n",
    "                .select(\"label\")\n",
    "\n",
    "# Clip images to the area of interest\n",
    "def clip_image(image):\n",
    "    return image.clip(aoi)\n",
    "\n",
    "# Apply the clipping function to each image in the collection\n",
    "dw_filtered = dw_filtered.map(clip_image)\n",
    "\n",
    "# Aggregate temporally to get the mode for each year\n",
    "yearly_ts = dw_filtered.aggregate_time(\"year\", ee.Reducer.mode())\n",
    "\n",
    "# Function to spatially pool the data using a 30m resolution\n",
    "def spatial_pool(image):\n",
    "    # Set the default projection for the image\n",
    "    image = image.setDefaultProjection('EPSG:4326', None, 30)  # Set the projection with a scale of 30m\n",
    "\n",
    "    return image.reduceResolution(\n",
    "        reducer=ee.Reducer.mode(),\n",
    "        maxPixels=65535,  # Ensure this is less than 65536\n",
    "        bestEffort=True\n",
    "    ).reproject(crs='EPSG:4326', scale=30)\n",
    "\n",
    "# Apply spatial pooling to each image in the yearly collection\n",
    "pooled_collection = yearly_ts.map(spatial_pool)\n",
    "\n",
    "# Download the pooled image collection directly as xarray using wxee\n",
    "# Convert the pooled collection to xarray\n",
    "# Ensure to specify the region and scale\n",
    "ds = pooled_collection.wx.to_xarray(region=aoi, scale=30)\n",
    "\n",
    "# Fill NaN values and clip to appropriate ranges\n",
    "ds = ds.fillna(-1)\n",
    "ds = ds.clip(min=-128, max=127)\n",
    "ds[\"label\"] = ds[\"label\"].astype(\"int8\")\n",
    "ds[\"x\"] = ds[\"x\"].astype(\"float32\")\n",
    "ds[\"y\"] = ds[\"y\"].astype(\"float32\")\n",
    "ds[\"time\"] = ds[\"time\"].dt.strftime(\"%Y-%m\")\n",
    "\n",
    "# Save the pooled dataset back to NetCDF\n",
    "ds.to_netcdf(r\"D:\\Factor-Data\\Tesina\\Tesina\\Validation\\2015_parana_delta_mode_pooled_30m.nc\")\n"
   ]
  },
  {
   "cell_type": "code",
   "execution_count": 11,
   "id": "3bd597db-d8f7-48e2-a2c3-f2b28d7dbdef",
   "metadata": {},
   "outputs": [
    {
     "data": {
      "text/html": [
       "\n",
       "            <style>\n",
       "                .geemap-dark {\n",
       "                    --jp-widgets-color: white;\n",
       "                    --jp-widgets-label-color: white;\n",
       "                    --jp-ui-font-color1: white;\n",
       "                    --jp-layout-color2: #454545;\n",
       "                    background-color: #383838;\n",
       "                }\n",
       "\n",
       "                .geemap-dark .jupyter-button {\n",
       "                    --jp-layout-color3: #383838;\n",
       "                }\n",
       "\n",
       "                .geemap-colab {\n",
       "                    background-color: var(--colab-primary-surface-color, white);\n",
       "                }\n",
       "\n",
       "                .geemap-colab .jupyter-button {\n",
       "                    --jp-layout-color3: var(--colab-primary-surface-color, white);\n",
       "                }\n",
       "            </style>\n",
       "            "
      ],
      "text/plain": [
       "<IPython.core.display.HTML object>"
      ]
     },
     "metadata": {},
     "output_type": "display_data"
    },
    {
     "data": {
      "application/vnd.jupyter.widget-view+json": {
       "model_id": "875ca6b548c14223a0c5ea5f4351ffb2",
       "version_major": 2,
       "version_minor": 0
      },
      "text/plain": [
       "Requesting data:   0%|          | 0/1 [00:00<?, ?it/s]"
      ]
     },
     "metadata": {},
     "output_type": "display_data"
    },
    {
     "data": {
      "application/vnd.jupyter.widget-view+json": {
       "model_id": "25416608a22146a2b3284e2dc8033a00",
       "version_major": 2,
       "version_minor": 0
      },
      "text/plain": [
       "Downloading data:   0%|          | 0/1 [00:00<?, ?it/s]"
      ]
     },
     "metadata": {},
     "output_type": "display_data"
    }
   ],
   "source": [
    "aoi = border_area\n",
    "\n",
    "# Load the Dynamic World dataset and filter by AOI and date range\n",
    "dw_filtered = wxee.TimeSeries(\"GOOGLE/DYNAMICWORLD/V1\") \\\n",
    "                .filterDate(\"2015-01-01\", \"2016-01-01\") \\\n",
    "                .filterBounds(aoi) \\\n",
    "                .select(\"label\")\n",
    "\n",
    "# Clip images to the area of interest\n",
    "def clip_image(image):\n",
    "    return image.clip(aoi)\n",
    "\n",
    "# Apply the clipping function to each image in the collection\n",
    "dw_filtered = dw_filtered.map(clip_image)\n",
    "\n",
    "# Aggregate temporally to get the mode for each year\n",
    "yearly_ts = dw_filtered.aggregate_time(\"year\", ee.Reducer.mode())\n",
    "\n",
    "# Function to spatially pool the data using a 30m resolution\n",
    "def spatial_pool(image):\n",
    "    # Set the default projection for the image\n",
    "    image = image.setDefaultProjection('EPSG:4326', None, 30)  # Set the projection with a scale of 30m\n",
    "\n",
    "    return image.reduceResolution(\n",
    "        reducer=ee.Reducer.mode(),\n",
    "        maxPixels=65535,  # Ensure this is less than 65536\n",
    "        bestEffort=True\n",
    "    ).reproject(crs='EPSG:4326', scale=30)\n",
    "\n",
    "# Apply spatial pooling to each image in the yearly collection\n",
    "pooled_collection = yearly_ts.map(spatial_pool)\n",
    "\n",
    "# Download the pooled image collection directly as xarray using wxee\n",
    "# Convert the pooled collection to xarray\n",
    "# Ensure to specify the region and scale\n",
    "ds = pooled_collection.wx.to_xarray(region=aoi, scale=30)\n",
    "\n",
    "# Fill NaN values and clip to appropriate ranges\n",
    "ds = ds.fillna(-1)\n",
    "ds = ds.clip(min=-128, max=127)\n",
    "ds[\"label\"] = ds[\"label\"].astype(\"int8\")\n",
    "ds[\"x\"] = ds[\"x\"].astype(\"float32\")\n",
    "ds[\"y\"] = ds[\"y\"].astype(\"float32\")\n",
    "ds[\"time\"] = ds[\"time\"].dt.strftime(\"%Y-%m\")\n",
    "\n",
    "# Save the pooled dataset back to NetCDF\n",
    "ds.to_netcdf(r\"D:\\Factor-Data\\Tesina\\Tesina\\Validation\\2015_border_area_mode_pooled_30m.nc\")"
   ]
  },
  {
   "cell_type": "markdown",
   "id": "52dca03b30428da0",
   "metadata": {},
   "source": [
    "## Agregación Espacial de todas las bandas con media\n"
   ]
  },
  {
   "cell_type": "code",
   "execution_count": 12,
   "id": "f4ba32254461d491",
   "metadata": {
    "ExecuteTime": {
     "end_time": "2024-10-19T20:17:06.464320Z",
     "start_time": "2024-10-19T20:17:04.904075Z"
    }
   },
   "outputs": [
    {
     "data": {
      "text/html": [
       "\n",
       "            <style>\n",
       "                .geemap-dark {\n",
       "                    --jp-widgets-color: white;\n",
       "                    --jp-widgets-label-color: white;\n",
       "                    --jp-ui-font-color1: white;\n",
       "                    --jp-layout-color2: #454545;\n",
       "                    background-color: #383838;\n",
       "                }\n",
       "\n",
       "                .geemap-dark .jupyter-button {\n",
       "                    --jp-layout-color3: #383838;\n",
       "                }\n",
       "\n",
       "                .geemap-colab {\n",
       "                    background-color: var(--colab-primary-surface-color, white);\n",
       "                }\n",
       "\n",
       "                .geemap-colab .jupyter-button {\n",
       "                    --jp-layout-color3: var(--colab-primary-surface-color, white);\n",
       "                }\n",
       "            </style>\n",
       "            "
      ],
      "text/plain": [
       "<IPython.core.display.HTML object>"
      ]
     },
     "metadata": {},
     "output_type": "display_data"
    },
    {
     "data": {
      "application/vnd.jupyter.widget-view+json": {
       "model_id": "88ae044a08a846eea5653ba811a4057f",
       "version_major": 2,
       "version_minor": 0
      },
      "text/plain": [
       "Requesting data:   0%|          | 0/1 [00:00<?, ?it/s]"
      ]
     },
     "metadata": {},
     "output_type": "display_data"
    },
    {
     "data": {
      "application/vnd.jupyter.widget-view+json": {
       "model_id": "cbdaa78a109f4d24be4bacd7e41ffa89",
       "version_major": 2,
       "version_minor": 0
      },
      "text/plain": [
       "Downloading data:   0%|          | 0/1 [00:00<?, ?it/s]"
      ]
     },
     "metadata": {},
     "output_type": "display_data"
    }
   ],
   "source": [
    "aoi = parana_delta\n",
    "\n",
    "CLASS_NAMES = ['water', 'trees', 'grass', 'flooded_vegetation', 'crops', 'shrub_and_scrub', 'built', 'bare', 'snow_and_ice']\n",
    "CLASS_NUMBER = ee.List.sequence(0, 8)\n",
    "\n",
    "# Load the Dynamic World dataset and filter by AOI and date range\n",
    "dw_filtered = wxee.TimeSeries(\"GOOGLE/DYNAMICWORLD/V1\") \\\n",
    "    .filterDate(\"2015-01-01\", \"2016-01-01\") \\\n",
    "    .filterBounds(aoi)\n",
    "\n",
    "# Clip images to the area of interest\n",
    "def clip_image(image):\n",
    "    return image.clip(aoi)\n",
    "\n",
    "# Apply the clipping function to each image in the collection\n",
    "dw_filtered = dw_filtered.map(clip_image)\n",
    "\n",
    "# Aggregate temporally to get the mode for each year\n",
    "yearly_ts = dw_filtered.aggregate_time(\"year\", ee.Reducer.mean())\n",
    "\n",
    "# Function to spatially pool the data using a 30m resolution\n",
    "def spatial_pool(image):\n",
    "    # Set the default projection for the image\n",
    "    image = image.setDefaultProjection('EPSG:4326', None, 30)  # Set the projection with a scale of 30m\n",
    "\n",
    "    return image.reduceResolution(\n",
    "        reducer=ee.Reducer.mean(),\n",
    "        maxPixels=65535,  # Ensure this is less than 65536\n",
    "        bestEffort=True\n",
    "    ).reproject(crs='EPSG:4326', scale=30)\n",
    "\n",
    "# Apply spatial pooling to each image in the yearly collection\n",
    "pooled_collection = yearly_ts.map(spatial_pool)\n",
    "\n",
    "\n",
    "yearly_dominant_class = pooled_collection.map(\n",
    "    lambda image:\n",
    "    image.select(CLASS_NAMES)\n",
    "    .reduce(ee.Reducer.max())\n",
    "    .eq(image.select(CLASS_NAMES))\n",
    "    .multiply(ee.Image.constant(CLASS_NUMBER))\n",
    "    .reduce(ee.Reducer.sum())\n",
    "    .rename('label')\n",
    "    .uint8()\n",
    "    .copyProperties(image, ['system:time_start'])\n",
    ")\n",
    "\n",
    "\n",
    "# Download the pooled image collection directly as xarray using wxee\n",
    "# Convert the pooled collection to xarray\n",
    "# Ensure to specify the region and scale\n",
    "ds = yearly_dominant_class.wx.to_xarray(region=aoi, scale=30)\n",
    "\n",
    "# Fill NaN values and clip to appropriate ranges\n",
    "ds = ds.fillna(-1)\n",
    "ds = ds.clip(min=-128, max=127)\n",
    "ds[\"label\"] = ds[\"label\"].astype(\"int8\")\n",
    "ds[\"x\"] = ds[\"x\"].astype(\"float32\")\n",
    "ds[\"y\"] = ds[\"y\"].astype(\"float32\")\n",
    "ds[\"time\"] = ds[\"time\"].dt.strftime(\"%Y-%m\")\n",
    "\n",
    "# Save the pooled dataset back to NetCDF\n",
    "ds.to_netcdf(r\"D:\\Factor-Data\\Tesina\\Tesina\\Validation\\2015_parana_delta_mean_pooled_30m.nc\")"
   ]
  },
  {
   "cell_type": "code",
   "execution_count": 13,
   "id": "0ec26e9d-94b9-44f7-bf89-f08a395fc0b2",
   "metadata": {},
   "outputs": [
    {
     "data": {
      "text/html": [
       "\n",
       "            <style>\n",
       "                .geemap-dark {\n",
       "                    --jp-widgets-color: white;\n",
       "                    --jp-widgets-label-color: white;\n",
       "                    --jp-ui-font-color1: white;\n",
       "                    --jp-layout-color2: #454545;\n",
       "                    background-color: #383838;\n",
       "                }\n",
       "\n",
       "                .geemap-dark .jupyter-button {\n",
       "                    --jp-layout-color3: #383838;\n",
       "                }\n",
       "\n",
       "                .geemap-colab {\n",
       "                    background-color: var(--colab-primary-surface-color, white);\n",
       "                }\n",
       "\n",
       "                .geemap-colab .jupyter-button {\n",
       "                    --jp-layout-color3: var(--colab-primary-surface-color, white);\n",
       "                }\n",
       "            </style>\n",
       "            "
      ],
      "text/plain": [
       "<IPython.core.display.HTML object>"
      ]
     },
     "metadata": {},
     "output_type": "display_data"
    },
    {
     "data": {
      "application/vnd.jupyter.widget-view+json": {
       "model_id": "9cf737844e124d169b25945e927228d4",
       "version_major": 2,
       "version_minor": 0
      },
      "text/plain": [
       "Requesting data:   0%|          | 0/1 [00:00<?, ?it/s]"
      ]
     },
     "metadata": {},
     "output_type": "display_data"
    },
    {
     "data": {
      "application/vnd.jupyter.widget-view+json": {
       "model_id": "9533a50f9800444890303385edcc9217",
       "version_major": 2,
       "version_minor": 0
      },
      "text/plain": [
       "Downloading data:   0%|          | 0/1 [00:00<?, ?it/s]"
      ]
     },
     "metadata": {},
     "output_type": "display_data"
    }
   ],
   "source": [
    "aoi = border_area\n",
    "\n",
    "CLASS_NAMES = ['water', 'trees', 'grass', 'flooded_vegetation', 'crops', 'shrub_and_scrub', 'built', 'bare', 'snow_and_ice']\n",
    "CLASS_NUMBER = ee.List.sequence(0, 8)\n",
    "\n",
    "# Load the Dynamic World dataset and filter by AOI and date range\n",
    "dw_filtered = wxee.TimeSeries(\"GOOGLE/DYNAMICWORLD/V1\") \\\n",
    "    .filterDate(\"2015-01-01\", \"2016-01-01\") \\\n",
    "    .filterBounds(aoi)\n",
    "\n",
    "# Clip images to the area of interest\n",
    "def clip_image(image):\n",
    "    return image.clip(aoi)\n",
    "\n",
    "# Apply the clipping function to each image in the collection\n",
    "dw_filtered = dw_filtered.map(clip_image)\n",
    "\n",
    "# Aggregate temporally to get the mode for each year\n",
    "yearly_ts = dw_filtered.aggregate_time(\"year\", ee.Reducer.mean())\n",
    "\n",
    "# Function to spatially pool the data using a 30m resolution\n",
    "def spatial_pool(image):\n",
    "    # Set the default projection for the image\n",
    "    image = image.setDefaultProjection('EPSG:4326', None, 30)  # Set the projection with a scale of 30m\n",
    "\n",
    "    return image.reduceResolution(\n",
    "        reducer=ee.Reducer.mean(),\n",
    "        maxPixels=65535,  # Ensure this is less than 65536\n",
    "        bestEffort=True\n",
    "    ).reproject(crs='EPSG:4326', scale=30)\n",
    "\n",
    "# Apply spatial pooling to each image in the yearly collection\n",
    "pooled_collection = yearly_ts.map(spatial_pool)\n",
    "\n",
    "\n",
    "yearly_dominant_class = pooled_collection.map(\n",
    "    lambda image:\n",
    "    image.select(CLASS_NAMES)\n",
    "    .reduce(ee.Reducer.max())\n",
    "    .eq(image.select(CLASS_NAMES))\n",
    "    .multiply(ee.Image.constant(CLASS_NUMBER))\n",
    "    .reduce(ee.Reducer.sum())\n",
    "    .rename('label')\n",
    "    .uint8()\n",
    "    .copyProperties(image, ['system:time_start'])\n",
    ")\n",
    "\n",
    "\n",
    "# Download the pooled image collection directly as xarray using wxee\n",
    "# Convert the pooled collection to xarray\n",
    "# Ensure to specify the region and scale\n",
    "ds = yearly_dominant_class.wx.to_xarray(region=aoi, scale=30)\n",
    "\n",
    "# Fill NaN values and clip to appropriate ranges\n",
    "ds = ds.fillna(-1)\n",
    "ds = ds.clip(min=-128, max=127)\n",
    "ds[\"label\"] = ds[\"label\"].astype(\"int8\")\n",
    "ds[\"x\"] = ds[\"x\"].astype(\"float32\")\n",
    "ds[\"y\"] = ds[\"y\"].astype(\"float32\")\n",
    "ds[\"time\"] = ds[\"time\"].dt.strftime(\"%Y-%m\")\n",
    "\n",
    "# Save the pooled dataset back to NetCDF\n",
    "ds.to_netcdf(r\"D:\\Factor-Data\\Tesina\\Tesina\\Validation\\2015_border_area_mean_pooled_30m.nc\")"
   ]
  },
  {
   "metadata": {},
   "cell_type": "markdown",
   "source": "",
   "id": "5b07e35637102942"
  },
  {
   "metadata": {},
   "cell_type": "code",
   "outputs": [],
   "execution_count": null,
   "source": "",
   "id": "e49b7d14a9955f75"
  },
  {
   "cell_type": "markdown",
   "id": "4b98ab0d-0fc0-492e-bd41-d4dc24911faa",
   "metadata": {},
   "source": [
    "## Agregación Temporal"
   ]
  },
  {
   "cell_type": "markdown",
   "id": "aea9c107-abb1-4435-97e7-5fda9eeb5a38",
   "metadata": {},
   "source": [
    "## Descarga V2: Media de todas las bandas y computo \"label\" de nuevo"
   ]
  },
  {
   "cell_type": "code",
   "execution_count": 13,
   "id": "1cc626ed-c752-4991-bcb4-8571b42478d6",
   "metadata": {
    "ExecuteTime": {
     "end_time": "2024-10-19T13:57:03.254798Z",
     "start_time": "2024-10-19T13:56:04.596313Z"
    }
   },
   "outputs": [
    {
     "data": {
      "text/html": [
       "\n",
       "            <style>\n",
       "                .geemap-dark {\n",
       "                    --jp-widgets-color: white;\n",
       "                    --jp-widgets-label-color: white;\n",
       "                    --jp-ui-font-color1: white;\n",
       "                    --jp-layout-color2: #454545;\n",
       "                    background-color: #383838;\n",
       "                }\n",
       "\n",
       "                .geemap-dark .jupyter-button {\n",
       "                    --jp-layout-color3: #383838;\n",
       "                }\n",
       "\n",
       "                .geemap-colab {\n",
       "                    background-color: var(--colab-primary-surface-color, white);\n",
       "                }\n",
       "\n",
       "                .geemap-colab .jupyter-button {\n",
       "                    --jp-layout-color3: var(--colab-primary-surface-color, white);\n",
       "                }\n",
       "            </style>\n",
       "            "
      ],
      "text/plain": [
       "<IPython.core.display.HTML object>"
      ]
     },
     "metadata": {},
     "output_type": "display_data"
    },
    {
     "data": {
      "text/plain": [
       "{'type': 'ImageCollection',\n",
       " 'bands': [],\n",
       " 'id': 'GOOGLE/DYNAMICWORLD/V1',\n",
       " 'features': [{'type': 'Image',\n",
       "   'bands': [{'id': 'dominant_class',\n",
       "     'data_type': {'type': 'PixelType',\n",
       "      'precision': 'int',\n",
       "      'min': 0,\n",
       "      'max': 255},\n",
       "     'crs': 'EPSG:4326',\n",
       "     'crs_transform': [1, 0, 0, 0, 1, 0]}],\n",
       "   'properties': {'system:time_start': 1439993888000,\n",
       "    'system:index': '20150819T141046_20150819T141808_T20JNR'}},\n",
       "  {'type': 'Image',\n",
       "   'bands': [{'id': 'dominant_class',\n",
       "     'data_type': {'type': 'PixelType',\n",
       "      'precision': 'int',\n",
       "      'min': 0,\n",
       "      'max': 255},\n",
       "     'crs': 'EPSG:4326',\n",
       "     'crs_transform': [1, 0, 0, 0, 1, 0]}],\n",
       "   'properties': {'system:time_start': 1474553441460,\n",
       "    'system:index': '20160922T141042_20160922T141041_T20JNR'}},\n",
       "  {'type': 'Image',\n",
       "   'bands': [{'id': 'dominant_class',\n",
       "     'data_type': {'type': 'PixelType',\n",
       "      'precision': 'int',\n",
       "      'min': 0,\n",
       "      'max': 255},\n",
       "     'crs': 'EPSG:4326',\n",
       "     'crs_transform': [1, 0, 0, 0, 1, 0]}],\n",
       "   'properties': {'system:time_start': 1505657911470,\n",
       "    'system:index': '20170917T141041_20170917T141831_T20JNR'}},\n",
       "  {'type': 'Image',\n",
       "   'bands': [{'id': 'dominant_class',\n",
       "     'data_type': {'type': 'PixelType',\n",
       "      'precision': 'int',\n",
       "      'min': 0,\n",
       "      'max': 255},\n",
       "     'crs': 'EPSG:4326',\n",
       "     'crs_transform': [1, 0, 0, 0, 1, 0]}],\n",
       "   'properties': {'system:time_start': 1535033445460,\n",
       "    'system:index': '20180823T141051_20180823T141045_T20JNR'}},\n",
       "  {'type': 'Image',\n",
       "   'bands': [{'id': 'dominant_class',\n",
       "     'data_type': {'type': 'PixelType',\n",
       "      'precision': 'int',\n",
       "      'min': 0,\n",
       "      'max': 255},\n",
       "     'crs': 'EPSG:4326',\n",
       "     'crs_transform': [1, 0, 0, 0, 1, 0]}],\n",
       "   'properties': {'system:time_start': 1566570013551,\n",
       "    'system:index': '20190823T141049_20190823T141051_T20JNR'}},\n",
       "  {'type': 'Image',\n",
       "   'bands': [{'id': 'dominant_class',\n",
       "     'data_type': {'type': 'PixelType',\n",
       "      'precision': 'int',\n",
       "      'min': 0,\n",
       "      'max': 255},\n",
       "     'crs': 'EPSG:4326',\n",
       "     'crs_transform': [1, 0, 0, 0, 1, 0]}],\n",
       "   'properties': {'system:time_start': 1598106014111,\n",
       "    'system:index': '20200822T141051_20200822T141418_T20JNR'}},\n",
       "  {'type': 'Image',\n",
       "   'bands': [{'id': 'dominant_class',\n",
       "     'data_type': {'type': 'PixelType',\n",
       "      'precision': 'int',\n",
       "      'min': 0,\n",
       "      'max': 255},\n",
       "     'crs': 'EPSG:4326',\n",
       "     'crs_transform': [1, 0, 0, 0, 1, 0]}],\n",
       "   'properties': {'system:time_start': 1629642007439,\n",
       "    'system:index': '20210822T141049_20210822T141045_T20JNR'}},\n",
       "  {'type': 'Image',\n",
       "   'bands': [{'id': 'dominant_class',\n",
       "     'data_type': {'type': 'PixelType',\n",
       "      'precision': 'int',\n",
       "      'min': 0,\n",
       "      'max': 255},\n",
       "     'crs': 'EPSG:4326',\n",
       "     'crs_transform': [1, 0, 0, 0, 1, 0]}],\n",
       "   'properties': {'system:time_start': 1661178021210,\n",
       "    'system:index': '20220822T140721_20220822T140803_T20JNR'}},\n",
       "  {'type': 'Image',\n",
       "   'bands': [{'id': 'dominant_class',\n",
       "     'data_type': {'type': 'PixelType',\n",
       "      'precision': 'int',\n",
       "      'min': 0,\n",
       "      'max': 255},\n",
       "     'crs': 'EPSG:4326',\n",
       "     'crs_transform': [1, 0, 0, 0, 1, 0]}],\n",
       "   'properties': {'system:time_start': 1693146014342,\n",
       "    'system:index': '20230827T140711_20230827T141450_T20JNR'}},\n",
       "  {'type': 'Image',\n",
       "   'bands': [{'id': 'dominant_class',\n",
       "     'data_type': {'type': 'PixelType',\n",
       "      'precision': 'int',\n",
       "      'min': 0,\n",
       "      'max': 255},\n",
       "     'crs': 'EPSG:4326',\n",
       "     'crs_transform': [1, 0, 0, 0, 1, 0]}],\n",
       "   'properties': {'system:time_start': 1724682009764,\n",
       "    'system:index': '20240826T140709_20240826T141923_T20JNR'}}]}"
      ]
     },
     "execution_count": 13,
     "metadata": {},
     "output_type": "execute_result"
    }
   ],
   "source": [
    "import os\n",
    "import ee\n",
    "import wxee\n",
    "\n",
    "# Initialize the AOI\n",
    "aoi = border_area\n",
    "\n",
    "# Class names and corresponding numbers\n",
    "CLASS_NAMES = ['water', 'trees', 'grass', 'flooded_vegetation', 'crops', 'shrub_and_scrub', 'built', 'bare', 'snow_and_ice']\n",
    "CLASS_NUMBER = ee.List.sequence(0, 8)\n",
    "\n",
    "# Load the Dynamic World dataset and filter by date and AOI\n",
    "dw_filtered = wxee.TimeSeries(\"GOOGLE/DYNAMICWORLD/V1\").filterDate(\"2014\", \"2026\").filterBounds(aoi)\n",
    "\n",
    "# Clip images to the AOI and retain the system:time_start property\n",
    "dw_filtered = dw_filtered.map(lambda image: image.clip(aoi).copyProperties(image, ['system:time_start']))\n",
    "\n",
    "# Aggregate the images by year and compute the mean for each year\n",
    "yearly_ts = dw_filtered.aggregate_time(frequency=\"year\", reducer=ee.Reducer.mean())\n",
    "\n",
    "# Ensure time property exists for each image\n",
    "yearly_ts = yearly_ts.map(lambda image: \n",
    "                          image.set('system:time_start', image.get('system:time_start') \n",
    "                                    or ee.Date.fromYMD(ee.Number(image.get('year')), 1, 1).millis() \n",
    "                                    or ee.Date('2000-01-01').millis()))\n",
    "\n",
    "# Compute the dominant class for each image\n",
    "yearly_dominant_class = yearly_ts.map(\n",
    "    lambda image: \n",
    "    image.select(CLASS_NAMES)\n",
    "         .reduce(ee.Reducer.max())\n",
    "         .eq(image.select(CLASS_NAMES))\n",
    "         .multiply(ee.Image.constant(CLASS_NUMBER))\n",
    "         .reduce(ee.Reducer.sum())\n",
    "         .rename('dominant_class')\n",
    "         .uint8()\n",
    "         .copyProperties(image, ['system:time_start'])\n",
    ")\n",
    "yearly_dominant_class.getInfo()\n"
   ]
  },
  {
   "cell_type": "code",
   "execution_count": 12,
   "id": "21a7179a-506e-41ca-b870-cbd14b35def4",
   "metadata": {},
   "outputs": [
    {
     "data": {
      "text/html": [
       "\n",
       "            <style>\n",
       "                .geemap-dark {\n",
       "                    --jp-widgets-color: white;\n",
       "                    --jp-widgets-label-color: white;\n",
       "                    --jp-ui-font-color1: white;\n",
       "                    --jp-layout-color2: #454545;\n",
       "                    background-color: #383838;\n",
       "                }\n",
       "\n",
       "                .geemap-dark .jupyter-button {\n",
       "                    --jp-layout-color3: #383838;\n",
       "                }\n",
       "\n",
       "                .geemap-colab {\n",
       "                    background-color: var(--colab-primary-surface-color, white);\n",
       "                }\n",
       "\n",
       "                .geemap-colab .jupyter-button {\n",
       "                    --jp-layout-color3: var(--colab-primary-surface-color, white);\n",
       "                }\n",
       "            </style>\n",
       "            "
      ],
      "text/plain": [
       "<IPython.core.display.HTML object>"
      ]
     },
     "metadata": {},
     "output_type": "display_data"
    },
    {
     "data": {
      "text/plain": [
       "{'type': 'ImageCollection',\n",
       " 'bands': [],\n",
       " 'id': 'GOOGLE/DYNAMICWORLD/V1',\n",
       " 'features': [{'type': 'Image',\n",
       "   'bands': [{'id': 'label',\n",
       "     'data_type': {'type': 'PixelType',\n",
       "      'precision': 'int',\n",
       "      'min': 0,\n",
       "      'max': 255},\n",
       "     'crs': 'EPSG:4326',\n",
       "     'crs_transform': [1, 0, 0, 0, 1, 0]}],\n",
       "   'version': 1729347261159394,\n",
       "   'id': 'GOOGLE/DYNAMICWORLD/V1/20150803T140146_20150803T140149_T21HTC',\n",
       "   'properties': {'system:asset_size': 2416855344,\n",
       "    'system:index': '20150803T140146_20150803T140149_T21HTC',\n",
       "    'system:time_start': 1438610509000,\n",
       "    'dynamicworld_algorithm_version': '3.5',\n",
       "    'system:footprint': {'type': 'Polygon',\n",
       "     'coordinates': [[[-59.06189439208878, -34.00046418653865],\n",
       "       [-59.0598673270729, -33.91687670926022],\n",
       "       [-59.04995550747806, -33.500451820566816],\n",
       "       [-59.5, -33.49999999999999],\n",
       "       [-59.5, -34],\n",
       "       [-59.06189439208878, -34.00046418653865]]]},\n",
       "    'qa_algorithm_version': '1'}},\n",
       "  {'type': 'Image',\n",
       "   'bands': [{'id': 'label',\n",
       "     'data_type': {'type': 'PixelType',\n",
       "      'precision': 'int',\n",
       "      'min': 0,\n",
       "      'max': 255},\n",
       "     'crs': 'EPSG:4326',\n",
       "     'crs_transform': [1, 0, 0, 0, 1, 0]}],\n",
       "   'version': 1729347261159394,\n",
       "   'id': 'GOOGLE/DYNAMICWORLD/V1/20160807T135122_20160807T135257_T21HTC',\n",
       "   'properties': {'system:asset_size': 2588917068,\n",
       "    'system:index': '20160807T135122_20160807T135257_T21HTC',\n",
       "    'system:time_start': 1470577977474,\n",
       "    'dynamicworld_algorithm_version': '3.5',\n",
       "    'system:footprint': {'type': 'Polygon',\n",
       "     'coordinates': [[[-59.06189439208878, -34.00046418653865],\n",
       "       [-59.0598673270729, -33.91687670926022],\n",
       "       [-59.04995550747806, -33.500451820566816],\n",
       "       [-59.5, -33.49999999999999],\n",
       "       [-59.5, -34],\n",
       "       [-59.06189439208878, -34.00046418653865]]]},\n",
       "    'qa_algorithm_version': '1'}},\n",
       "  {'type': 'Image',\n",
       "   'bands': [{'id': 'label',\n",
       "     'data_type': {'type': 'PixelType',\n",
       "      'precision': 'int',\n",
       "      'min': 0,\n",
       "      'max': 255},\n",
       "     'crs': 'EPSG:4326',\n",
       "     'crs_transform': [1, 0, 0, 0, 1, 0]}],\n",
       "   'version': 1729347261159394,\n",
       "   'id': 'GOOGLE/DYNAMICWORLD/V1/20170815T140051_20170815T141001_T21HTC',\n",
       "   'properties': {'system:asset_size': 1364250254,\n",
       "    'system:index': '20170815T140051_20170815T141001_T21HTC',\n",
       "    'system:time_start': 1502806201840,\n",
       "    'dynamicworld_algorithm_version': '3.5',\n",
       "    'system:footprint': {'type': 'Polygon',\n",
       "     'coordinates': [[[-59.5, -33.78919885658615],\n",
       "       [-59.491646464224814, -33.50002320616129],\n",
       "       [-59.5, -33.49999999999999],\n",
       "       [-59.5, -33.78919885658615]]]},\n",
       "    'qa_algorithm_version': '1'}},\n",
       "  {'type': 'Image',\n",
       "   'bands': [{'id': 'label',\n",
       "     'data_type': {'type': 'PixelType',\n",
       "      'precision': 'int',\n",
       "      'min': 0,\n",
       "      'max': 255},\n",
       "     'crs': 'EPSG:4326',\n",
       "     'crs_transform': [1, 0, 0, 0, 1, 0]}],\n",
       "   'version': 1729347261159394,\n",
       "   'id': 'GOOGLE/DYNAMICWORLD/V1/20180805T140049_20180805T140942_T21HTC',\n",
       "   'properties': {'system:asset_size': 1388177798,\n",
       "    'system:index': '20180805T140049_20180805T140942_T21HTC',\n",
       "    'system:time_start': 1533478182410,\n",
       "    'dynamicworld_algorithm_version': '3.5',\n",
       "    'system:footprint': {'type': 'Polygon',\n",
       "     'coordinates': [[[-59.494685528953546, -34.00001493608927],\n",
       "       [-59.49201200965172, -33.90888734847293],\n",
       "       [-59.480239532401136, -33.500053989315724],\n",
       "       [-59.5, -33.49999999999999],\n",
       "       [-59.5, -34],\n",
       "       [-59.494685528953546, -34.00001493608927]]]},\n",
       "    'qa_algorithm_version': '1'}},\n",
       "  {'type': 'Image',\n",
       "   'bands': [{'id': 'label',\n",
       "     'data_type': {'type': 'PixelType',\n",
       "      'precision': 'int',\n",
       "      'min': 0,\n",
       "      'max': 255},\n",
       "     'crs': 'EPSG:4326',\n",
       "     'crs_transform': [1, 0, 0, 0, 1, 0]}],\n",
       "   'version': 1729347261159394,\n",
       "   'id': 'GOOGLE/DYNAMICWORLD/V1/20190805T140101_20190805T140831_T21HTC',\n",
       "   'properties': {'system:asset_size': 1365882295,\n",
       "    'system:index': '20190805T140101_20190805T140831_T21HTC',\n",
       "    'system:time_start': 1565014323556,\n",
       "    'dynamicworld_algorithm_version': '3.5',\n",
       "    'system:footprint': {'type': 'Polygon',\n",
       "     'coordinates': [[[-59.5, -33.833905046420824],\n",
       "       [-59.49035508427024, -33.50002674359368],\n",
       "       [-59.5, -33.49999999999999],\n",
       "       [-59.5, -33.833905046420824]]]},\n",
       "    'qa_algorithm_version': '1'}},\n",
       "  {'type': 'Image',\n",
       "   'bands': [{'id': 'label',\n",
       "     'data_type': {'type': 'PixelType',\n",
       "      'precision': 'int',\n",
       "      'min': 0,\n",
       "      'max': 255},\n",
       "     'crs': 'EPSG:4326',\n",
       "     'crs_transform': [1, 0, 0, 0, 1, 0]}],\n",
       "   'version': 1729347261159394,\n",
       "   'id': 'GOOGLE/DYNAMICWORLD/V1/20200811T135119_20200811T140023_T21HTC',\n",
       "   'properties': {'system:asset_size': 2462327338,\n",
       "    'system:index': '20200811T135119_20200811T140023_T21HTC',\n",
       "    'system:time_start': 1597154526739,\n",
       "    'dynamicworld_algorithm_version': '3.5',\n",
       "    'system:footprint': {'type': 'Polygon',\n",
       "     'coordinates': [[[-59.06189439208878, -34.00046418653865],\n",
       "       [-59.0598673270729, -33.91687670926022],\n",
       "       [-59.04995550747806, -33.500451820566816],\n",
       "       [-59.5, -33.49999999999999],\n",
       "       [-59.5, -34],\n",
       "       [-59.06189439208878, -34.00046418653865]]]},\n",
       "    'qa_algorithm_version': '1'}},\n",
       "  {'type': 'Image',\n",
       "   'bands': [{'id': 'label',\n",
       "     'data_type': {'type': 'PixelType',\n",
       "      'precision': 'int',\n",
       "      'min': 0,\n",
       "      'max': 255},\n",
       "     'crs': 'EPSG:4326',\n",
       "     'crs_transform': [1, 0, 0, 0, 1, 0]}],\n",
       "   'version': 1729347261159394,\n",
       "   'id': 'GOOGLE/DYNAMICWORLD/V1/20210804T140101_20210804T140055_T21HTC',\n",
       "   'properties': {'system:asset_size': 1371028748,\n",
       "    'system:index': '20210804T140101_20210804T140055_T21HTC',\n",
       "    'system:time_start': 1628086322273,\n",
       "    'dynamicworld_algorithm_version': '3.5',\n",
       "    'system:footprint': {'type': 'Polygon',\n",
       "     'coordinates': [[[-59.5, -33.92312861447998],\n",
       "       [-59.49957678845572, -33.908733918782914],\n",
       "       [-59.48777243821295, -33.500033777960084],\n",
       "       [-59.5, -33.49999999999999],\n",
       "       [-59.5, -33.92312861447998]]]},\n",
       "    'qa_algorithm_version': '1'}},\n",
       "  {'type': 'Image',\n",
       "   'bands': [{'id': 'label',\n",
       "     'data_type': {'type': 'PixelType',\n",
       "      'precision': 'int',\n",
       "      'min': 0,\n",
       "      'max': 255},\n",
       "     'crs': 'EPSG:4326',\n",
       "     'crs_transform': [1, 0, 0, 0, 1, 0]}],\n",
       "   'version': 1729347261159394,\n",
       "   'id': 'GOOGLE/DYNAMICWORLD/V1/20220809T135721_20220809T140519_T21HTD',\n",
       "   'properties': {'system:asset_size': 488200390,\n",
       "    'system:index': '20220809T135721_20220809T140519_T21HTD',\n",
       "    'system:time_start': 1660054316200,\n",
       "    'dynamicworld_algorithm_version': '3.5',\n",
       "    'system:footprint': {'type': 'Polygon',\n",
       "     'coordinates': [[[-59.285881778209585, -33.50486497057399],\n",
       "       [-59.28587800639682, -33.5048502436764],\n",
       "       [-59.285762193364874, -33.50041799177443],\n",
       "       [-59.5, -33.49999999999999],\n",
       "       [-59.5, -33.50079201293277],\n",
       "       [-59.28598809074636, -33.504930717859054],\n",
       "       [-59.28593739053188, -33.5048950339327],\n",
       "       [-59.285881778209585, -33.50486497057399]]]},\n",
       "    'qa_algorithm_version': '1'}},\n",
       "  {'type': 'Image',\n",
       "   'bands': [{'id': 'label',\n",
       "     'data_type': {'type': 'PixelType',\n",
       "      'precision': 'int',\n",
       "      'min': 0,\n",
       "      'max': 255},\n",
       "     'crs': 'EPSG:4326',\n",
       "     'crs_transform': [1, 0, 0, 0, 1, 0]}],\n",
       "   'version': 1729347261159394,\n",
       "   'id': 'GOOGLE/DYNAMICWORLD/V1/20230806T134709_20230806T135055_T21HTD',\n",
       "   'properties': {'system:asset_size': 1517542786,\n",
       "    'system:index': '20230806T134709_20230806T135055_T21HTD',\n",
       "    'system:time_start': 1691330513928,\n",
       "    'dynamicworld_algorithm_version': '3.5',\n",
       "    'system:footprint': {'type': 'Polygon',\n",
       "     'coordinates': [[[-59.05015031194384, -33.50899198200398],\n",
       "       [-59.05014663488527, -33.508977293942344],\n",
       "       [-59.049946838731664, -33.500451813599824],\n",
       "       [-59.5, -33.49999999999999],\n",
       "       [-59.5, -33.50078880340708],\n",
       "       [-59.05025650894517, -33.50905798942412],\n",
       "       [-59.05020590558097, -33.50902223689541],\n",
       "       [-59.05015031194384, -33.50899198200398]]]},\n",
       "    'qa_algorithm_version': '1'}},\n",
       "  {'type': 'Image',\n",
       "   'bands': [{'id': 'label',\n",
       "     'data_type': {'type': 'PixelType',\n",
       "      'precision': 'int',\n",
       "      'min': 0,\n",
       "      'max': 255},\n",
       "     'crs': 'EPSG:4326',\n",
       "     'crs_transform': [1, 0, 0, 0, 1, 0]}],\n",
       "   'version': 1729347261159394,\n",
       "   'id': 'GOOGLE/DYNAMICWORLD/V1/20240810T134709_20240810T140109_T21HTC',\n",
       "   'properties': {'system:asset_size': 2601493228,\n",
       "    'model_host': 'CAIP',\n",
       "    'system:index': '20240810T134709_20240810T140109_T21HTC',\n",
       "    'system:time_start': 1723298527473,\n",
       "    'dynamicworld_algorithm_version': '3.5',\n",
       "    'system:footprint': {'type': 'Polygon',\n",
       "     'coordinates': [[[-59.06189439208878, -34.00046418653865],\n",
       "       [-59.0598673270729, -33.91687670926022],\n",
       "       [-59.04995550747806, -33.500451820566816],\n",
       "       [-59.5, -33.49999999999999],\n",
       "       [-59.5, -34],\n",
       "       [-59.06189439208878, -34.00046418653865]]]},\n",
       "    'qa_algorithm_version': '1'}}]}"
      ]
     },
     "execution_count": 12,
     "metadata": {},
     "output_type": "execute_result"
    }
   ],
   "source": [
    "aoi = parana_delta\n",
    "dw_filtered = wxee.TimeSeries(\"GOOGLE/DYNAMICWORLD/V1\").filterDate(\"2014\", \"2026\").filterBounds(aoi).select(\"label\")\n",
    "\n",
    "def clip_image(image):\n",
    "    return image.clip(aoi)\n",
    "\n",
    "dw_filtered = dw_filtered.map(clip_image)\n",
    "\n",
    "dw_filtered.aggregate_time(\"year\", ee.Reducer.mode()).getInfo()"
   ]
  },
  {
   "cell_type": "code",
   "execution_count": null,
   "id": "c66cd916-80ae-4979-8570-cb40d2947830",
   "metadata": {},
   "outputs": [],
   "source": [
    "\"\"\"\n",
    "# Convert the result to an xarray dataset\n",
    "ds = yearly_dominant_class.wx.to_xarray(region=aoi, scale=30)\n",
    "\n",
    "# Retain only the 'dominant_class' band and ensure appropriate data formatting\n",
    "ds = ds[['dominant_class']]\n",
    "ds = ds.fillna(-1)\n",
    "ds = ds.clip(min=0, max=8)\n",
    "ds[\"dominant_class\"] = ds[\"dominant_class\"].astype(\"uint8\")\n",
    "ds[\"time\"] = ds[\"time\"].dt.strftime(\"%Y\")\n",
    "\n",
    "# Define the output directory and ensure it exists\n",
    "output_dir = r\"D:\\Factor-Data\\Tesina\\Tesina\\Validation\"\n",
    "os.makedirs(output_dir, exist_ok=True)\n",
    "\n",
    "# Compression settings\n",
    "encoding = {\"dominant_class\": {\"zlib\": True, \"complevel\": 5}}\n",
    "\n",
    "# Save the dataset as a NetCDF file\n",
    "output_file = os.path.join(output_dir, \"border_area_dominant_class.nc\")\n",
    "ds.to_netcdf(output_file, encoding=encoding)\n",
    "\n",
    "print(f\"Completed processing border area. Output saved to {output_file}\")\n",
    "\"\"\""
   ]
  },
  {
   "cell_type": "code",
   "execution_count": null,
   "id": "e3104e1f-850d-4c15-a736-db2d67e52b22",
   "metadata": {},
   "outputs": [],
   "source": [
    "# Assuming border_area is defined earlier in your code\n",
    "aoi = parana_delta\n",
    "\n",
    "# Define class names\n",
    "CLASS_NAMES = ['water', 'trees', 'grass', 'flooded_vegetation', 'crops', 'shrub_and_scrub', 'built', 'bare', 'snow_and_ice']\n",
    "\n",
    "# Filter and prepare the Dynamic World dataset\n",
    "dw_filtered = wxee.TimeSeries(\"GOOGLE/DYNAMICWORLD/V1\").filterDate(\"2014\", \"2026\").filterBounds(aoi)\n",
    "\n",
    "def clip_image(image):\n",
    "    return image.clip(aoi)\n",
    "\n",
    "dw_filtered = dw_filtered.map(clip_image)\n",
    "\n",
    "# Aggregate time series to yearly mean\n",
    "yearly_ts = dw_filtered.aggregate_time(\"year\", ee.Reducer.mean())\n",
    "\n",
    "# Convert to xarray\n",
    "ds = yearly_ts.wx.to_xarray(region=ee.Feature(aoi).geometry(), scale=30)\n",
    "\n",
    "# Ensure data types for coordinate variables\n",
    "ds[\"x\"] = ds[\"x\"].astype(\"float32\")\n",
    "ds[\"y\"] = ds[\"y\"].astype(\"float32\")\n",
    "ds[\"time\"] = ds[\"time\"].dt.strftime(\"%Y\")\n",
    "\n",
    "# Compute dominant class\n",
    "def compute_dominant_class(ds):\n",
    "    class_values = ds[CLASS_NAMES].to_array().values\n",
    "    dominant_class = np.argmax(class_values, axis=0)\n",
    "    return xr.DataArray(dominant_class, coords=ds.coords, dims=ds.dims)\n",
    "\n",
    "ds[\"label\"] = compute_dominant_class(ds)\n",
    "ds[\"label\"] = ds[\"label\"].astype(\"int8\")\n",
    "\n",
    "# Now fill NaN values and ensure data types\n",
    "ds = ds.fillna(-1)\n",
    "for band in CLASS_NAMES:\n",
    "    ds[band] = ds[band].clip(min=0, max=1)\n",
    "    ds[band] = ds[band].astype(\"float32\")\n",
    "\n",
    "ds[\"label\"] = ds[\"label\"].clip(min=-128, max=127)  # Ensure int8 range\n",
    "\n",
    "# Save to NetCDF\n",
    "ds.to_netcdf(r\"D:\\Factor-Data\\Tesina\\Tesina\\Validation\\parana_delta_mean_dominant.nc\")"
   ]
  },
  {
   "cell_type": "markdown",
   "id": "2eea259088c372ae",
   "metadata": {},
   "source": [
    "## Análisis"
   ]
  },
  {
   "cell_type": "code",
   "execution_count": null,
   "id": "7de3a877876bff83",
   "metadata": {},
   "outputs": [],
   "source": []
  }
 ],
 "metadata": {
  "kernelspec": {
   "display_name": "Python 3 (ipykernel)",
   "language": "python",
   "name": "python3"
  },
  "language_info": {
   "codemirror_mode": {
    "name": "ipython",
    "version": 3
   },
   "file_extension": ".py",
   "mimetype": "text/x-python",
   "name": "python",
   "nbconvert_exporter": "python",
   "pygments_lexer": "ipython3",
   "version": "3.8.19"
  }
 },
 "nbformat": 4,
 "nbformat_minor": 5
}
