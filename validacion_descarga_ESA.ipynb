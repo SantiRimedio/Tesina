{
 "cells": [
  {
   "cell_type": "code",
   "id": "initial_id",
   "metadata": {
    "collapsed": true,
    "ExecuteTime": {
     "end_time": "2024-11-10T23:34:54.406349Z",
     "start_time": "2024-11-10T23:34:54.400073Z"
    }
   },
   "source": [
    "import ee\n",
    "import geopandas as gpd\n",
    "import geemap\n",
    "import xarray as xr\n",
    "import wxee"
   ],
   "outputs": [
    {
     "data": {
      "text/plain": [
       "<IPython.core.display.HTML object>"
      ],
      "text/html": [
       "\n",
       "            <style>\n",
       "                .geemap-dark {\n",
       "                    --jp-widgets-color: white;\n",
       "                    --jp-widgets-label-color: white;\n",
       "                    --jp-ui-font-color1: white;\n",
       "                    --jp-layout-color2: #454545;\n",
       "                    background-color: #383838;\n",
       "                }\n",
       "\n",
       "                .geemap-dark .jupyter-button {\n",
       "                    --jp-layout-color3: #383838;\n",
       "                }\n",
       "\n",
       "                .geemap-colab {\n",
       "                    background-color: var(--colab-primary-surface-color, white);\n",
       "                }\n",
       "\n",
       "                .geemap-colab .jupyter-button {\n",
       "                    --jp-layout-color3: var(--colab-primary-surface-color, white);\n",
       "                }\n",
       "            </style>\n",
       "            "
      ]
     },
     "metadata": {},
     "output_type": "display_data"
    }
   ],
   "execution_count": 4
  },
  {
   "metadata": {
    "ExecuteTime": {
     "end_time": "2024-11-10T23:34:56.212190Z",
     "start_time": "2024-11-10T23:34:54.417599Z"
    }
   },
   "cell_type": "code",
   "source": [
    "ee.Authenticate()\n",
    "ee.Initialize(project='ee-nunezrimedio-tesina',opt_url='https://earthengine-highvolume.googleapis.com')"
   ],
   "id": "c15d4eb0ad849f90",
   "outputs": [
    {
     "data": {
      "text/plain": [
       "<IPython.core.display.HTML object>"
      ],
      "text/html": [
       "\n",
       "            <style>\n",
       "                .geemap-dark {\n",
       "                    --jp-widgets-color: white;\n",
       "                    --jp-widgets-label-color: white;\n",
       "                    --jp-ui-font-color1: white;\n",
       "                    --jp-layout-color2: #454545;\n",
       "                    background-color: #383838;\n",
       "                }\n",
       "\n",
       "                .geemap-dark .jupyter-button {\n",
       "                    --jp-layout-color3: #383838;\n",
       "                }\n",
       "\n",
       "                .geemap-colab {\n",
       "                    background-color: var(--colab-primary-surface-color, white);\n",
       "                }\n",
       "\n",
       "                .geemap-colab .jupyter-button {\n",
       "                    --jp-layout-color3: var(--colab-primary-surface-color, white);\n",
       "                }\n",
       "            </style>\n",
       "            "
      ]
     },
     "metadata": {},
     "output_type": "display_data"
    }
   ],
   "execution_count": 5
  },
  {
   "metadata": {
    "ExecuteTime": {
     "end_time": "2024-11-10T23:34:59.800448Z",
     "start_time": "2024-11-10T23:34:56.227575Z"
    }
   },
   "cell_type": "code",
   "source": [
    "import ee\n",
    "import geemap\n",
    "\n",
    "# Initialize Earth Engine\n",
    "ee.Initialize()\n",
    "\n",
    "def get_province_geometry(province_name):\n",
    "    provinces = ee.FeatureCollection(\"FAO/GAUL/2015/level1\")\n",
    "    return provinces.filter(ee.Filter.And(\n",
    "        ee.Filter.eq('ADM0_NAME', 'Argentina'),\n",
    "        ee.Filter.eq('ADM1_NAME', province_name)\n",
    "    )).first().geometry()\n",
    "\n",
    "# Get geometries for Santiago del Estero and Chaco\n",
    "santiago_geometry = get_province_geometry('Santiago Del Estero')\n",
    "chaco_geometry = get_province_geometry('Chaco')\n",
    "\n",
    "# Find an area on the border\n",
    "#border_area = santiago_geometry.intersection(chaco_geometry).centroid().buffer(3000).bounds()\n",
    "\n",
    "border_area = ee.Geometry.Polygon([\n",
    "    [\n",
    "        [-61.831221, -25.658720],    # Northwest corner\n",
    "        [-61.831221, -25.778083],    # Southwest corner\n",
    "        [-61.711858, -25.778083],    # Southeast corner\n",
    "        [-61.711858, -25.658720]     # Northeast corner\n",
    "    ]\n",
    "])\n",
    "\n",
    "\n",
    "parana_delta = ee.Geometry.Polygon(\n",
    "    [[[-59.5, -33.5],\n",
    "      [-59.5, -34.0],\n",
    "      [-58.8, -34.0],\n",
    "      [-58.8, -33.5]]])\n",
    "\n",
    "# Create a map centered on Argentina\n",
    "Map = geemap.Map(center=[-27, -62], zoom=6)\n",
    "\n",
    "# Add layers to the map\n",
    "Map.addLayer(border_area, {'color': 'FF0000', 'fillColor': 'FF000088'}, 'Border Area')\n",
    "Map.addLayer(parana_delta, {'color': '0000FF', 'fillColor': '0000FF88'}, 'Paraná Delta')\n",
    "\n",
    "# Display the map\n",
    "Map"
   ],
   "id": "5facb759c3680f89",
   "outputs": [
    {
     "data": {
      "text/plain": [
       "<IPython.core.display.HTML object>"
      ],
      "text/html": [
       "\n",
       "            <style>\n",
       "                .geemap-dark {\n",
       "                    --jp-widgets-color: white;\n",
       "                    --jp-widgets-label-color: white;\n",
       "                    --jp-ui-font-color1: white;\n",
       "                    --jp-layout-color2: #454545;\n",
       "                    background-color: #383838;\n",
       "                }\n",
       "\n",
       "                .geemap-dark .jupyter-button {\n",
       "                    --jp-layout-color3: #383838;\n",
       "                }\n",
       "\n",
       "                .geemap-colab {\n",
       "                    background-color: var(--colab-primary-surface-color, white);\n",
       "                }\n",
       "\n",
       "                .geemap-colab .jupyter-button {\n",
       "                    --jp-layout-color3: var(--colab-primary-surface-color, white);\n",
       "                }\n",
       "            </style>\n",
       "            "
      ]
     },
     "metadata": {},
     "output_type": "display_data"
    },
    {
     "data": {
      "text/plain": [
       "Map(center=[-27, -62], controls=(WidgetControl(options=['position', 'transparent_bg'], widget=SearchDataGUI(ch…"
      ],
      "application/vnd.jupyter.widget-view+json": {
       "version_major": 2,
       "version_minor": 0,
       "model_id": "eb61ed9d00f74a8cb906e0245bba8953"
      }
     },
     "execution_count": 6,
     "metadata": {},
     "output_type": "execute_result"
    }
   ],
   "execution_count": 6
  },
  {
   "metadata": {
    "ExecuteTime": {
     "end_time": "2024-11-10T23:35:12.536544Z",
     "start_time": "2024-11-10T23:34:59.814394Z"
    }
   },
   "cell_type": "code",
   "source": [
    "# Define your area of interest\n",
    "aoi = parana_delta\n",
    "\n",
    "# Get ESA WorldCover image and clip it to your area\n",
    "worldcover = ee.ImageCollection(\"ESA/WorldCover/v100\").first()  # Get the single image\n",
    "worldcover_clipped = worldcover.clip(aoi)\n",
    "\n",
    "# Add the wx accessor to the image and convert to xarray\n",
    "ds = worldcover_clipped.wx.to_xarray(region=ee.Feature(aoi).geometry(), scale=30)\n",
    "\n",
    "# Apply the same data processing\n",
    "ds = ds.fillna(-1)\n",
    "ds = ds.clip(min=-128, max=127)\n",
    "ds[\"Map\"] = ds[\"Map\"].astype(\"int8\")  # Note: using \"Map\" instead of \"label\" as that's the band name in WorldCover\n",
    "ds[\"x\"] = ds[\"x\"].astype(\"float32\")\n",
    "ds[\"y\"] = ds[\"y\"].astype(\"float32\")\n",
    "\n",
    "# Save to netCDF file\n",
    "ds.to_netcdf(r\"Data\\ESA\\parana_delta_worldcover.nc\")"
   ],
   "id": "9e42832fd88aac7e",
   "outputs": [
    {
     "data": {
      "text/plain": [
       "<IPython.core.display.HTML object>"
      ],
      "text/html": [
       "\n",
       "            <style>\n",
       "                .geemap-dark {\n",
       "                    --jp-widgets-color: white;\n",
       "                    --jp-widgets-label-color: white;\n",
       "                    --jp-ui-font-color1: white;\n",
       "                    --jp-layout-color2: #454545;\n",
       "                    background-color: #383838;\n",
       "                }\n",
       "\n",
       "                .geemap-dark .jupyter-button {\n",
       "                    --jp-layout-color3: #383838;\n",
       "                }\n",
       "\n",
       "                .geemap-colab {\n",
       "                    background-color: var(--colab-primary-surface-color, white);\n",
       "                }\n",
       "\n",
       "                .geemap-colab .jupyter-button {\n",
       "                    --jp-layout-color3: var(--colab-primary-surface-color, white);\n",
       "                }\n",
       "            </style>\n",
       "            "
      ]
     },
     "metadata": {},
     "output_type": "display_data"
    },
    {
     "data": {
      "text/plain": [
       "Downloading:   0%|          | 0.00/462k [00:00<?, ?iB/s]"
      ],
      "application/vnd.jupyter.widget-view+json": {
       "version_major": 2,
       "version_minor": 0,
       "model_id": "f5f59d6890754d67a19c08e0dbf62ac5"
      }
     },
     "metadata": {},
     "output_type": "display_data"
    }
   ],
   "execution_count": 7
  },
  {
   "metadata": {
    "ExecuteTime": {
     "end_time": "2024-11-10T23:35:16.409971Z",
     "start_time": "2024-11-10T23:35:12.561283Z"
    }
   },
   "cell_type": "code",
   "source": [
    "# Define your area of interest\n",
    "aoi = border_area\n",
    "\n",
    "# Get ESA WorldCover image and clip it to your area\n",
    "worldcover = ee.ImageCollection(\"ESA/WorldCover/v100\").first()  # Get the single image\n",
    "worldcover_clipped = worldcover.clip(aoi)\n",
    "\n",
    "# Add the wx accessor to the image and convert to xarray\n",
    "ds = worldcover_clipped.wx.to_xarray(region=ee.Feature(aoi).geometry(), scale=30)\n",
    "\n",
    "# Apply the same data processing\n",
    "ds = ds.fillna(-1)\n",
    "ds = ds.clip(min=-128, max=127)\n",
    "ds[\"Map\"] = ds[\"Map\"].astype(\"int8\")  # Note: using \"Map\" instead of \"label\" as that's the band name in WorldCover\n",
    "ds[\"x\"] = ds[\"x\"].astype(\"float32\")\n",
    "ds[\"y\"] = ds[\"y\"].astype(\"float32\")\n",
    "\n",
    "# Save to netCDF file\n",
    "ds.to_netcdf(r\"Data\\ESA\\border_area_worldcover.nc\")"
   ],
   "id": "6ea45a3c3308a4b3",
   "outputs": [
    {
     "data": {
      "text/plain": [
       "<IPython.core.display.HTML object>"
      ],
      "text/html": [
       "\n",
       "            <style>\n",
       "                .geemap-dark {\n",
       "                    --jp-widgets-color: white;\n",
       "                    --jp-widgets-label-color: white;\n",
       "                    --jp-ui-font-color1: white;\n",
       "                    --jp-layout-color2: #454545;\n",
       "                    background-color: #383838;\n",
       "                }\n",
       "\n",
       "                .geemap-dark .jupyter-button {\n",
       "                    --jp-layout-color3: #383838;\n",
       "                }\n",
       "\n",
       "                .geemap-colab {\n",
       "                    background-color: var(--colab-primary-surface-color, white);\n",
       "                }\n",
       "\n",
       "                .geemap-colab .jupyter-button {\n",
       "                    --jp-layout-color3: var(--colab-primary-surface-color, white);\n",
       "                }\n",
       "            </style>\n",
       "            "
      ]
     },
     "metadata": {},
     "output_type": "display_data"
    },
    {
     "data": {
      "text/plain": [
       "Downloading:   0%|          | 0.00/3.41k [00:00<?, ?iB/s]"
      ],
      "application/vnd.jupyter.widget-view+json": {
       "version_major": 2,
       "version_minor": 0,
       "model_id": "ee860976c3e64122bfece51b6452acb3"
      }
     },
     "metadata": {},
     "output_type": "display_data"
    }
   ],
   "execution_count": 8
  }
 ],
 "metadata": {
  "kernelspec": {
   "display_name": "Python 3",
   "language": "python",
   "name": "python3"
  },
  "language_info": {
   "codemirror_mode": {
    "name": "ipython",
    "version": 2
   },
   "file_extension": ".py",
   "mimetype": "text/x-python",
   "name": "python",
   "nbconvert_exporter": "python",
   "pygments_lexer": "ipython2",
   "version": "2.7.6"
  }
 },
 "nbformat": 4,
 "nbformat_minor": 5
}
